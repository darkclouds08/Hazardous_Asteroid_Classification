{
 "cells": [
  {
   "attachments": {},
   "cell_type": "markdown",
   "metadata": {
    "papermill": {
     "duration": 0.061378,
     "end_time": "2020-09-28T14:43:15.155600",
     "exception": false,
     "start_time": "2020-09-28T14:43:15.094222",
     "status": "completed"
    },
    "tags": []
   },
   "source": [
    "This notebook explores the [NASA JPL Asteroid Dataset](https://www.kaggle.com/sakhawat18/asteroid-dataset) using machine learning techniques to create a model to predict whether asteoirds are potentially hazardous or not. The notebook covers the following aspects of machine learning:\n",
    "1. Data Exploration\n",
    "2. Data Wrangling\n",
    "3. Data Preprocessing\n",
    "4. ML Model Developing\n",
    "5. Conclusion"
   ]
  },
  {
   "cell_type": "code",
   "execution_count": 1,
   "metadata": {
    "_cell_guid": "b1076dfc-b9ad-4769-8c92-a6c4dae69d19",
    "_uuid": "8f2839f25d086af736a60e9eeb907d3b93b6e0e5",
    "execution": {
     "iopub.execute_input": "2020-09-28T14:43:15.279254Z",
     "iopub.status.busy": "2020-09-28T14:43:15.278583Z",
     "iopub.status.idle": "2020-09-28T14:43:16.526824Z",
     "shell.execute_reply": "2020-09-28T14:43:16.527688Z"
    },
    "papermill": {
     "duration": 1.31175,
     "end_time": "2020-09-28T14:43:16.527920",
     "exception": false,
     "start_time": "2020-09-28T14:43:15.216170",
     "status": "completed"
    },
    "tags": []
   },
   "outputs": [],
   "source": [
    "import numpy as np # linear algebra\n",
    "import pandas as pd # data processing, CSV file I/O (e.g. pd.read_csv)\n",
    "import matplotlib.pyplot as plt\n",
    "import seaborn as sns\n",
    "from sklearn import metrics \n",
    "from sklearn.metrics import confusion_matrix\n",
    "\n",
    "import os\n",
    "for dirname, _, filenames in os.walk('/kaggle/input'):\n",
    "    for filename in filenames:\n",
    "        print(os.path.join(dirname, filename))"
   ]
  },
  {
   "cell_type": "code",
   "execution_count": 2,
   "metadata": {
    "_cell_guid": "79c7e3d0-c299-4dcb-8224-4455121ee9b0",
    "_uuid": "d629ff2d2480ee46fbb7e2d37f6b5fab8052498a",
    "execution": {
     "iopub.execute_input": "2020-09-28T14:43:16.658627Z",
     "iopub.status.busy": "2020-09-28T14:43:16.657971Z",
     "iopub.status.idle": "2020-09-28T14:43:25.325829Z",
     "shell.execute_reply": "2020-09-28T14:43:25.326545Z"
    },
    "papermill": {
     "duration": 8.73578,
     "end_time": "2020-09-28T14:43:25.326707",
     "exception": false,
     "start_time": "2020-09-28T14:43:16.590927",
     "status": "completed"
    },
    "tags": []
   },
   "outputs": [
    {
     "name": "stderr",
     "output_type": "stream",
     "text": [
      "c:\\Users\\muhil\\anaconda3\\lib\\site-packages\\IPython\\core\\interactiveshell.py:3444: DtypeWarning: Columns (3,4,5) have mixed types.Specify dtype option on import or set low_memory=False.\n",
      "  exec(code_obj, self.user_global_ns, self.user_ns)\n"
     ]
    }
   ],
   "source": [
    "# Import data to dataframe\n",
    "data = pd.read_csv('dataset.csv')"
   ]
  },
  {
   "attachments": {},
   "cell_type": "markdown",
   "metadata": {
    "papermill": {
     "duration": 0.061496,
     "end_time": "2020-09-28T14:43:25.450009",
     "exception": false,
     "start_time": "2020-09-28T14:43:25.388513",
     "status": "completed"
    },
    "tags": []
   },
   "source": [
    "# 1. Data Exploration"
   ]
  },
  {
   "attachments": {},
   "cell_type": "markdown",
   "metadata": {
    "papermill": {
     "duration": 0.061524,
     "end_time": "2020-09-28T14:43:25.573390",
     "exception": false,
     "start_time": "2020-09-28T14:43:25.511866",
     "status": "completed"
    },
    "tags": []
   },
   "source": [
    "In this section we shall explore the columns of the dataframe and analyse them accordingly."
   ]
  },
  {
   "attachments": {},
   "cell_type": "markdown",
   "metadata": {
    "papermill": {
     "duration": 0.061453,
     "end_time": "2020-09-28T14:43:25.696385",
     "exception": false,
     "start_time": "2020-09-28T14:43:25.634932",
     "status": "completed"
    },
    "tags": []
   },
   "source": [
    "### Basic Column Definition from the [JPL website](https://ssd.jpl.nasa.gov/sbdb_query.cgi)\n",
    "* SPK-ID: Object primary SPK-ID\n",
    "* Object ID: Object internal database ID\n",
    "* Object fullname: Object full name/designation\n",
    "* pdes: Object primary designation\n",
    "* name: Object IAU name\n",
    "* NEO: Near-Earth Object (NEO) flag\n",
    "* PHA: Potentially Hazardous Asteroid (PHA) flag\n",
    "* H: Absolute magnitude parameter\n",
    "* Diameter: object diameter (from equivalent sphere) km Unit\n",
    "* Albedo: Geometric albedo\n",
    "* Diameter_sigma: 1-sigma uncertainty in object diameter km Unit\n",
    "* Orbit_id: Orbit solution ID\n",
    "* Epoch: Epoch of osculation in modified Julian day form\n",
    "* Equinox: Equinox of reference frame\n",
    "* e: Eccentricity\n",
    "* a: Semi-major axis au Unit\n",
    "* q: perihelion distance au Unit\n",
    "* i: inclination; angle with respect to x-y ecliptic plane\n",
    "* tp: Time of perihelion passage TDB Unit\n",
    "* moid_ld: Earth Minimum Orbit Intersection Distance au Unit"
   ]
  },
  {
   "cell_type": "code",
   "execution_count": 3,
   "metadata": {
    "execution": {
     "iopub.execute_input": "2020-09-28T14:43:25.824609Z",
     "iopub.status.busy": "2020-09-28T14:43:25.823639Z",
     "iopub.status.idle": "2020-09-28T14:43:25.886310Z",
     "shell.execute_reply": "2020-09-28T14:43:25.885635Z"
    },
    "papermill": {
     "duration": 0.128099,
     "end_time": "2020-09-28T14:43:25.886423",
     "exception": false,
     "start_time": "2020-09-28T14:43:25.758324",
     "status": "completed"
    },
    "tags": []
   },
   "outputs": [
    {
     "data": {
      "text/html": [
       "<div>\n",
       "<style scoped>\n",
       "    .dataframe tbody tr th:only-of-type {\n",
       "        vertical-align: middle;\n",
       "    }\n",
       "\n",
       "    .dataframe tbody tr th {\n",
       "        vertical-align: top;\n",
       "    }\n",
       "\n",
       "    .dataframe thead th {\n",
       "        text-align: right;\n",
       "    }\n",
       "</style>\n",
       "<table border=\"1\" class=\"dataframe\">\n",
       "  <thead>\n",
       "    <tr style=\"text-align: right;\">\n",
       "      <th></th>\n",
       "      <th>id</th>\n",
       "      <th>spkid</th>\n",
       "      <th>full_name</th>\n",
       "      <th>pdes</th>\n",
       "      <th>name</th>\n",
       "      <th>prefix</th>\n",
       "      <th>neo</th>\n",
       "      <th>pha</th>\n",
       "      <th>H</th>\n",
       "      <th>diameter</th>\n",
       "      <th>albedo</th>\n",
       "      <th>diameter_sigma</th>\n",
       "      <th>orbit_id</th>\n",
       "      <th>epoch</th>\n",
       "      <th>epoch_mjd</th>\n",
       "      <th>epoch_cal</th>\n",
       "      <th>equinox</th>\n",
       "      <th>e</th>\n",
       "      <th>a</th>\n",
       "      <th>q</th>\n",
       "      <th>i</th>\n",
       "      <th>om</th>\n",
       "      <th>w</th>\n",
       "      <th>ma</th>\n",
       "      <th>ad</th>\n",
       "      <th>n</th>\n",
       "      <th>tp</th>\n",
       "      <th>tp_cal</th>\n",
       "      <th>per</th>\n",
       "      <th>per_y</th>\n",
       "      <th>moid</th>\n",
       "      <th>moid_ld</th>\n",
       "      <th>sigma_e</th>\n",
       "      <th>sigma_a</th>\n",
       "      <th>sigma_q</th>\n",
       "      <th>sigma_i</th>\n",
       "      <th>sigma_om</th>\n",
       "      <th>sigma_w</th>\n",
       "      <th>sigma_ma</th>\n",
       "      <th>sigma_ad</th>\n",
       "      <th>sigma_n</th>\n",
       "      <th>sigma_tp</th>\n",
       "      <th>sigma_per</th>\n",
       "      <th>class</th>\n",
       "      <th>cal</th>\n",
       "    </tr>\n",
       "  </thead>\n",
       "  <tbody>\n",
       "    <tr>\n",
       "      <th>0</th>\n",
       "      <td>a0000001</td>\n",
       "      <td>2000001</td>\n",
       "      <td>1 Ceres</td>\n",
       "      <td>1</td>\n",
       "      <td>Ceres</td>\n",
       "      <td>NaN</td>\n",
       "      <td>N</td>\n",
       "      <td>N</td>\n",
       "      <td>3.40</td>\n",
       "      <td>939.400</td>\n",
       "      <td>0.0900</td>\n",
       "      <td>0.200</td>\n",
       "      <td>JPL 47</td>\n",
       "      <td>2458600.5</td>\n",
       "      <td>58600</td>\n",
       "      <td>20190427</td>\n",
       "      <td>J2000</td>\n",
       "      <td>0.076009</td>\n",
       "      <td>2.769165</td>\n",
       "      <td>2.558684</td>\n",
       "      <td>10.594067</td>\n",
       "      <td>80.305531</td>\n",
       "      <td>73.597695</td>\n",
       "      <td>77.372098</td>\n",
       "      <td>2.979647</td>\n",
       "      <td>0.213885</td>\n",
       "      <td>2458238.754</td>\n",
       "      <td>20180430.25</td>\n",
       "      <td>1683.145703</td>\n",
       "      <td>4.608202</td>\n",
       "      <td>1.59478</td>\n",
       "      <td>620.640533</td>\n",
       "      <td>4.820000e-12</td>\n",
       "      <td>1.030000e-11</td>\n",
       "      <td>1.960000e-11</td>\n",
       "      <td>4.610000e-09</td>\n",
       "      <td>6.170000e-08</td>\n",
       "      <td>6.620000e-08</td>\n",
       "      <td>7.820000e-09</td>\n",
       "      <td>1.110000e-11</td>\n",
       "      <td>1.200000e-12</td>\n",
       "      <td>3.780000e-08</td>\n",
       "      <td>9.420000e-09</td>\n",
       "      <td>MBA</td>\n",
       "      <td>0.43301</td>\n",
       "    </tr>\n",
       "    <tr>\n",
       "      <th>1</th>\n",
       "      <td>a0000002</td>\n",
       "      <td>2000002</td>\n",
       "      <td>2 Pallas</td>\n",
       "      <td>2</td>\n",
       "      <td>Pallas</td>\n",
       "      <td>NaN</td>\n",
       "      <td>N</td>\n",
       "      <td>N</td>\n",
       "      <td>4.20</td>\n",
       "      <td>545.000</td>\n",
       "      <td>0.1010</td>\n",
       "      <td>18.000</td>\n",
       "      <td>JPL 37</td>\n",
       "      <td>2459000.5</td>\n",
       "      <td>59000</td>\n",
       "      <td>20200531</td>\n",
       "      <td>J2000</td>\n",
       "      <td>0.229972</td>\n",
       "      <td>2.773841</td>\n",
       "      <td>2.135935</td>\n",
       "      <td>34.832932</td>\n",
       "      <td>173.024741</td>\n",
       "      <td>310.202392</td>\n",
       "      <td>144.975675</td>\n",
       "      <td>3.411748</td>\n",
       "      <td>0.213345</td>\n",
       "      <td>2458320.962</td>\n",
       "      <td>20180721.46</td>\n",
       "      <td>1687.410992</td>\n",
       "      <td>4.619880</td>\n",
       "      <td>1.23429</td>\n",
       "      <td>480.348639</td>\n",
       "      <td>3.190000e-08</td>\n",
       "      <td>4.030000e-09</td>\n",
       "      <td>8.830000e-08</td>\n",
       "      <td>3.470000e-06</td>\n",
       "      <td>6.270000e-06</td>\n",
       "      <td>9.130000e-06</td>\n",
       "      <td>8.860000e-06</td>\n",
       "      <td>4.960000e-09</td>\n",
       "      <td>4.650000e-10</td>\n",
       "      <td>4.080000e-05</td>\n",
       "      <td>3.680000e-06</td>\n",
       "      <td>MBA</td>\n",
       "      <td>0.35936</td>\n",
       "    </tr>\n",
       "    <tr>\n",
       "      <th>2</th>\n",
       "      <td>a0000003</td>\n",
       "      <td>2000003</td>\n",
       "      <td>3 Juno</td>\n",
       "      <td>3</td>\n",
       "      <td>Juno</td>\n",
       "      <td>NaN</td>\n",
       "      <td>N</td>\n",
       "      <td>N</td>\n",
       "      <td>5.33</td>\n",
       "      <td>246.596</td>\n",
       "      <td>0.2140</td>\n",
       "      <td>10.594</td>\n",
       "      <td>JPL 112</td>\n",
       "      <td>2459000.5</td>\n",
       "      <td>59000</td>\n",
       "      <td>20200531</td>\n",
       "      <td>J2000</td>\n",
       "      <td>0.256936</td>\n",
       "      <td>2.668285</td>\n",
       "      <td>1.982706</td>\n",
       "      <td>12.991043</td>\n",
       "      <td>169.851483</td>\n",
       "      <td>248.066193</td>\n",
       "      <td>125.435355</td>\n",
       "      <td>3.353865</td>\n",
       "      <td>0.226129</td>\n",
       "      <td>2458445.792</td>\n",
       "      <td>20181123.29</td>\n",
       "      <td>1592.013769</td>\n",
       "      <td>4.358696</td>\n",
       "      <td>1.03429</td>\n",
       "      <td>402.514639</td>\n",
       "      <td>3.050000e-08</td>\n",
       "      <td>3.470000e-09</td>\n",
       "      <td>8.140000e-08</td>\n",
       "      <td>3.220000e-06</td>\n",
       "      <td>1.660000e-05</td>\n",
       "      <td>1.770000e-05</td>\n",
       "      <td>8.110000e-06</td>\n",
       "      <td>4.360000e-09</td>\n",
       "      <td>4.410000e-10</td>\n",
       "      <td>3.530000e-05</td>\n",
       "      <td>3.110000e-06</td>\n",
       "      <td>MBA</td>\n",
       "      <td>0.33848</td>\n",
       "    </tr>\n",
       "    <tr>\n",
       "      <th>3</th>\n",
       "      <td>a0000004</td>\n",
       "      <td>2000004</td>\n",
       "      <td>4 Vesta</td>\n",
       "      <td>4</td>\n",
       "      <td>Vesta</td>\n",
       "      <td>NaN</td>\n",
       "      <td>N</td>\n",
       "      <td>N</td>\n",
       "      <td>3.00</td>\n",
       "      <td>525.400</td>\n",
       "      <td>0.4228</td>\n",
       "      <td>0.200</td>\n",
       "      <td>JPL 35</td>\n",
       "      <td>2458600.5</td>\n",
       "      <td>58600</td>\n",
       "      <td>20190427</td>\n",
       "      <td>J2000</td>\n",
       "      <td>0.088721</td>\n",
       "      <td>2.361418</td>\n",
       "      <td>2.151909</td>\n",
       "      <td>7.141771</td>\n",
       "      <td>103.810804</td>\n",
       "      <td>150.728541</td>\n",
       "      <td>95.861938</td>\n",
       "      <td>2.570926</td>\n",
       "      <td>0.271609</td>\n",
       "      <td>2458247.560</td>\n",
       "      <td>20180509.06</td>\n",
       "      <td>1325.432763</td>\n",
       "      <td>3.628837</td>\n",
       "      <td>1.13948</td>\n",
       "      <td>443.451432</td>\n",
       "      <td>2.330000e-10</td>\n",
       "      <td>1.510000e-09</td>\n",
       "      <td>1.930000e-09</td>\n",
       "      <td>2.170000e-07</td>\n",
       "      <td>3.880000e-07</td>\n",
       "      <td>1.790000e-07</td>\n",
       "      <td>1.210000e-06</td>\n",
       "      <td>1.650000e-09</td>\n",
       "      <td>2.610000e-10</td>\n",
       "      <td>4.100000e-06</td>\n",
       "      <td>1.270000e-06</td>\n",
       "      <td>MBA</td>\n",
       "      <td>0.39980</td>\n",
       "    </tr>\n",
       "    <tr>\n",
       "      <th>4</th>\n",
       "      <td>a0000005</td>\n",
       "      <td>2000005</td>\n",
       "      <td>5 Astraea</td>\n",
       "      <td>5</td>\n",
       "      <td>Astraea</td>\n",
       "      <td>NaN</td>\n",
       "      <td>N</td>\n",
       "      <td>N</td>\n",
       "      <td>6.90</td>\n",
       "      <td>106.699</td>\n",
       "      <td>0.2740</td>\n",
       "      <td>3.140</td>\n",
       "      <td>JPL 114</td>\n",
       "      <td>2459000.5</td>\n",
       "      <td>59000</td>\n",
       "      <td>20200531</td>\n",
       "      <td>J2000</td>\n",
       "      <td>0.190913</td>\n",
       "      <td>2.574037</td>\n",
       "      <td>2.082619</td>\n",
       "      <td>5.367427</td>\n",
       "      <td>141.571026</td>\n",
       "      <td>358.648418</td>\n",
       "      <td>17.846343</td>\n",
       "      <td>3.065455</td>\n",
       "      <td>0.238661</td>\n",
       "      <td>2458925.723</td>\n",
       "      <td>20200317.22</td>\n",
       "      <td>1508.414421</td>\n",
       "      <td>4.129814</td>\n",
       "      <td>1.09575</td>\n",
       "      <td>426.433027</td>\n",
       "      <td>2.370000e-08</td>\n",
       "      <td>3.970000e-09</td>\n",
       "      <td>6.090000e-08</td>\n",
       "      <td>2.740000e-06</td>\n",
       "      <td>2.890000e-05</td>\n",
       "      <td>2.980000e-05</td>\n",
       "      <td>8.300000e-06</td>\n",
       "      <td>4.730000e-09</td>\n",
       "      <td>5.520000e-10</td>\n",
       "      <td>3.470000e-05</td>\n",
       "      <td>3.490000e-06</td>\n",
       "      <td>MBA</td>\n",
       "      <td>0.52191</td>\n",
       "    </tr>\n",
       "  </tbody>\n",
       "</table>\n",
       "</div>"
      ],
      "text/plain": [
       "         id    spkid       full_name pdes     name prefix neo pha     H  \\\n",
       "0  a0000001  2000001         1 Ceres    1    Ceres    NaN   N   N  3.40   \n",
       "1  a0000002  2000002        2 Pallas    2   Pallas    NaN   N   N  4.20   \n",
       "2  a0000003  2000003          3 Juno    3     Juno    NaN   N   N  5.33   \n",
       "3  a0000004  2000004         4 Vesta    4    Vesta    NaN   N   N  3.00   \n",
       "4  a0000005  2000005       5 Astraea    5  Astraea    NaN   N   N  6.90   \n",
       "\n",
       "   diameter  albedo  diameter_sigma orbit_id      epoch  epoch_mjd  epoch_cal  \\\n",
       "0   939.400  0.0900           0.200   JPL 47  2458600.5      58600   20190427   \n",
       "1   545.000  0.1010          18.000   JPL 37  2459000.5      59000   20200531   \n",
       "2   246.596  0.2140          10.594  JPL 112  2459000.5      59000   20200531   \n",
       "3   525.400  0.4228           0.200   JPL 35  2458600.5      58600   20190427   \n",
       "4   106.699  0.2740           3.140  JPL 114  2459000.5      59000   20200531   \n",
       "\n",
       "  equinox         e         a         q          i          om           w  \\\n",
       "0   J2000  0.076009  2.769165  2.558684  10.594067   80.305531   73.597695   \n",
       "1   J2000  0.229972  2.773841  2.135935  34.832932  173.024741  310.202392   \n",
       "2   J2000  0.256936  2.668285  1.982706  12.991043  169.851483  248.066193   \n",
       "3   J2000  0.088721  2.361418  2.151909   7.141771  103.810804  150.728541   \n",
       "4   J2000  0.190913  2.574037  2.082619   5.367427  141.571026  358.648418   \n",
       "\n",
       "           ma        ad         n           tp       tp_cal          per  \\\n",
       "0   77.372098  2.979647  0.213885  2458238.754  20180430.25  1683.145703   \n",
       "1  144.975675  3.411748  0.213345  2458320.962  20180721.46  1687.410992   \n",
       "2  125.435355  3.353865  0.226129  2458445.792  20181123.29  1592.013769   \n",
       "3   95.861938  2.570926  0.271609  2458247.560  20180509.06  1325.432763   \n",
       "4   17.846343  3.065455  0.238661  2458925.723  20200317.22  1508.414421   \n",
       "\n",
       "      per_y     moid     moid_ld       sigma_e       sigma_a       sigma_q  \\\n",
       "0  4.608202  1.59478  620.640533  4.820000e-12  1.030000e-11  1.960000e-11   \n",
       "1  4.619880  1.23429  480.348639  3.190000e-08  4.030000e-09  8.830000e-08   \n",
       "2  4.358696  1.03429  402.514639  3.050000e-08  3.470000e-09  8.140000e-08   \n",
       "3  3.628837  1.13948  443.451432  2.330000e-10  1.510000e-09  1.930000e-09   \n",
       "4  4.129814  1.09575  426.433027  2.370000e-08  3.970000e-09  6.090000e-08   \n",
       "\n",
       "        sigma_i      sigma_om       sigma_w      sigma_ma      sigma_ad  \\\n",
       "0  4.610000e-09  6.170000e-08  6.620000e-08  7.820000e-09  1.110000e-11   \n",
       "1  3.470000e-06  6.270000e-06  9.130000e-06  8.860000e-06  4.960000e-09   \n",
       "2  3.220000e-06  1.660000e-05  1.770000e-05  8.110000e-06  4.360000e-09   \n",
       "3  2.170000e-07  3.880000e-07  1.790000e-07  1.210000e-06  1.650000e-09   \n",
       "4  2.740000e-06  2.890000e-05  2.980000e-05  8.300000e-06  4.730000e-09   \n",
       "\n",
       "        sigma_n      sigma_tp     sigma_per class      cal  \n",
       "0  1.200000e-12  3.780000e-08  9.420000e-09   MBA  0.43301  \n",
       "1  4.650000e-10  4.080000e-05  3.680000e-06   MBA  0.35936  \n",
       "2  4.410000e-10  3.530000e-05  3.110000e-06   MBA  0.33848  \n",
       "3  2.610000e-10  4.100000e-06  1.270000e-06   MBA  0.39980  \n",
       "4  5.520000e-10  3.470000e-05  3.490000e-06   MBA  0.52191  "
      ]
     },
     "execution_count": 3,
     "metadata": {},
     "output_type": "execute_result"
    }
   ],
   "source": [
    "pd.set_option('display.max_columns', 500)\n",
    "data.head()"
   ]
  },
  {
   "cell_type": "code",
   "execution_count": 4,
   "metadata": {
    "execution": {
     "iopub.execute_input": "2020-09-28T14:43:26.019526Z",
     "iopub.status.busy": "2020-09-28T14:43:26.018816Z",
     "iopub.status.idle": "2020-09-28T14:43:26.023417Z",
     "shell.execute_reply": "2020-09-28T14:43:26.022920Z"
    },
    "papermill": {
     "duration": 0.072949,
     "end_time": "2020-09-28T14:43:26.023576",
     "exception": false,
     "start_time": "2020-09-28T14:43:25.950627",
     "status": "completed"
    },
    "tags": []
   },
   "outputs": [
    {
     "data": {
      "text/plain": [
       "Index(['id', 'spkid', 'full_name', 'pdes', 'name', 'prefix', 'neo', 'pha', 'H',\n",
       "       'diameter', 'albedo', 'diameter_sigma', 'orbit_id', 'epoch',\n",
       "       'epoch_mjd', 'epoch_cal', 'equinox', 'e', 'a', 'q', 'i', 'om', 'w',\n",
       "       'ma', 'ad', 'n', 'tp', 'tp_cal', 'per', 'per_y', 'moid', 'moid_ld',\n",
       "       'sigma_e', 'sigma_a', 'sigma_q', 'sigma_i', 'sigma_om', 'sigma_w',\n",
       "       'sigma_ma', 'sigma_ad', 'sigma_n', 'sigma_tp', 'sigma_per', 'class',\n",
       "       'cal'],\n",
       "      dtype='object')"
      ]
     },
     "execution_count": 4,
     "metadata": {},
     "output_type": "execute_result"
    }
   ],
   "source": [
    "data.columns"
   ]
  },
  {
   "cell_type": "code",
   "execution_count": 5,
   "metadata": {
    "execution": {
     "iopub.execute_input": "2020-09-28T14:43:26.243225Z",
     "iopub.status.busy": "2020-09-28T14:43:26.242585Z",
     "iopub.status.idle": "2020-09-28T14:43:27.510789Z",
     "shell.execute_reply": "2020-09-28T14:43:27.510068Z"
    },
    "papermill": {
     "duration": 1.424085,
     "end_time": "2020-09-28T14:43:27.510914",
     "exception": false,
     "start_time": "2020-09-28T14:43:26.086829",
     "status": "completed"
    },
    "tags": []
   },
   "outputs": [
    {
     "data": {
      "text/html": [
       "<div>\n",
       "<style scoped>\n",
       "    .dataframe tbody tr th:only-of-type {\n",
       "        vertical-align: middle;\n",
       "    }\n",
       "\n",
       "    .dataframe tbody tr th {\n",
       "        vertical-align: top;\n",
       "    }\n",
       "\n",
       "    .dataframe thead th {\n",
       "        text-align: right;\n",
       "    }\n",
       "</style>\n",
       "<table border=\"1\" class=\"dataframe\">\n",
       "  <thead>\n",
       "    <tr style=\"text-align: right;\">\n",
       "      <th></th>\n",
       "      <th>spkid</th>\n",
       "      <th>H</th>\n",
       "      <th>diameter</th>\n",
       "      <th>albedo</th>\n",
       "      <th>diameter_sigma</th>\n",
       "      <th>epoch</th>\n",
       "      <th>epoch_mjd</th>\n",
       "      <th>epoch_cal</th>\n",
       "      <th>e</th>\n",
       "      <th>a</th>\n",
       "      <th>q</th>\n",
       "      <th>i</th>\n",
       "      <th>om</th>\n",
       "      <th>w</th>\n",
       "      <th>ma</th>\n",
       "      <th>ad</th>\n",
       "      <th>n</th>\n",
       "      <th>tp</th>\n",
       "      <th>tp_cal</th>\n",
       "      <th>per</th>\n",
       "      <th>per_y</th>\n",
       "      <th>moid</th>\n",
       "      <th>moid_ld</th>\n",
       "      <th>sigma_e</th>\n",
       "      <th>sigma_a</th>\n",
       "      <th>sigma_q</th>\n",
       "      <th>sigma_i</th>\n",
       "      <th>sigma_om</th>\n",
       "      <th>sigma_w</th>\n",
       "      <th>sigma_ma</th>\n",
       "      <th>sigma_ad</th>\n",
       "      <th>sigma_n</th>\n",
       "      <th>sigma_tp</th>\n",
       "      <th>sigma_per</th>\n",
       "      <th>cal</th>\n",
       "    </tr>\n",
       "  </thead>\n",
       "  <tbody>\n",
       "    <tr>\n",
       "      <th>count</th>\n",
       "      <td>9.585240e+05</td>\n",
       "      <td>952261.000000</td>\n",
       "      <td>136209.000000</td>\n",
       "      <td>135103.000000</td>\n",
       "      <td>136081.000000</td>\n",
       "      <td>9.585240e+05</td>\n",
       "      <td>958524.000000</td>\n",
       "      <td>9.585240e+05</td>\n",
       "      <td>958524.000000</td>\n",
       "      <td>958524.000000</td>\n",
       "      <td>958524.000000</td>\n",
       "      <td>958524.000000</td>\n",
       "      <td>958524.000000</td>\n",
       "      <td>958524.000000</td>\n",
       "      <td>958523.000000</td>\n",
       "      <td>958520.000000</td>\n",
       "      <td>9.585240e+05</td>\n",
       "      <td>9.585240e+05</td>\n",
       "      <td>9.585240e+05</td>\n",
       "      <td>9.585200e+05</td>\n",
       "      <td>9.585230e+05</td>\n",
       "      <td>9.386030e+05</td>\n",
       "      <td>958397.000000</td>\n",
       "      <td>9.386020e+05</td>\n",
       "      <td>9.386020e+05</td>\n",
       "      <td>9.386020e+05</td>\n",
       "      <td>9.386020e+05</td>\n",
       "      <td>9.386020e+05</td>\n",
       "      <td>9.386020e+05</td>\n",
       "      <td>9.386020e+05</td>\n",
       "      <td>9.385980e+05</td>\n",
       "      <td>9.386020e+05</td>\n",
       "      <td>9.386020e+05</td>\n",
       "      <td>9.385980e+05</td>\n",
       "      <td>958522.000000</td>\n",
       "    </tr>\n",
       "    <tr>\n",
       "      <th>mean</th>\n",
       "      <td>3.810114e+06</td>\n",
       "      <td>16.906411</td>\n",
       "      <td>5.506429</td>\n",
       "      <td>0.130627</td>\n",
       "      <td>0.479184</td>\n",
       "      <td>2.458869e+06</td>\n",
       "      <td>58868.781950</td>\n",
       "      <td>2.019693e+07</td>\n",
       "      <td>0.156116</td>\n",
       "      <td>2.902143</td>\n",
       "      <td>2.394887</td>\n",
       "      <td>9.054901</td>\n",
       "      <td>168.456416</td>\n",
       "      <td>181.369457</td>\n",
       "      <td>177.352582</td>\n",
       "      <td>3.455820</td>\n",
       "      <td>2.366846e-01</td>\n",
       "      <td>2.458856e+06</td>\n",
       "      <td>2.019581e+07</td>\n",
       "      <td>5.085344e+03</td>\n",
       "      <td>1.392287e+01</td>\n",
       "      <td>1.415162e+00</td>\n",
       "      <td>539.364207</td>\n",
       "      <td>7.262721e-01</td>\n",
       "      <td>1.541424e+01</td>\n",
       "      <td>1.983462e+01</td>\n",
       "      <td>1.168449e+00</td>\n",
       "      <td>5.310234e+00</td>\n",
       "      <td>1.370627e+06</td>\n",
       "      <td>1.370582e+06</td>\n",
       "      <td>2.131453e+01</td>\n",
       "      <td>5.060221e-02</td>\n",
       "      <td>4.309478e+08</td>\n",
       "      <td>8.527486e+04</td>\n",
       "      <td>0.561153</td>\n",
       "    </tr>\n",
       "    <tr>\n",
       "      <th>std</th>\n",
       "      <td>6.831541e+06</td>\n",
       "      <td>1.790405</td>\n",
       "      <td>9.425164</td>\n",
       "      <td>0.110323</td>\n",
       "      <td>0.782895</td>\n",
       "      <td>7.016716e+02</td>\n",
       "      <td>701.671573</td>\n",
       "      <td>1.930354e+04</td>\n",
       "      <td>0.092643</td>\n",
       "      <td>39.719503</td>\n",
       "      <td>2.139246</td>\n",
       "      <td>6.637656</td>\n",
       "      <td>102.881707</td>\n",
       "      <td>103.887995</td>\n",
       "      <td>105.816844</td>\n",
       "      <td>71.769401</td>\n",
       "      <td>7.941705e-02</td>\n",
       "      <td>1.580506e+03</td>\n",
       "      <td>4.337669e+04</td>\n",
       "      <td>2.308961e+06</td>\n",
       "      <td>6.321581e+03</td>\n",
       "      <td>2.156731e+00</td>\n",
       "      <td>834.306975</td>\n",
       "      <td>9.336391e+01</td>\n",
       "      <td>4.392381e+03</td>\n",
       "      <td>2.905651e+03</td>\n",
       "      <td>1.282231e+02</td>\n",
       "      <td>1.333381e+03</td>\n",
       "      <td>9.164038e+08</td>\n",
       "      <td>9.164038e+08</td>\n",
       "      <td>7.197034e+03</td>\n",
       "      <td>9.814953e+00</td>\n",
       "      <td>2.949851e+11</td>\n",
       "      <td>2.767540e+07</td>\n",
       "      <td>2.745700</td>\n",
       "    </tr>\n",
       "    <tr>\n",
       "      <th>min</th>\n",
       "      <td>2.000001e+06</td>\n",
       "      <td>-1.100000</td>\n",
       "      <td>0.002500</td>\n",
       "      <td>0.001000</td>\n",
       "      <td>0.000500</td>\n",
       "      <td>2.425052e+06</td>\n",
       "      <td>25051.000000</td>\n",
       "      <td>1.927062e+07</td>\n",
       "      <td>0.000000</td>\n",
       "      <td>-14702.447870</td>\n",
       "      <td>0.070511</td>\n",
       "      <td>0.007744</td>\n",
       "      <td>0.000024</td>\n",
       "      <td>0.000130</td>\n",
       "      <td>-70.703676</td>\n",
       "      <td>0.653773</td>\n",
       "      <td>1.610000e-07</td>\n",
       "      <td>2.283183e+06</td>\n",
       "      <td>1.539011e+07</td>\n",
       "      <td>1.511918e+02</td>\n",
       "      <td>0.000000e+00</td>\n",
       "      <td>4.540000e-07</td>\n",
       "      <td>0.000000</td>\n",
       "      <td>4.820000e-12</td>\n",
       "      <td>1.030000e-11</td>\n",
       "      <td>1.960000e-11</td>\n",
       "      <td>4.610000e-09</td>\n",
       "      <td>6.170000e-08</td>\n",
       "      <td>6.620000e-08</td>\n",
       "      <td>7.820000e-09</td>\n",
       "      <td>1.110000e-11</td>\n",
       "      <td>1.200000e-12</td>\n",
       "      <td>3.780000e-08</td>\n",
       "      <td>9.420000e-09</td>\n",
       "      <td>0.000000</td>\n",
       "    </tr>\n",
       "    <tr>\n",
       "      <th>25%</th>\n",
       "      <td>2.239632e+06</td>\n",
       "      <td>16.100000</td>\n",
       "      <td>2.780000</td>\n",
       "      <td>0.053000</td>\n",
       "      <td>0.180000</td>\n",
       "      <td>2.459000e+06</td>\n",
       "      <td>59000.000000</td>\n",
       "      <td>2.020053e+07</td>\n",
       "      <td>0.092193</td>\n",
       "      <td>2.387835</td>\n",
       "      <td>1.971401</td>\n",
       "      <td>4.165419</td>\n",
       "      <td>80.604399</td>\n",
       "      <td>91.482063</td>\n",
       "      <td>83.785012</td>\n",
       "      <td>2.781603</td>\n",
       "      <td>1.894969e-01</td>\n",
       "      <td>2.458560e+06</td>\n",
       "      <td>2.019032e+07</td>\n",
       "      <td>1.347738e+03</td>\n",
       "      <td>3.689903e+00</td>\n",
       "      <td>9.797020e-01</td>\n",
       "      <td>375.394939</td>\n",
       "      <td>5.470000e-08</td>\n",
       "      <td>2.050000e-08</td>\n",
       "      <td>1.460000e-07</td>\n",
       "      <td>6.100000e-06</td>\n",
       "      <td>3.620000e-05</td>\n",
       "      <td>5.760000e-05</td>\n",
       "      <td>2.570000e-05</td>\n",
       "      <td>2.340000e-08</td>\n",
       "      <td>2.770000e-09</td>\n",
       "      <td>1.110900e-04</td>\n",
       "      <td>1.790000e-05</td>\n",
       "      <td>0.518040</td>\n",
       "    </tr>\n",
       "    <tr>\n",
       "      <th>50%</th>\n",
       "      <td>2.479262e+06</td>\n",
       "      <td>16.900000</td>\n",
       "      <td>3.972000</td>\n",
       "      <td>0.079000</td>\n",
       "      <td>0.332000</td>\n",
       "      <td>2.459000e+06</td>\n",
       "      <td>59000.000000</td>\n",
       "      <td>2.020053e+07</td>\n",
       "      <td>0.145002</td>\n",
       "      <td>2.646969</td>\n",
       "      <td>2.225816</td>\n",
       "      <td>7.415665</td>\n",
       "      <td>159.826919</td>\n",
       "      <td>182.358081</td>\n",
       "      <td>175.641078</td>\n",
       "      <td>3.046995</td>\n",
       "      <td>2.288655e-01</td>\n",
       "      <td>2.458945e+06</td>\n",
       "      <td>2.020041e+07</td>\n",
       "      <td>1.572976e+03</td>\n",
       "      <td>4.306571e+00</td>\n",
       "      <td>1.240850e+00</td>\n",
       "      <td>477.706175</td>\n",
       "      <td>8.170000e-08</td>\n",
       "      <td>3.850000e-08</td>\n",
       "      <td>2.270000e-07</td>\n",
       "      <td>8.690000e-06</td>\n",
       "      <td>6.640000e-05</td>\n",
       "      <td>1.047100e-04</td>\n",
       "      <td>4.900000e-05</td>\n",
       "      <td>4.360000e-08</td>\n",
       "      <td>4.640000e-09</td>\n",
       "      <td>2.230800e-04</td>\n",
       "      <td>3.500000e-05</td>\n",
       "      <td>0.566280</td>\n",
       "    </tr>\n",
       "    <tr>\n",
       "      <th>75%</th>\n",
       "      <td>3.752518e+06</td>\n",
       "      <td>17.714000</td>\n",
       "      <td>5.765000</td>\n",
       "      <td>0.190000</td>\n",
       "      <td>0.620000</td>\n",
       "      <td>2.459000e+06</td>\n",
       "      <td>59000.000000</td>\n",
       "      <td>2.020053e+07</td>\n",
       "      <td>0.200650</td>\n",
       "      <td>3.001932</td>\n",
       "      <td>2.578315</td>\n",
       "      <td>12.407550</td>\n",
       "      <td>252.247751</td>\n",
       "      <td>271.521589</td>\n",
       "      <td>269.865749</td>\n",
       "      <td>3.364793</td>\n",
       "      <td>2.671142e-01</td>\n",
       "      <td>2.459361e+06</td>\n",
       "      <td>2.021053e+07</td>\n",
       "      <td>1.899765e+03</td>\n",
       "      <td>5.201272e+00</td>\n",
       "      <td>1.593370e+00</td>\n",
       "      <td>617.324804</td>\n",
       "      <td>2.340000e-07</td>\n",
       "      <td>1.040000e-07</td>\n",
       "      <td>6.580000e-07</td>\n",
       "      <td>1.590000e-05</td>\n",
       "      <td>1.609775e-04</td>\n",
       "      <td>3.114400e-04</td>\n",
       "      <td>1.718900e-04</td>\n",
       "      <td>1.200000e-07</td>\n",
       "      <td>1.120000e-08</td>\n",
       "      <td>8.139600e-04</td>\n",
       "      <td>9.780000e-05</td>\n",
       "      <td>0.613927</td>\n",
       "    </tr>\n",
       "    <tr>\n",
       "      <th>max</th>\n",
       "      <td>5.401723e+07</td>\n",
       "      <td>33.200000</td>\n",
       "      <td>939.400000</td>\n",
       "      <td>1.000000</td>\n",
       "      <td>140.000000</td>\n",
       "      <td>2.459000e+06</td>\n",
       "      <td>59000.000000</td>\n",
       "      <td>2.020053e+07</td>\n",
       "      <td>1.855356</td>\n",
       "      <td>33488.895950</td>\n",
       "      <td>80.398819</td>\n",
       "      <td>175.082901</td>\n",
       "      <td>359.999793</td>\n",
       "      <td>359.999646</td>\n",
       "      <td>491.618014</td>\n",
       "      <td>66972.796060</td>\n",
       "      <td>2.381082e+00</td>\n",
       "      <td>2.546362e+06</td>\n",
       "      <td>2.259081e+07</td>\n",
       "      <td>2.238462e+09</td>\n",
       "      <td>6.128574e+06</td>\n",
       "      <td>7.947660e+01</td>\n",
       "      <td>30929.908420</td>\n",
       "      <td>3.942500e+04</td>\n",
       "      <td>3.241200e+06</td>\n",
       "      <td>1.020000e+06</td>\n",
       "      <td>5.533000e+04</td>\n",
       "      <td>1.199100e+06</td>\n",
       "      <td>8.850000e+11</td>\n",
       "      <td>8.850000e+11</td>\n",
       "      <td>5.509700e+06</td>\n",
       "      <td>7.698800e+03</td>\n",
       "      <td>2.850000e+14</td>\n",
       "      <td>1.910000e+10</td>\n",
       "      <td>2686.600000</td>\n",
       "    </tr>\n",
       "  </tbody>\n",
       "</table>\n",
       "</div>"
      ],
      "text/plain": [
       "              spkid              H       diameter         albedo  \\\n",
       "count  9.585240e+05  952261.000000  136209.000000  135103.000000   \n",
       "mean   3.810114e+06      16.906411       5.506429       0.130627   \n",
       "std    6.831541e+06       1.790405       9.425164       0.110323   \n",
       "min    2.000001e+06      -1.100000       0.002500       0.001000   \n",
       "25%    2.239632e+06      16.100000       2.780000       0.053000   \n",
       "50%    2.479262e+06      16.900000       3.972000       0.079000   \n",
       "75%    3.752518e+06      17.714000       5.765000       0.190000   \n",
       "max    5.401723e+07      33.200000     939.400000       1.000000   \n",
       "\n",
       "       diameter_sigma         epoch      epoch_mjd     epoch_cal  \\\n",
       "count   136081.000000  9.585240e+05  958524.000000  9.585240e+05   \n",
       "mean         0.479184  2.458869e+06   58868.781950  2.019693e+07   \n",
       "std          0.782895  7.016716e+02     701.671573  1.930354e+04   \n",
       "min          0.000500  2.425052e+06   25051.000000  1.927062e+07   \n",
       "25%          0.180000  2.459000e+06   59000.000000  2.020053e+07   \n",
       "50%          0.332000  2.459000e+06   59000.000000  2.020053e+07   \n",
       "75%          0.620000  2.459000e+06   59000.000000  2.020053e+07   \n",
       "max        140.000000  2.459000e+06   59000.000000  2.020053e+07   \n",
       "\n",
       "                   e              a              q              i  \\\n",
       "count  958524.000000  958524.000000  958524.000000  958524.000000   \n",
       "mean        0.156116       2.902143       2.394887       9.054901   \n",
       "std         0.092643      39.719503       2.139246       6.637656   \n",
       "min         0.000000  -14702.447870       0.070511       0.007744   \n",
       "25%         0.092193       2.387835       1.971401       4.165419   \n",
       "50%         0.145002       2.646969       2.225816       7.415665   \n",
       "75%         0.200650       3.001932       2.578315      12.407550   \n",
       "max         1.855356   33488.895950      80.398819     175.082901   \n",
       "\n",
       "                  om              w             ma             ad  \\\n",
       "count  958524.000000  958524.000000  958523.000000  958520.000000   \n",
       "mean      168.456416     181.369457     177.352582       3.455820   \n",
       "std       102.881707     103.887995     105.816844      71.769401   \n",
       "min         0.000024       0.000130     -70.703676       0.653773   \n",
       "25%        80.604399      91.482063      83.785012       2.781603   \n",
       "50%       159.826919     182.358081     175.641078       3.046995   \n",
       "75%       252.247751     271.521589     269.865749       3.364793   \n",
       "max       359.999793     359.999646     491.618014   66972.796060   \n",
       "\n",
       "                  n            tp        tp_cal           per         per_y  \\\n",
       "count  9.585240e+05  9.585240e+05  9.585240e+05  9.585200e+05  9.585230e+05   \n",
       "mean   2.366846e-01  2.458856e+06  2.019581e+07  5.085344e+03  1.392287e+01   \n",
       "std    7.941705e-02  1.580506e+03  4.337669e+04  2.308961e+06  6.321581e+03   \n",
       "min    1.610000e-07  2.283183e+06  1.539011e+07  1.511918e+02  0.000000e+00   \n",
       "25%    1.894969e-01  2.458560e+06  2.019032e+07  1.347738e+03  3.689903e+00   \n",
       "50%    2.288655e-01  2.458945e+06  2.020041e+07  1.572976e+03  4.306571e+00   \n",
       "75%    2.671142e-01  2.459361e+06  2.021053e+07  1.899765e+03  5.201272e+00   \n",
       "max    2.381082e+00  2.546362e+06  2.259081e+07  2.238462e+09  6.128574e+06   \n",
       "\n",
       "               moid        moid_ld       sigma_e       sigma_a       sigma_q  \\\n",
       "count  9.386030e+05  958397.000000  9.386020e+05  9.386020e+05  9.386020e+05   \n",
       "mean   1.415162e+00     539.364207  7.262721e-01  1.541424e+01  1.983462e+01   \n",
       "std    2.156731e+00     834.306975  9.336391e+01  4.392381e+03  2.905651e+03   \n",
       "min    4.540000e-07       0.000000  4.820000e-12  1.030000e-11  1.960000e-11   \n",
       "25%    9.797020e-01     375.394939  5.470000e-08  2.050000e-08  1.460000e-07   \n",
       "50%    1.240850e+00     477.706175  8.170000e-08  3.850000e-08  2.270000e-07   \n",
       "75%    1.593370e+00     617.324804  2.340000e-07  1.040000e-07  6.580000e-07   \n",
       "max    7.947660e+01   30929.908420  3.942500e+04  3.241200e+06  1.020000e+06   \n",
       "\n",
       "            sigma_i      sigma_om       sigma_w      sigma_ma      sigma_ad  \\\n",
       "count  9.386020e+05  9.386020e+05  9.386020e+05  9.386020e+05  9.385980e+05   \n",
       "mean   1.168449e+00  5.310234e+00  1.370627e+06  1.370582e+06  2.131453e+01   \n",
       "std    1.282231e+02  1.333381e+03  9.164038e+08  9.164038e+08  7.197034e+03   \n",
       "min    4.610000e-09  6.170000e-08  6.620000e-08  7.820000e-09  1.110000e-11   \n",
       "25%    6.100000e-06  3.620000e-05  5.760000e-05  2.570000e-05  2.340000e-08   \n",
       "50%    8.690000e-06  6.640000e-05  1.047100e-04  4.900000e-05  4.360000e-08   \n",
       "75%    1.590000e-05  1.609775e-04  3.114400e-04  1.718900e-04  1.200000e-07   \n",
       "max    5.533000e+04  1.199100e+06  8.850000e+11  8.850000e+11  5.509700e+06   \n",
       "\n",
       "            sigma_n      sigma_tp     sigma_per            cal  \n",
       "count  9.386020e+05  9.386020e+05  9.385980e+05  958522.000000  \n",
       "mean   5.060221e-02  4.309478e+08  8.527486e+04       0.561153  \n",
       "std    9.814953e+00  2.949851e+11  2.767540e+07       2.745700  \n",
       "min    1.200000e-12  3.780000e-08  9.420000e-09       0.000000  \n",
       "25%    2.770000e-09  1.110900e-04  1.790000e-05       0.518040  \n",
       "50%    4.640000e-09  2.230800e-04  3.500000e-05       0.566280  \n",
       "75%    1.120000e-08  8.139600e-04  9.780000e-05       0.613927  \n",
       "max    7.698800e+03  2.850000e+14  1.910000e+10    2686.600000  "
      ]
     },
     "execution_count": 5,
     "metadata": {},
     "output_type": "execute_result"
    }
   ],
   "source": [
    "data.describe()"
   ]
  },
  {
   "attachments": {},
   "cell_type": "markdown",
   "metadata": {
    "papermill": {
     "duration": 0.063692,
     "end_time": "2020-09-28T14:43:27.638138",
     "exception": false,
     "start_time": "2020-09-28T14:43:27.574446",
     "status": "completed"
    },
    "tags": []
   },
   "source": [
    "### Analyse columns\n",
    "\n",
    "Based on the description of the data above, it can be noticed that many features have missing values. Before imputing or eliminating them, we need to first understand the kind of data each feature holds\n"
   ]
  },
  {
   "cell_type": "code",
   "execution_count": 6,
   "metadata": {
    "execution": {
     "iopub.execute_input": "2020-09-28T14:43:27.771634Z",
     "iopub.status.busy": "2020-09-28T14:43:27.770645Z",
     "iopub.status.idle": "2020-09-28T14:43:27.775048Z",
     "shell.execute_reply": "2020-09-28T14:43:27.774402Z"
    },
    "papermill": {
     "duration": 0.073482,
     "end_time": "2020-09-28T14:43:27.775151",
     "exception": false,
     "start_time": "2020-09-28T14:43:27.701669",
     "status": "completed"
    },
    "tags": []
   },
   "outputs": [
    {
     "data": {
      "text/plain": [
       "(958524, 45)"
      ]
     },
     "execution_count": 6,
     "metadata": {},
     "output_type": "execute_result"
    }
   ],
   "source": [
    "data.shape"
   ]
  },
  {
   "cell_type": "code",
   "execution_count": 7,
   "metadata": {
    "execution": {
     "iopub.execute_input": "2020-09-28T14:43:27.966245Z",
     "iopub.status.busy": "2020-09-28T14:43:27.965568Z",
     "iopub.status.idle": "2020-09-28T14:43:29.393676Z",
     "shell.execute_reply": "2020-09-28T14:43:29.394143Z"
    },
    "papermill": {
     "duration": 1.555431,
     "end_time": "2020-09-28T14:43:29.394289",
     "exception": false,
     "start_time": "2020-09-28T14:43:27.838858",
     "status": "completed"
    },
    "tags": []
   },
   "outputs": [
    {
     "name": "stdout",
     "output_type": "stream",
     "text": [
      "958524\n",
      "958524\n",
      "958524\n",
      "958524\n"
     ]
    }
   ],
   "source": [
    "#1. id and spkid\n",
    "print(data['id'].nunique())\n",
    "print(data['spkid'].nunique())\n",
    "print(data['full_name'].nunique())\n",
    "print(data['pdes'].nunique())"
   ]
  },
  {
   "attachments": {},
   "cell_type": "markdown",
   "metadata": {
    "papermill": {
     "duration": 0.065339,
     "end_time": "2020-09-28T14:43:29.525558",
     "exception": false,
     "start_time": "2020-09-28T14:43:29.460219",
     "status": "completed"
    },
    "tags": []
   },
   "source": [
    "No missing values exist in the ateroid identifying columns."
   ]
  },
  {
   "attachments": {},
   "cell_type": "markdown",
   "metadata": {
    "papermill": {
     "duration": 0.064737,
     "end_time": "2020-09-28T14:43:29.655762",
     "exception": false,
     "start_time": "2020-09-28T14:43:29.591025",
     "status": "completed"
    },
    "tags": []
   },
   "source": [
    "Now analyse all columns of the 'object' datatype"
   ]
  },
  {
   "cell_type": "code",
   "execution_count": 8,
   "metadata": {
    "execution": {
     "iopub.execute_input": "2020-09-28T14:43:30.005705Z",
     "iopub.status.busy": "2020-09-28T14:43:29.908273Z",
     "iopub.status.idle": "2020-09-28T14:43:30.036101Z",
     "shell.execute_reply": "2020-09-28T14:43:30.036778Z"
    },
    "papermill": {
     "duration": 0.315311,
     "end_time": "2020-09-28T14:43:30.036930",
     "exception": false,
     "start_time": "2020-09-28T14:43:29.721619",
     "status": "completed"
    },
    "tags": []
   },
   "outputs": [
    {
     "data": {
      "text/plain": [
       "N    0.997799\n",
       "Y    0.002201\n",
       "Name: pha, dtype: float64"
      ]
     },
     "execution_count": 8,
     "metadata": {},
     "output_type": "execute_result"
    }
   ],
   "source": [
    "# Potentially hazardous asteroids\n",
    "data['pha'].value_counts(normalize=True)"
   ]
  },
  {
   "cell_type": "code",
   "execution_count": 9,
   "metadata": {
    "execution": {
     "iopub.execute_input": "2020-09-28T14:43:30.397372Z",
     "iopub.status.busy": "2020-09-28T14:43:30.396691Z",
     "iopub.status.idle": "2020-09-28T14:43:30.406062Z",
     "shell.execute_reply": "2020-09-28T14:43:30.406583Z"
    },
    "papermill": {
     "duration": 0.299509,
     "end_time": "2020-09-28T14:43:30.406738",
     "exception": false,
     "start_time": "2020-09-28T14:43:30.107229",
     "status": "completed"
    },
    "tags": []
   },
   "outputs": [
    {
     "data": {
      "text/plain": [
       "N    0.976114\n",
       "Y    0.023886\n",
       "Name: neo, dtype: float64"
      ]
     },
     "execution_count": 9,
     "metadata": {},
     "output_type": "execute_result"
    }
   ],
   "source": [
    "# Near Earth Object\n",
    "data['neo'].value_counts(normalize=True)"
   ]
  },
  {
   "cell_type": "code",
   "execution_count": 10,
   "metadata": {
    "execution": {
     "iopub.execute_input": "2020-09-28T14:43:30.619862Z",
     "iopub.status.busy": "2020-09-28T14:43:30.618885Z",
     "iopub.status.idle": "2020-09-28T14:43:30.720340Z",
     "shell.execute_reply": "2020-09-28T14:43:30.719571Z"
    },
    "papermill": {
     "duration": 0.23746,
     "end_time": "2020-09-28T14:43:30.720524",
     "exception": false,
     "start_time": "2020-09-28T14:43:30.483064",
     "status": "completed"
    },
    "tags": []
   },
   "outputs": [
    {
     "name": "stdout",
     "output_type": "stream",
     "text": [
      "['JPL 47' 'JPL 37' 'JPL 112' ... 'E2020H77' 'E2020K86' 'E2020J48']\n",
      "4690\n"
     ]
    }
   ],
   "source": [
    "# Asteroid orbit ID\n",
    "print(data['orbit_id'].unique())\n",
    "print(data['orbit_id'].nunique())"
   ]
  },
  {
   "cell_type": "code",
   "execution_count": 11,
   "metadata": {
    "execution": {
     "iopub.execute_input": "2020-09-28T14:43:31.180226Z",
     "iopub.status.busy": "2020-09-28T14:43:31.010196Z",
     "iopub.status.idle": "2020-09-28T14:43:31.187405Z",
     "shell.execute_reply": "2020-09-28T14:43:31.186600Z"
    },
    "papermill": {
     "duration": 0.399535,
     "end_time": "2020-09-28T14:43:31.187543",
     "exception": false,
     "start_time": "2020-09-28T14:43:30.788008",
     "status": "completed"
    },
    "tags": []
   },
   "outputs": [
    {
     "name": "stdout",
     "output_type": "stream",
     "text": [
      "[nan 'A']\n",
      "1\n"
     ]
    }
   ],
   "source": [
    "# Comet Designation prefix\n",
    "print(data['prefix'].unique())\n",
    "print(data['prefix'].nunique())"
   ]
  },
  {
   "cell_type": "code",
   "execution_count": 12,
   "metadata": {
    "execution": {
     "iopub.execute_input": "2020-09-28T14:43:31.385238Z",
     "iopub.status.busy": "2020-09-28T14:43:31.384250Z",
     "iopub.status.idle": "2020-09-28T14:43:31.469354Z",
     "shell.execute_reply": "2020-09-28T14:43:31.468607Z"
    },
    "papermill": {
     "duration": 0.211869,
     "end_time": "2020-09-28T14:43:31.469543",
     "exception": false,
     "start_time": "2020-09-28T14:43:31.257674",
     "status": "completed"
    },
    "tags": []
   },
   "outputs": [
    {
     "name": "stdout",
     "output_type": "stream",
     "text": [
      "['J2000']\n",
      "1\n"
     ]
    }
   ],
   "source": [
    "# Equinox reference\n",
    "print(data['equinox'].unique())\n",
    "print(data['equinox'].nunique())"
   ]
  },
  {
   "cell_type": "code",
   "execution_count": 13,
   "metadata": {
    "execution": {
     "iopub.execute_input": "2020-09-28T14:43:31.665611Z",
     "iopub.status.busy": "2020-09-28T14:43:31.664612Z",
     "iopub.status.idle": "2020-09-28T14:43:31.745544Z",
     "shell.execute_reply": "2020-09-28T14:43:31.744852Z"
    },
    "papermill": {
     "duration": 0.207893,
     "end_time": "2020-09-28T14:43:31.745652",
     "exception": false,
     "start_time": "2020-09-28T14:43:31.537759",
     "status": "completed"
    },
    "tags": []
   },
   "outputs": [
    {
     "name": "stdout",
     "output_type": "stream",
     "text": [
      "['MBA' 'OMB' 'MCA' 'AMO' 'IMB' 'TJN' 'CEN' 'APO' 'ATE' 'AST' 'TNO' 'IEO'\n",
      " 'HYA']\n",
      "13\n"
     ]
    }
   ],
   "source": [
    "# Orbit classification\n",
    "print(data['class'].unique())\n",
    "print(data['class'].nunique())"
   ]
  },
  {
   "attachments": {},
   "cell_type": "markdown",
   "metadata": {
    "papermill": {
     "duration": 0.067736,
     "end_time": "2020-09-28T14:43:31.880933",
     "exception": false,
     "start_time": "2020-09-28T14:43:31.813197",
     "status": "completed"
    },
    "tags": []
   },
   "source": [
    "Columns 'id', 'spkid' and 'full_name' are unique for each row. The 'full_name' column values are split into columns 'pdes' and 'name'. These columns can be removed since they will not facilitate in the analysis. The 'id' column has alphanumeric values whereas column 'spkid' doesn't. So column 'id' can be removed as well. \n",
    "\n",
    "Columns 'prefix' and 'equinox' have only one value so they can be eliminated as well."
   ]
  },
  {
   "cell_type": "code",
   "execution_count": 14,
   "metadata": {
    "execution": {
     "iopub.execute_input": "2020-09-28T14:43:32.029544Z",
     "iopub.status.busy": "2020-09-28T14:43:32.028869Z",
     "iopub.status.idle": "2020-09-28T14:43:32.141385Z",
     "shell.execute_reply": "2020-09-28T14:43:32.141883Z"
    },
    "papermill": {
     "duration": 0.190508,
     "end_time": "2020-09-28T14:43:32.142030",
     "exception": false,
     "start_time": "2020-09-28T14:43:31.951522",
     "status": "completed"
    },
    "tags": []
   },
   "outputs": [],
   "source": [
    "data1 = data.drop(['id', 'pdes', 'name', 'prefix', 'equinox'], axis='columns', inplace=False)"
   ]
  },
  {
   "attachments": {},
   "cell_type": "markdown",
   "metadata": {
    "papermill": {
     "duration": 0.067817,
     "end_time": "2020-09-28T14:43:32.278832",
     "exception": false,
     "start_time": "2020-09-28T14:43:32.211015",
     "status": "completed"
    },
    "tags": []
   },
   "source": [
    "# 2. Data Wrangling"
   ]
  },
  {
   "attachments": {},
   "cell_type": "markdown",
   "metadata": {
    "papermill": {
     "duration": 0.067827,
     "end_time": "2020-09-28T14:43:32.416518",
     "exception": false,
     "start_time": "2020-09-28T14:43:32.348691",
     "status": "completed"
    },
    "tags": []
   },
   "source": [
    "### Analyse missing values"
   ]
  },
  {
   "attachments": {},
   "cell_type": "markdown",
   "metadata": {
    "papermill": {
     "duration": 0.068468,
     "end_time": "2020-09-28T14:43:32.553113",
     "exception": false,
     "start_time": "2020-09-28T14:43:32.484645",
     "status": "completed"
    },
    "tags": []
   },
   "source": [
    "Most columns have almost no missing values. The 'sigma' columns seems to have missing values for the same number of rows. Although the 'name' column has 97% missing values, it is paired with 'pdes' to make a full name. \n",
    "\n",
    "Columns 'diameter', 'albedo' and 'diameter_sigma' have 85% missing values. Since these values cannot be measured or derived, these columns can be removed.\n",
    "\n",
    "Columns 'pha', 'moid' and those with the 'sigma' prefix columns have missing values for the same rows where 'pha' is missing data. Since its only 2% of the data, we can keep remove these entries."
   ]
  },
  {
   "cell_type": "code",
   "execution_count": 15,
   "metadata": {
    "execution": {
     "iopub.execute_input": "2020-09-28T14:43:32.792007Z",
     "iopub.status.busy": "2020-09-28T14:43:32.791340Z",
     "iopub.status.idle": "2020-09-28T14:43:33.111957Z",
     "shell.execute_reply": "2020-09-28T14:43:33.111281Z"
    },
    "papermill": {
     "duration": 0.490929,
     "end_time": "2020-09-28T14:43:33.112077",
     "exception": false,
     "start_time": "2020-09-28T14:43:32.621148",
     "status": "completed"
    },
    "tags": []
   },
   "outputs": [],
   "source": [
    "asteroid_df = data1[data1['pha'].notna()]\n",
    "asteroid_df = asteroid_df.drop(['diameter', 'albedo', 'diameter_sigma'], axis= 'columns')"
   ]
  },
  {
   "attachments": {},
   "cell_type": "markdown",
   "metadata": {
    "papermill": {
     "duration": 0.068744,
     "end_time": "2020-09-28T14:43:33.250178",
     "exception": false,
     "start_time": "2020-09-28T14:43:33.181434",
     "status": "completed"
    },
    "tags": []
   },
   "source": [
    "There are a few values missing in column 'H' - absolute magnitude. This can be determined using albedo and diameter but since those columns no longer exist, we can remove the rows with missing 'H' values."
   ]
  },
  {
   "cell_type": "code",
   "execution_count": 16,
   "metadata": {
    "execution": {
     "iopub.execute_input": "2020-09-28T14:43:33.394700Z",
     "iopub.status.busy": "2020-09-28T14:43:33.393965Z",
     "iopub.status.idle": "2020-09-28T14:43:33.544444Z",
     "shell.execute_reply": "2020-09-28T14:43:33.543817Z"
    },
    "papermill": {
     "duration": 0.225572,
     "end_time": "2020-09-28T14:43:33.544573",
     "exception": false,
     "start_time": "2020-09-28T14:43:33.319001",
     "status": "completed"
    },
    "tags": []
   },
   "outputs": [],
   "source": [
    "asteroid_df = asteroid_df[asteroid_df['H'].notna()]"
   ]
  },
  {
   "attachments": {},
   "cell_type": "markdown",
   "metadata": {
    "papermill": {
     "duration": 0.068924,
     "end_time": "2020-09-28T14:43:33.682253",
     "exception": false,
     "start_time": "2020-09-28T14:43:33.613329",
     "status": "completed"
    },
    "tags": []
   },
   "source": [
    "Remove the remaining missing row values using column 'sigma_ad' since it seems to have the most number of missing values."
   ]
  },
  {
   "cell_type": "code",
   "execution_count": 17,
   "metadata": {
    "execution": {
     "iopub.execute_input": "2020-09-28T14:43:33.826264Z",
     "iopub.status.busy": "2020-09-28T14:43:33.825601Z",
     "iopub.status.idle": "2020-09-28T14:43:34.127805Z",
     "shell.execute_reply": "2020-09-28T14:43:34.127231Z"
    },
    "papermill": {
     "duration": 0.376424,
     "end_time": "2020-09-28T14:43:34.127925",
     "exception": false,
     "start_time": "2020-09-28T14:43:33.751501",
     "status": "completed"
    },
    "tags": []
   },
   "outputs": [],
   "source": [
    "asteroid_df = asteroid_df[asteroid_df['sigma_ad'].notna()]\n",
    "asteroid_df = asteroid_df[asteroid_df['ma'].notna()] # Remove row with the one missing value for 'ma'"
   ]
  },
  {
   "attachments": {},
   "cell_type": "markdown",
   "metadata": {
    "papermill": {
     "duration": 0.069239,
     "end_time": "2020-09-28T14:43:34.266971",
     "exception": false,
     "start_time": "2020-09-28T14:43:34.197732",
     "status": "completed"
    },
    "tags": []
   },
   "source": [
    "### Columns Data Types"
   ]
  },
  {
   "attachments": {},
   "cell_type": "markdown",
   "metadata": {
    "papermill": {
     "duration": 0.069385,
     "end_time": "2020-09-28T14:43:34.409927",
     "exception": false,
     "start_time": "2020-09-28T14:43:34.340542",
     "status": "completed"
    },
    "tags": []
   },
   "source": [
    "Certain column types will need to be changed for the machine learning models to use. Machine Learning models will not be able to process <br> \n",
    "Convert columns 'neo', 'pha' and 'class' to categorical variables."
   ]
  },
  {
   "cell_type": "code",
   "execution_count": 18,
   "metadata": {
    "execution": {
     "iopub.execute_input": "2020-09-28T14:43:34.571092Z",
     "iopub.status.busy": "2020-09-28T14:43:34.570397Z",
     "iopub.status.idle": "2020-09-28T14:43:34.846851Z",
     "shell.execute_reply": "2020-09-28T14:43:34.846201Z"
    },
    "papermill": {
     "duration": 0.36713,
     "end_time": "2020-09-28T14:43:34.846990",
     "exception": false,
     "start_time": "2020-09-28T14:43:34.479860",
     "status": "completed"
    },
    "tags": []
   },
   "outputs": [],
   "source": [
    "asteroid_df['neo'] = asteroid_df['neo'].astype('category')\n",
    "asteroid_df['pha'] = asteroid_df['pha'].astype('category')\n",
    "asteroid_df['class'] = asteroid_df['class'].astype('category')"
   ]
  },
  {
   "attachments": {},
   "cell_type": "markdown",
   "metadata": {
    "papermill": {
     "duration": 0.069745,
     "end_time": "2020-09-28T14:43:35.034138",
     "exception": false,
     "start_time": "2020-09-28T14:43:34.964393",
     "status": "completed"
    },
    "tags": []
   },
   "source": [
    "These categories can be further analysed to understand their distribution by answering questions pertinent to their features."
   ]
  },
  {
   "cell_type": "code",
   "execution_count": 19,
   "metadata": {
    "execution": {
     "iopub.execute_input": "2020-09-28T14:43:35.179537Z",
     "iopub.status.busy": "2020-09-28T14:43:35.178895Z",
     "iopub.status.idle": "2020-09-28T14:43:35.192189Z",
     "shell.execute_reply": "2020-09-28T14:43:35.191682Z"
    },
    "papermill": {
     "duration": 0.088745,
     "end_time": "2020-09-28T14:43:35.192301",
     "exception": false,
     "start_time": "2020-09-28T14:43:35.103556",
     "status": "completed"
    },
    "tags": []
   },
   "outputs": [
    {
     "data": {
      "text/plain": [
       "N    97.545625\n",
       "Y     2.454375\n",
       "Name: neo, dtype: float64"
      ]
     },
     "execution_count": 19,
     "metadata": {},
     "output_type": "execute_result"
    }
   ],
   "source": [
    "# What percent of asteroids are near earth objects?\n",
    "\n",
    "asteroid_df['neo'].value_counts(normalize=True)*100"
   ]
  },
  {
   "cell_type": "code",
   "execution_count": 20,
   "metadata": {
    "execution": {
     "iopub.execute_input": "2020-09-28T14:43:35.338783Z",
     "iopub.status.busy": "2020-09-28T14:43:35.337762Z",
     "iopub.status.idle": "2020-09-28T14:43:35.356650Z",
     "shell.execute_reply": "2020-09-28T14:43:35.356088Z"
    },
    "papermill": {
     "duration": 0.094043,
     "end_time": "2020-09-28T14:43:35.356769",
     "exception": false,
     "start_time": "2020-09-28T14:43:35.262726",
     "status": "completed"
    },
    "tags": []
   },
   "outputs": [
    {
     "data": {
      "text/plain": [
       "N    90.971464\n",
       "Y     9.028536\n",
       "Name: pha, dtype: float64"
      ]
     },
     "execution_count": 20,
     "metadata": {},
     "output_type": "execute_result"
    }
   ],
   "source": [
    "# Of the near earth objects, what percent of them are potentially hazardous asteroids?\n",
    "\n",
    "asteroid_df[asteroid_df['neo']=='Y']['pha'].value_counts(normalize=True)*100"
   ]
  },
  {
   "cell_type": "code",
   "execution_count": 21,
   "metadata": {
    "execution": {
     "iopub.execute_input": "2020-09-28T14:43:35.504792Z",
     "iopub.status.busy": "2020-09-28T14:43:35.503960Z",
     "iopub.status.idle": "2020-09-28T14:43:35.516689Z",
     "shell.execute_reply": "2020-09-28T14:43:35.516068Z"
    },
    "papermill": {
     "duration": 0.089288,
     "end_time": "2020-09-28T14:43:35.516806",
     "exception": false,
     "start_time": "2020-09-28T14:43:35.427518",
     "status": "completed"
    },
    "tags": []
   },
   "outputs": [
    {
     "data": {
      "text/plain": [
       "N    99.778406\n",
       "Y     0.221594\n",
       "Name: pha, dtype: float64"
      ]
     },
     "execution_count": 21,
     "metadata": {},
     "output_type": "execute_result"
    }
   ],
   "source": [
    "# How many asteroids of the dataset are potentially hazardous asteroids?\n",
    "\n",
    "asteroid_df['pha'].value_counts(normalize=True)*100"
   ]
  },
  {
   "cell_type": "code",
   "execution_count": 22,
   "metadata": {
    "execution": {
     "iopub.execute_input": "2020-09-28T14:43:35.663537Z",
     "iopub.status.busy": "2020-09-28T14:43:35.662907Z",
     "iopub.status.idle": "2020-09-28T14:43:35.675333Z",
     "shell.execute_reply": "2020-09-28T14:43:35.674842Z"
    },
    "papermill": {
     "duration": 0.088102,
     "end_time": "2020-09-28T14:43:35.675439",
     "exception": false,
     "start_time": "2020-09-28T14:43:35.587337",
     "status": "completed"
    },
    "tags": []
   },
   "outputs": [
    {
     "data": {
      "text/plain": [
       "Y    100.0\n",
       "N      0.0\n",
       "Name: neo, dtype: float64"
      ]
     },
     "execution_count": 22,
     "metadata": {},
     "output_type": "execute_result"
    }
   ],
   "source": [
    "# Of the potentially hazardous asteroids, what percent of them are near earth objects?\n",
    "\n",
    "asteroid_df[asteroid_df['pha']=='Y']['neo'].value_counts(normalize=True)*100"
   ]
  },
  {
   "cell_type": "code",
   "execution_count": 23,
   "metadata": {
    "execution": {
     "iopub.execute_input": "2020-09-28T14:43:35.824218Z",
     "iopub.status.busy": "2020-09-28T14:43:35.823561Z",
     "iopub.status.idle": "2020-09-28T14:43:35.835615Z",
     "shell.execute_reply": "2020-09-28T14:43:35.834907Z"
    },
    "papermill": {
     "duration": 0.088857,
     "end_time": "2020-09-28T14:43:35.835737",
     "exception": false,
     "start_time": "2020-09-28T14:43:35.746880",
     "status": "completed"
    },
    "tags": []
   },
   "outputs": [
    {
     "data": {
      "text/plain": [
       "MBA    89.308028\n",
       "OMB     2.914189\n",
       "IMB     2.113189\n",
       "MCA     1.908005\n",
       "APO     1.360455\n",
       "AMO     0.906112\n",
       "TJN     0.871146\n",
       "TNO     0.371004\n",
       "ATE     0.185448\n",
       "CEN     0.053951\n",
       "AST     0.006114\n",
       "IEO     0.002360\n",
       "Name: class, dtype: float64"
      ]
     },
     "execution_count": 23,
     "metadata": {},
     "output_type": "execute_result"
    }
   ],
   "source": [
    "# What is the distribution of the orbit classification?\n",
    "\n",
    "asteroid_df['class'].value_counts(normalize=True)*100"
   ]
  },
  {
   "cell_type": "code",
   "execution_count": 24,
   "metadata": {
    "execution": {
     "iopub.execute_input": "2020-09-28T14:43:35.996956Z",
     "iopub.status.busy": "2020-09-28T14:43:35.996250Z",
     "iopub.status.idle": "2020-09-28T14:43:36.074568Z",
     "shell.execute_reply": "2020-09-28T14:43:36.073909Z"
    },
    "papermill": {
     "duration": 0.158017,
     "end_time": "2020-09-28T14:43:36.074691",
     "exception": false,
     "start_time": "2020-09-28T14:43:35.916674",
     "status": "completed"
    },
    "tags": []
   },
   "outputs": [
    {
     "data": {
      "text/plain": [
       "525"
      ]
     },
     "execution_count": 24,
     "metadata": {},
     "output_type": "execute_result"
    }
   ],
   "source": [
    "# How many orbit IDs exist?\n",
    "\n",
    "asteroid_df['orbit_id'].nunique()"
   ]
  },
  {
   "attachments": {},
   "cell_type": "markdown",
   "metadata": {
    "papermill": {
     "duration": 0.080593,
     "end_time": "2020-09-28T14:43:36.227610",
     "exception": false,
     "start_time": "2020-09-28T14:43:36.147017",
     "status": "completed"
    },
    "tags": []
   },
   "source": [
    "Of the data set of asteroids provided, 99.7% of the asteroids are non-hazardous. All the potentially hazardous asteroids are near earth objects (neo). On the other hand, only 9% of the near earth objects are hazardous. \n",
    "\n",
    "Our focus is to predict if an asteroid is potentially hazardous. "
   ]
  },
  {
   "attachments": {},
   "cell_type": "markdown",
   "metadata": {
    "papermill": {
     "duration": 0.072736,
     "end_time": "2020-09-28T14:43:36.372356",
     "exception": false,
     "start_time": "2020-09-28T14:43:36.299620",
     "status": "completed"
    },
    "tags": []
   },
   "source": [
    "# 3. Data Preprocessing"
   ]
  },
  {
   "attachments": {},
   "cell_type": "markdown",
   "metadata": {
    "papermill": {
     "duration": 0.071574,
     "end_time": "2020-09-28T14:43:36.516165",
     "exception": false,
     "start_time": "2020-09-28T14:43:36.444591",
     "status": "completed"
    },
    "tags": []
   },
   "source": [
    "Before creating machine learning models, it is imperative to make sure the data being provided isn't cumbersome. For example, the 'orbit_id' feature has 525 unique catergories to identify the asteroid's orbit. We can reduce this number by analysing the less occuring orbit IDs."
   ]
  },
  {
   "cell_type": "code",
   "execution_count": 25,
   "metadata": {
    "execution": {
     "iopub.execute_input": "2020-09-28T14:43:36.663589Z",
     "iopub.status.busy": "2020-09-28T14:43:36.662896Z",
     "iopub.status.idle": "2020-09-28T14:43:36.903876Z",
     "shell.execute_reply": "2020-09-28T14:43:36.903298Z"
    },
    "papermill": {
     "duration": 0.315803,
     "end_time": "2020-09-28T14:43:36.903999",
     "exception": false,
     "start_time": "2020-09-28T14:43:36.588196",
     "status": "completed"
    },
    "tags": []
   },
   "outputs": [],
   "source": [
    "# Number of orbit_id that have less than 10 occurances\n",
    "orbits = asteroid_df['orbit_id'].value_counts().loc[lambda x: x<10].index.to_list()"
   ]
  },
  {
   "cell_type": "code",
   "execution_count": 26,
   "metadata": {
    "execution": {
     "iopub.execute_input": "2020-09-28T14:43:37.055767Z",
     "iopub.status.busy": "2020-09-28T14:43:37.054714Z",
     "iopub.status.idle": "2020-09-28T14:43:37.059221Z",
     "shell.execute_reply": "2020-09-28T14:43:37.058719Z"
    },
    "papermill": {
     "duration": 0.081255,
     "end_time": "2020-09-28T14:43:37.059336",
     "exception": false,
     "start_time": "2020-09-28T14:43:36.978081",
     "status": "completed"
    },
    "tags": []
   },
   "outputs": [
    {
     "data": {
      "text/plain": [
       "331"
      ]
     },
     "execution_count": 26,
     "metadata": {},
     "output_type": "execute_result"
    }
   ],
   "source": [
    "len(orbits)"
   ]
  },
  {
   "attachments": {},
   "cell_type": "markdown",
   "metadata": {
    "papermill": {
     "duration": 0.072882,
     "end_time": "2020-09-28T14:43:37.205230",
     "exception": false,
     "start_time": "2020-09-28T14:43:37.132348",
     "status": "completed"
    },
    "tags": []
   },
   "source": [
    "There are 331 orbit ids that occur less than 10 times. We can replace these orbit ids by renaming them as 'others' so there is no loss of data."
   ]
  },
  {
   "cell_type": "code",
   "execution_count": 27,
   "metadata": {
    "execution": {
     "iopub.execute_input": "2020-09-28T14:43:37.435057Z",
     "iopub.status.busy": "2020-09-28T14:43:37.434369Z",
     "iopub.status.idle": "2020-09-28T14:43:37.448475Z",
     "shell.execute_reply": "2020-09-28T14:43:37.447901Z"
    },
    "papermill": {
     "duration": 0.168533,
     "end_time": "2020-09-28T14:43:37.448608",
     "exception": false,
     "start_time": "2020-09-28T14:43:37.280075",
     "status": "completed"
    },
    "tags": []
   },
   "outputs": [],
   "source": [
    "asteroid_df.loc[asteroid_df['orbit_id'].isin(orbits), 'orbit_id'] = 'other'"
   ]
  },
  {
   "attachments": {},
   "cell_type": "markdown",
   "metadata": {
    "papermill": {
     "duration": 0.07248,
     "end_time": "2020-09-28T14:43:37.593693",
     "exception": false,
     "start_time": "2020-09-28T14:43:37.521213",
     "status": "completed"
    },
    "tags": []
   },
   "source": [
    "The data needs to be normalised before using it to train models, so all the numeric features need to be on the same scale. For this we use min-max scaler."
   ]
  },
  {
   "cell_type": "code",
   "execution_count": 28,
   "metadata": {
    "execution": {
     "iopub.execute_input": "2020-09-28T14:43:37.744716Z",
     "iopub.status.busy": "2020-09-28T14:43:37.743995Z",
     "iopub.status.idle": "2020-09-28T14:43:37.854300Z",
     "shell.execute_reply": "2020-09-28T14:43:37.854841Z"
    },
    "papermill": {
     "duration": 0.18812,
     "end_time": "2020-09-28T14:43:37.854986",
     "exception": false,
     "start_time": "2020-09-28T14:43:37.666866",
     "status": "completed"
    },
    "tags": []
   },
   "outputs": [],
   "source": [
    "# Reset the index\n",
    "asteroid_df = asteroid_df.reset_index(drop=True)"
   ]
  },
  {
   "cell_type": "code",
   "execution_count": 29,
   "metadata": {
    "execution": {
     "iopub.execute_input": "2020-09-28T14:43:38.081192Z",
     "iopub.status.busy": "2020-09-28T14:43:38.080521Z",
     "iopub.status.idle": "2020-09-28T14:43:38.085390Z",
     "shell.execute_reply": "2020-09-28T14:43:38.084855Z"
    },
    "papermill": {
     "duration": 0.157142,
     "end_time": "2020-09-28T14:43:38.085523",
     "exception": false,
     "start_time": "2020-09-28T14:43:37.928381",
     "status": "completed"
    },
    "tags": []
   },
   "outputs": [],
   "source": [
    "# Create a subset of only numerical columns to scale\n",
    "subset_df = asteroid_df[asteroid_df.columns[~asteroid_df.columns.isin(['spkid', 'full_name', 'neo', 'pha', 'orbit_id', 'class'])]]"
   ]
  },
  {
   "cell_type": "code",
   "execution_count": 30,
   "metadata": {
    "execution": {
     "iopub.execute_input": "2020-09-28T14:43:38.242272Z",
     "iopub.status.busy": "2020-09-28T14:43:38.241546Z",
     "iopub.status.idle": "2020-09-28T14:43:38.832561Z",
     "shell.execute_reply": "2020-09-28T14:43:38.833163Z"
    },
    "papermill": {
     "duration": 0.67412,
     "end_time": "2020-09-28T14:43:38.833316",
     "exception": false,
     "start_time": "2020-09-28T14:43:38.159196",
     "status": "completed"
    },
    "tags": []
   },
   "outputs": [
    {
     "data": {
      "text/html": [
       "<div>\n",
       "<style scoped>\n",
       "    .dataframe tbody tr th:only-of-type {\n",
       "        vertical-align: middle;\n",
       "    }\n",
       "\n",
       "    .dataframe tbody tr th {\n",
       "        vertical-align: top;\n",
       "    }\n",
       "\n",
       "    .dataframe thead th {\n",
       "        text-align: right;\n",
       "    }\n",
       "</style>\n",
       "<table border=\"1\" class=\"dataframe\">\n",
       "  <thead>\n",
       "    <tr style=\"text-align: right;\">\n",
       "      <th></th>\n",
       "      <th>H</th>\n",
       "      <th>epoch</th>\n",
       "      <th>epoch_mjd</th>\n",
       "      <th>epoch_cal</th>\n",
       "      <th>e</th>\n",
       "      <th>a</th>\n",
       "      <th>q</th>\n",
       "      <th>i</th>\n",
       "      <th>om</th>\n",
       "      <th>w</th>\n",
       "      <th>ma</th>\n",
       "      <th>ad</th>\n",
       "      <th>n</th>\n",
       "      <th>tp</th>\n",
       "      <th>tp_cal</th>\n",
       "      <th>per</th>\n",
       "      <th>per_y</th>\n",
       "      <th>moid</th>\n",
       "      <th>moid_ld</th>\n",
       "      <th>sigma_e</th>\n",
       "      <th>sigma_a</th>\n",
       "      <th>sigma_q</th>\n",
       "      <th>sigma_i</th>\n",
       "      <th>sigma_om</th>\n",
       "      <th>sigma_w</th>\n",
       "      <th>sigma_ma</th>\n",
       "      <th>sigma_ad</th>\n",
       "      <th>sigma_n</th>\n",
       "      <th>sigma_tp</th>\n",
       "      <th>sigma_per</th>\n",
       "      <th>cal</th>\n",
       "    </tr>\n",
       "  </thead>\n",
       "  <tbody>\n",
       "    <tr>\n",
       "      <th>0</th>\n",
       "      <td>0.131195</td>\n",
       "      <td>0.988218</td>\n",
       "      <td>0.988218</td>\n",
       "      <td>0.989134</td>\n",
       "      <td>0.076017</td>\n",
       "      <td>0.000066</td>\n",
       "      <td>0.030975</td>\n",
       "      <td>0.060467</td>\n",
       "      <td>0.223071</td>\n",
       "      <td>0.204438</td>\n",
       "      <td>0.258627</td>\n",
       "      <td>0.000035</td>\n",
       "      <td>0.089827</td>\n",
       "      <td>0.665157</td>\n",
       "      <td>0.665258</td>\n",
       "      <td>6.843780e-07</td>\n",
       "      <td>6.843780e-07</td>\n",
       "      <td>0.020066</td>\n",
       "      <td>0.020066</td>\n",
       "      <td>0.000000e+00</td>\n",
       "      <td>0.000000e+00</td>\n",
       "      <td>0.000000e+00</td>\n",
       "      <td>0.000000e+00</td>\n",
       "      <td>0.000000e+00</td>\n",
       "      <td>0.000000e+00</td>\n",
       "      <td>0.000000e+00</td>\n",
       "      <td>0.000000e+00</td>\n",
       "      <td>0.000000e+00</td>\n",
       "      <td>0.000000e+00</td>\n",
       "      <td>0.000000e+00</td>\n",
       "      <td>0.000161</td>\n",
       "    </tr>\n",
       "    <tr>\n",
       "      <th>1</th>\n",
       "      <td>0.154519</td>\n",
       "      <td>1.000000</td>\n",
       "      <td>1.000000</td>\n",
       "      <td>1.000000</td>\n",
       "      <td>0.230004</td>\n",
       "      <td>0.000066</td>\n",
       "      <td>0.025712</td>\n",
       "      <td>0.198916</td>\n",
       "      <td>0.480625</td>\n",
       "      <td>0.861674</td>\n",
       "      <td>0.379616</td>\n",
       "      <td>0.000041</td>\n",
       "      <td>0.089600</td>\n",
       "      <td>0.665470</td>\n",
       "      <td>0.665298</td>\n",
       "      <td>6.862835e-07</td>\n",
       "      <td>6.862835e-07</td>\n",
       "      <td>0.015530</td>\n",
       "      <td>0.015530</td>\n",
       "      <td>8.090090e-13</td>\n",
       "      <td>1.240189e-15</td>\n",
       "      <td>8.654941e-14</td>\n",
       "      <td>6.263130e-11</td>\n",
       "      <td>5.177466e-12</td>\n",
       "      <td>2.713713e-16</td>\n",
       "      <td>2.650353e-16</td>\n",
       "      <td>8.982159e-16</td>\n",
       "      <td>6.024315e-14</td>\n",
       "      <td>3.919442e-18</td>\n",
       "      <td>1.921770e-16</td>\n",
       "      <td>0.000134</td>\n",
       "    </tr>\n",
       "    <tr>\n",
       "      <th>2</th>\n",
       "      <td>0.187464</td>\n",
       "      <td>1.000000</td>\n",
       "      <td>1.000000</td>\n",
       "      <td>1.000000</td>\n",
       "      <td>0.256972</td>\n",
       "      <td>0.000063</td>\n",
       "      <td>0.023805</td>\n",
       "      <td>0.074158</td>\n",
       "      <td>0.471810</td>\n",
       "      <td>0.689073</td>\n",
       "      <td>0.344645</td>\n",
       "      <td>0.000040</td>\n",
       "      <td>0.094969</td>\n",
       "      <td>0.665944</td>\n",
       "      <td>0.665354</td>\n",
       "      <td>6.436662e-07</td>\n",
       "      <td>6.436662e-07</td>\n",
       "      <td>0.013014</td>\n",
       "      <td>0.013014</td>\n",
       "      <td>7.734985e-13</td>\n",
       "      <td>1.067413e-15</td>\n",
       "      <td>7.978471e-14</td>\n",
       "      <td>5.811296e-11</td>\n",
       "      <td>1.379226e-11</td>\n",
       "      <td>5.279581e-16</td>\n",
       "      <td>2.425802e-16</td>\n",
       "      <td>7.893170e-16</td>\n",
       "      <td>5.712579e-14</td>\n",
       "      <td>3.390596e-18</td>\n",
       "      <td>1.623340e-16</td>\n",
       "      <td>0.000126</td>\n",
       "    </tr>\n",
       "    <tr>\n",
       "      <th>3</th>\n",
       "      <td>0.119534</td>\n",
       "      <td>0.988218</td>\n",
       "      <td>0.988218</td>\n",
       "      <td>0.989134</td>\n",
       "      <td>0.088732</td>\n",
       "      <td>0.000054</td>\n",
       "      <td>0.025911</td>\n",
       "      <td>0.040748</td>\n",
       "      <td>0.288363</td>\n",
       "      <td>0.418691</td>\n",
       "      <td>0.291718</td>\n",
       "      <td>0.000029</td>\n",
       "      <td>0.114070</td>\n",
       "      <td>0.665191</td>\n",
       "      <td>0.665269</td>\n",
       "      <td>5.245750e-07</td>\n",
       "      <td>5.245750e-07</td>\n",
       "      <td>0.014337</td>\n",
       "      <td>0.014337</td>\n",
       "      <td>5.787698e-15</td>\n",
       "      <td>4.626990e-16</td>\n",
       "      <td>1.872941e-15</td>\n",
       "      <td>3.838605e-12</td>\n",
       "      <td>2.721208e-13</td>\n",
       "      <td>3.377246e-18</td>\n",
       "      <td>3.599341e-17</td>\n",
       "      <td>2.974572e-16</td>\n",
       "      <td>3.374552e-14</td>\n",
       "      <td>3.905962e-19</td>\n",
       "      <td>6.599895e-17</td>\n",
       "      <td>0.000149</td>\n",
       "    </tr>\n",
       "    <tr>\n",
       "      <th>4</th>\n",
       "      <td>0.233236</td>\n",
       "      <td>1.000000</td>\n",
       "      <td>1.000000</td>\n",
       "      <td>1.000000</td>\n",
       "      <td>0.190939</td>\n",
       "      <td>0.000060</td>\n",
       "      <td>0.025049</td>\n",
       "      <td>0.030614</td>\n",
       "      <td>0.393253</td>\n",
       "      <td>0.996247</td>\n",
       "      <td>0.152094</td>\n",
       "      <td>0.000036</td>\n",
       "      <td>0.100232</td>\n",
       "      <td>0.667768</td>\n",
       "      <td>0.668020</td>\n",
       "      <td>6.063194e-07</td>\n",
       "      <td>6.063194e-07</td>\n",
       "      <td>0.013787</td>\n",
       "      <td>0.013787</td>\n",
       "      <td>6.010192e-13</td>\n",
       "      <td>1.221677e-15</td>\n",
       "      <td>5.968667e-14</td>\n",
       "      <td>4.943774e-11</td>\n",
       "      <td>2.404995e-11</td>\n",
       "      <td>8.902335e-16</td>\n",
       "      <td>2.482689e-16</td>\n",
       "      <td>8.564713e-16</td>\n",
       "      <td>7.154362e-14</td>\n",
       "      <td>3.332904e-18</td>\n",
       "      <td>1.822293e-16</td>\n",
       "      <td>0.000194</td>\n",
       "    </tr>\n",
       "  </tbody>\n",
       "</table>\n",
       "</div>"
      ],
      "text/plain": [
       "          H     epoch  epoch_mjd  epoch_cal         e         a         q  \\\n",
       "0  0.131195  0.988218   0.988218   0.989134  0.076017  0.000066  0.030975   \n",
       "1  0.154519  1.000000   1.000000   1.000000  0.230004  0.000066  0.025712   \n",
       "2  0.187464  1.000000   1.000000   1.000000  0.256972  0.000063  0.023805   \n",
       "3  0.119534  0.988218   0.988218   0.989134  0.088732  0.000054  0.025911   \n",
       "4  0.233236  1.000000   1.000000   1.000000  0.190939  0.000060  0.025049   \n",
       "\n",
       "          i        om         w        ma        ad         n        tp  \\\n",
       "0  0.060467  0.223071  0.204438  0.258627  0.000035  0.089827  0.665157   \n",
       "1  0.198916  0.480625  0.861674  0.379616  0.000041  0.089600  0.665470   \n",
       "2  0.074158  0.471810  0.689073  0.344645  0.000040  0.094969  0.665944   \n",
       "3  0.040748  0.288363  0.418691  0.291718  0.000029  0.114070  0.665191   \n",
       "4  0.030614  0.393253  0.996247  0.152094  0.000036  0.100232  0.667768   \n",
       "\n",
       "     tp_cal           per         per_y      moid   moid_ld       sigma_e  \\\n",
       "0  0.665258  6.843780e-07  6.843780e-07  0.020066  0.020066  0.000000e+00   \n",
       "1  0.665298  6.862835e-07  6.862835e-07  0.015530  0.015530  8.090090e-13   \n",
       "2  0.665354  6.436662e-07  6.436662e-07  0.013014  0.013014  7.734985e-13   \n",
       "3  0.665269  5.245750e-07  5.245750e-07  0.014337  0.014337  5.787698e-15   \n",
       "4  0.668020  6.063194e-07  6.063194e-07  0.013787  0.013787  6.010192e-13   \n",
       "\n",
       "        sigma_a       sigma_q       sigma_i      sigma_om       sigma_w  \\\n",
       "0  0.000000e+00  0.000000e+00  0.000000e+00  0.000000e+00  0.000000e+00   \n",
       "1  1.240189e-15  8.654941e-14  6.263130e-11  5.177466e-12  2.713713e-16   \n",
       "2  1.067413e-15  7.978471e-14  5.811296e-11  1.379226e-11  5.279581e-16   \n",
       "3  4.626990e-16  1.872941e-15  3.838605e-12  2.721208e-13  3.377246e-18   \n",
       "4  1.221677e-15  5.968667e-14  4.943774e-11  2.404995e-11  8.902335e-16   \n",
       "\n",
       "       sigma_ma      sigma_ad       sigma_n      sigma_tp     sigma_per  \\\n",
       "0  0.000000e+00  0.000000e+00  0.000000e+00  0.000000e+00  0.000000e+00   \n",
       "1  2.650353e-16  8.982159e-16  6.024315e-14  3.919442e-18  1.921770e-16   \n",
       "2  2.425802e-16  7.893170e-16  5.712579e-14  3.390596e-18  1.623340e-16   \n",
       "3  3.599341e-17  2.974572e-16  3.374552e-14  3.905962e-19  6.599895e-17   \n",
       "4  2.482689e-16  8.564713e-16  7.154362e-14  3.332904e-18  1.822293e-16   \n",
       "\n",
       "        cal  \n",
       "0  0.000161  \n",
       "1  0.000134  \n",
       "2  0.000126  \n",
       "3  0.000149  \n",
       "4  0.000194  "
      ]
     },
     "execution_count": 30,
     "metadata": {},
     "output_type": "execute_result"
    }
   ],
   "source": [
    "from sklearn import preprocessing\n",
    "\n",
    "scaler = preprocessing.MinMaxScaler()\n",
    "scaled_df = scaler.fit_transform(subset_df)\n",
    "scaled_df = pd.DataFrame(scaled_df, columns=subset_df.columns)\n",
    "asteroid_df = pd.concat([asteroid_df[['spkid', 'full_name', 'neo', 'pha', 'orbit_id', 'class']],scaled_df], axis=1)\n",
    "scaled_df.head()"
   ]
  },
  {
   "attachments": {},
   "cell_type": "markdown",
   "metadata": {
    "papermill": {
     "duration": 0.075218,
     "end_time": "2020-09-28T14:43:38.992374",
     "exception": false,
     "start_time": "2020-09-28T14:43:38.917156",
     "status": "completed"
    },
    "tags": []
   },
   "source": [
    "Convert the categorical columns 'neo' and 'class' and object column 'orbit_id' into one-hot encoding variables."
   ]
  },
  {
   "cell_type": "code",
   "execution_count": 31,
   "metadata": {
    "execution": {
     "iopub.execute_input": "2020-09-28T14:43:39.143382Z",
     "iopub.status.busy": "2020-09-28T14:43:39.142754Z",
     "iopub.status.idle": "2020-09-28T14:43:41.413629Z",
     "shell.execute_reply": "2020-09-28T14:43:41.414136Z"
    },
    "papermill": {
     "duration": 2.347703,
     "end_time": "2020-09-28T14:43:41.414273",
     "exception": false,
     "start_time": "2020-09-28T14:43:39.066570",
     "status": "completed"
    },
    "tags": []
   },
   "outputs": [
    {
     "data": {
      "text/html": [
       "<div>\n",
       "<style scoped>\n",
       "    .dataframe tbody tr th:only-of-type {\n",
       "        vertical-align: middle;\n",
       "    }\n",
       "\n",
       "    .dataframe tbody tr th {\n",
       "        vertical-align: top;\n",
       "    }\n",
       "\n",
       "    .dataframe thead th {\n",
       "        text-align: right;\n",
       "    }\n",
       "</style>\n",
       "<table border=\"1\" class=\"dataframe\">\n",
       "  <thead>\n",
       "    <tr style=\"text-align: right;\">\n",
       "      <th></th>\n",
       "      <th>spkid</th>\n",
       "      <th>full_name</th>\n",
       "      <th>pha</th>\n",
       "      <th>H</th>\n",
       "      <th>epoch</th>\n",
       "      <th>epoch_mjd</th>\n",
       "      <th>epoch_cal</th>\n",
       "      <th>e</th>\n",
       "      <th>a</th>\n",
       "      <th>q</th>\n",
       "      <th>i</th>\n",
       "      <th>om</th>\n",
       "      <th>w</th>\n",
       "      <th>ma</th>\n",
       "      <th>ad</th>\n",
       "      <th>n</th>\n",
       "      <th>tp</th>\n",
       "      <th>tp_cal</th>\n",
       "      <th>per</th>\n",
       "      <th>per_y</th>\n",
       "      <th>moid</th>\n",
       "      <th>moid_ld</th>\n",
       "      <th>sigma_e</th>\n",
       "      <th>sigma_a</th>\n",
       "      <th>sigma_q</th>\n",
       "      <th>sigma_i</th>\n",
       "      <th>sigma_om</th>\n",
       "      <th>sigma_w</th>\n",
       "      <th>sigma_ma</th>\n",
       "      <th>sigma_ad</th>\n",
       "      <th>sigma_n</th>\n",
       "      <th>sigma_tp</th>\n",
       "      <th>sigma_per</th>\n",
       "      <th>cal</th>\n",
       "      <th>neo_N</th>\n",
       "      <th>neo_Y</th>\n",
       "      <th>class_AMO</th>\n",
       "      <th>class_APO</th>\n",
       "      <th>class_AST</th>\n",
       "      <th>class_ATE</th>\n",
       "      <th>class_CEN</th>\n",
       "      <th>class_IEO</th>\n",
       "      <th>class_IMB</th>\n",
       "      <th>class_MBA</th>\n",
       "      <th>class_MCA</th>\n",
       "      <th>class_OMB</th>\n",
       "      <th>class_TJN</th>\n",
       "      <th>class_TNO</th>\n",
       "      <th>orbit_id_1</th>\n",
       "      <th>orbit_id_10</th>\n",
       "      <th>orbit_id_101</th>\n",
       "      <th>orbit_id_103</th>\n",
       "      <th>orbit_id_104</th>\n",
       "      <th>orbit_id_11</th>\n",
       "      <th>orbit_id_12</th>\n",
       "      <th>orbit_id_13</th>\n",
       "      <th>orbit_id_14</th>\n",
       "      <th>orbit_id_15</th>\n",
       "      <th>orbit_id_16</th>\n",
       "      <th>orbit_id_17</th>\n",
       "      <th>orbit_id_18</th>\n",
       "      <th>orbit_id_19</th>\n",
       "      <th>orbit_id_2</th>\n",
       "      <th>orbit_id_20</th>\n",
       "      <th>orbit_id_21</th>\n",
       "      <th>orbit_id_22</th>\n",
       "      <th>orbit_id_23</th>\n",
       "      <th>orbit_id_24</th>\n",
       "      <th>orbit_id_25</th>\n",
       "      <th>orbit_id_26</th>\n",
       "      <th>orbit_id_27</th>\n",
       "      <th>orbit_id_28</th>\n",
       "      <th>orbit_id_29</th>\n",
       "      <th>orbit_id_3</th>\n",
       "      <th>orbit_id_30</th>\n",
       "      <th>orbit_id_31</th>\n",
       "      <th>orbit_id_32</th>\n",
       "      <th>orbit_id_33</th>\n",
       "      <th>orbit_id_34</th>\n",
       "      <th>orbit_id_35</th>\n",
       "      <th>orbit_id_36</th>\n",
       "      <th>orbit_id_37</th>\n",
       "      <th>orbit_id_38</th>\n",
       "      <th>orbit_id_39</th>\n",
       "      <th>orbit_id_4</th>\n",
       "      <th>orbit_id_40</th>\n",
       "      <th>orbit_id_41</th>\n",
       "      <th>orbit_id_42</th>\n",
       "      <th>orbit_id_43</th>\n",
       "      <th>orbit_id_44</th>\n",
       "      <th>orbit_id_45</th>\n",
       "      <th>orbit_id_46</th>\n",
       "      <th>orbit_id_47</th>\n",
       "      <th>orbit_id_48</th>\n",
       "      <th>orbit_id_49</th>\n",
       "      <th>orbit_id_5</th>\n",
       "      <th>orbit_id_50</th>\n",
       "      <th>orbit_id_51</th>\n",
       "      <th>orbit_id_52</th>\n",
       "      <th>orbit_id_53</th>\n",
       "      <th>orbit_id_54</th>\n",
       "      <th>orbit_id_55</th>\n",
       "      <th>orbit_id_56</th>\n",
       "      <th>orbit_id_57</th>\n",
       "      <th>orbit_id_58</th>\n",
       "      <th>orbit_id_59</th>\n",
       "      <th>orbit_id_6</th>\n",
       "      <th>orbit_id_60</th>\n",
       "      <th>orbit_id_61</th>\n",
       "      <th>orbit_id_62</th>\n",
       "      <th>orbit_id_63</th>\n",
       "      <th>orbit_id_64</th>\n",
       "      <th>orbit_id_65</th>\n",
       "      <th>orbit_id_66</th>\n",
       "      <th>orbit_id_67</th>\n",
       "      <th>orbit_id_68</th>\n",
       "      <th>orbit_id_69</th>\n",
       "      <th>orbit_id_7</th>\n",
       "      <th>orbit_id_70</th>\n",
       "      <th>orbit_id_71</th>\n",
       "      <th>orbit_id_72</th>\n",
       "      <th>orbit_id_73</th>\n",
       "      <th>orbit_id_74</th>\n",
       "      <th>orbit_id_75</th>\n",
       "      <th>orbit_id_76</th>\n",
       "      <th>orbit_id_77</th>\n",
       "      <th>orbit_id_8</th>\n",
       "      <th>orbit_id_80</th>\n",
       "      <th>orbit_id_81</th>\n",
       "      <th>orbit_id_82</th>\n",
       "      <th>orbit_id_83</th>\n",
       "      <th>orbit_id_85</th>\n",
       "      <th>orbit_id_86</th>\n",
       "      <th>orbit_id_87</th>\n",
       "      <th>orbit_id_88</th>\n",
       "      <th>orbit_id_89</th>\n",
       "      <th>orbit_id_9</th>\n",
       "      <th>orbit_id_91</th>\n",
       "      <th>orbit_id_94</th>\n",
       "      <th>orbit_id_95</th>\n",
       "      <th>orbit_id_99</th>\n",
       "      <th>orbit_id_JPL 1</th>\n",
       "      <th>orbit_id_JPL 10</th>\n",
       "      <th>orbit_id_JPL 100</th>\n",
       "      <th>orbit_id_JPL 102</th>\n",
       "      <th>orbit_id_JPL 103</th>\n",
       "      <th>orbit_id_JPL 105</th>\n",
       "      <th>orbit_id_JPL 106</th>\n",
       "      <th>orbit_id_JPL 107</th>\n",
       "      <th>orbit_id_JPL 108</th>\n",
       "      <th>orbit_id_JPL 11</th>\n",
       "      <th>orbit_id_JPL 110</th>\n",
       "      <th>orbit_id_JPL 117</th>\n",
       "      <th>orbit_id_JPL 12</th>\n",
       "      <th>orbit_id_JPL 13</th>\n",
       "      <th>orbit_id_JPL 14</th>\n",
       "      <th>orbit_id_JPL 15</th>\n",
       "      <th>orbit_id_JPL 16</th>\n",
       "      <th>orbit_id_JPL 17</th>\n",
       "      <th>orbit_id_JPL 18</th>\n",
       "      <th>orbit_id_JPL 19</th>\n",
       "      <th>orbit_id_JPL 2</th>\n",
       "      <th>orbit_id_JPL 20</th>\n",
       "      <th>orbit_id_JPL 21</th>\n",
       "      <th>orbit_id_JPL 22</th>\n",
       "      <th>orbit_id_JPL 23</th>\n",
       "      <th>orbit_id_JPL 24</th>\n",
       "      <th>orbit_id_JPL 25</th>\n",
       "      <th>orbit_id_JPL 26</th>\n",
       "      <th>orbit_id_JPL 27</th>\n",
       "      <th>orbit_id_JPL 28</th>\n",
       "      <th>orbit_id_JPL 29</th>\n",
       "      <th>orbit_id_JPL 3</th>\n",
       "      <th>orbit_id_JPL 30</th>\n",
       "      <th>orbit_id_JPL 31</th>\n",
       "      <th>orbit_id_JPL 32</th>\n",
       "      <th>orbit_id_JPL 33</th>\n",
       "      <th>orbit_id_JPL 34</th>\n",
       "      <th>orbit_id_JPL 35</th>\n",
       "      <th>orbit_id_JPL 36</th>\n",
       "      <th>orbit_id_JPL 37</th>\n",
       "      <th>orbit_id_JPL 38</th>\n",
       "      <th>orbit_id_JPL 39</th>\n",
       "      <th>orbit_id_JPL 4</th>\n",
       "      <th>orbit_id_JPL 40</th>\n",
       "      <th>orbit_id_JPL 41</th>\n",
       "      <th>orbit_id_JPL 42</th>\n",
       "      <th>orbit_id_JPL 43</th>\n",
       "      <th>orbit_id_JPL 44</th>\n",
       "      <th>orbit_id_JPL 45</th>\n",
       "      <th>orbit_id_JPL 46</th>\n",
       "      <th>orbit_id_JPL 47</th>\n",
       "      <th>orbit_id_JPL 48</th>\n",
       "      <th>orbit_id_JPL 49</th>\n",
       "      <th>orbit_id_JPL 5</th>\n",
       "      <th>orbit_id_JPL 50</th>\n",
       "      <th>orbit_id_JPL 51</th>\n",
       "      <th>orbit_id_JPL 52</th>\n",
       "      <th>orbit_id_JPL 53</th>\n",
       "      <th>orbit_id_JPL 54</th>\n",
       "      <th>orbit_id_JPL 55</th>\n",
       "      <th>orbit_id_JPL 56</th>\n",
       "      <th>orbit_id_JPL 57</th>\n",
       "      <th>orbit_id_JPL 58</th>\n",
       "      <th>orbit_id_JPL 59</th>\n",
       "      <th>orbit_id_JPL 6</th>\n",
       "      <th>orbit_id_JPL 60</th>\n",
       "      <th>orbit_id_JPL 61</th>\n",
       "      <th>orbit_id_JPL 62</th>\n",
       "      <th>orbit_id_JPL 63</th>\n",
       "      <th>orbit_id_JPL 64</th>\n",
       "      <th>orbit_id_JPL 65</th>\n",
       "      <th>orbit_id_JPL 66</th>\n",
       "      <th>orbit_id_JPL 67</th>\n",
       "      <th>orbit_id_JPL 68</th>\n",
       "      <th>orbit_id_JPL 69</th>\n",
       "      <th>orbit_id_JPL 7</th>\n",
       "      <th>orbit_id_JPL 70</th>\n",
       "      <th>orbit_id_JPL 71</th>\n",
       "      <th>orbit_id_JPL 72</th>\n",
       "      <th>orbit_id_JPL 73</th>\n",
       "      <th>orbit_id_JPL 74</th>\n",
       "      <th>orbit_id_JPL 75</th>\n",
       "      <th>orbit_id_JPL 76</th>\n",
       "      <th>orbit_id_JPL 77</th>\n",
       "      <th>orbit_id_JPL 78</th>\n",
       "      <th>orbit_id_JPL 79</th>\n",
       "      <th>orbit_id_JPL 8</th>\n",
       "      <th>orbit_id_JPL 80</th>\n",
       "      <th>orbit_id_JPL 81</th>\n",
       "      <th>orbit_id_JPL 82</th>\n",
       "      <th>orbit_id_JPL 83</th>\n",
       "      <th>orbit_id_JPL 84</th>\n",
       "      <th>orbit_id_JPL 86</th>\n",
       "      <th>orbit_id_JPL 87</th>\n",
       "      <th>orbit_id_JPL 9</th>\n",
       "      <th>orbit_id_JPL 91</th>\n",
       "      <th>orbit_id_JPL 94</th>\n",
       "      <th>orbit_id_JPL 96</th>\n",
       "      <th>orbit_id_JPL 97</th>\n",
       "      <th>orbit_id_JPL 98</th>\n",
       "      <th>orbit_id_JPL 99</th>\n",
       "      <th>orbit_id_other</th>\n",
       "    </tr>\n",
       "  </thead>\n",
       "  <tbody>\n",
       "    <tr>\n",
       "      <th>0</th>\n",
       "      <td>2000001</td>\n",
       "      <td>1 Ceres</td>\n",
       "      <td>N</td>\n",
       "      <td>0.131195</td>\n",
       "      <td>0.988218</td>\n",
       "      <td>0.988218</td>\n",
       "      <td>0.989134</td>\n",
       "      <td>0.076017</td>\n",
       "      <td>0.000066</td>\n",
       "      <td>0.030975</td>\n",
       "      <td>0.060467</td>\n",
       "      <td>0.223071</td>\n",
       "      <td>0.204438</td>\n",
       "      <td>0.258627</td>\n",
       "      <td>0.000035</td>\n",
       "      <td>0.089827</td>\n",
       "      <td>0.665157</td>\n",
       "      <td>0.665258</td>\n",
       "      <td>6.843780e-07</td>\n",
       "      <td>6.843780e-07</td>\n",
       "      <td>0.020066</td>\n",
       "      <td>0.020066</td>\n",
       "      <td>0.000000e+00</td>\n",
       "      <td>0.000000e+00</td>\n",
       "      <td>0.000000e+00</td>\n",
       "      <td>0.000000e+00</td>\n",
       "      <td>0.000000e+00</td>\n",
       "      <td>0.000000e+00</td>\n",
       "      <td>0.000000e+00</td>\n",
       "      <td>0.000000e+00</td>\n",
       "      <td>0.000000e+00</td>\n",
       "      <td>0.000000e+00</td>\n",
       "      <td>0.000000e+00</td>\n",
       "      <td>0.000161</td>\n",
       "      <td>1</td>\n",
       "      <td>0</td>\n",
       "      <td>0</td>\n",
       "      <td>0</td>\n",
       "      <td>0</td>\n",
       "      <td>0</td>\n",
       "      <td>0</td>\n",
       "      <td>0</td>\n",
       "      <td>0</td>\n",
       "      <td>1</td>\n",
       "      <td>0</td>\n",
       "      <td>0</td>\n",
       "      <td>0</td>\n",
       "      <td>0</td>\n",
       "      <td>0</td>\n",
       "      <td>0</td>\n",
       "      <td>0</td>\n",
       "      <td>0</td>\n",
       "      <td>0</td>\n",
       "      <td>0</td>\n",
       "      <td>0</td>\n",
       "      <td>0</td>\n",
       "      <td>0</td>\n",
       "      <td>0</td>\n",
       "      <td>0</td>\n",
       "      <td>0</td>\n",
       "      <td>0</td>\n",
       "      <td>0</td>\n",
       "      <td>0</td>\n",
       "      <td>0</td>\n",
       "      <td>0</td>\n",
       "      <td>0</td>\n",
       "      <td>0</td>\n",
       "      <td>0</td>\n",
       "      <td>0</td>\n",
       "      <td>0</td>\n",
       "      <td>0</td>\n",
       "      <td>0</td>\n",
       "      <td>0</td>\n",
       "      <td>0</td>\n",
       "      <td>0</td>\n",
       "      <td>0</td>\n",
       "      <td>0</td>\n",
       "      <td>0</td>\n",
       "      <td>0</td>\n",
       "      <td>0</td>\n",
       "      <td>0</td>\n",
       "      <td>0</td>\n",
       "      <td>0</td>\n",
       "      <td>0</td>\n",
       "      <td>0</td>\n",
       "      <td>0</td>\n",
       "      <td>0</td>\n",
       "      <td>0</td>\n",
       "      <td>0</td>\n",
       "      <td>0</td>\n",
       "      <td>0</td>\n",
       "      <td>0</td>\n",
       "      <td>0</td>\n",
       "      <td>0</td>\n",
       "      <td>0</td>\n",
       "      <td>0</td>\n",
       "      <td>0</td>\n",
       "      <td>0</td>\n",
       "      <td>0</td>\n",
       "      <td>0</td>\n",
       "      <td>0</td>\n",
       "      <td>0</td>\n",
       "      <td>0</td>\n",
       "      <td>0</td>\n",
       "      <td>0</td>\n",
       "      <td>0</td>\n",
       "      <td>0</td>\n",
       "      <td>0</td>\n",
       "      <td>0</td>\n",
       "      <td>0</td>\n",
       "      <td>0</td>\n",
       "      <td>0</td>\n",
       "      <td>0</td>\n",
       "      <td>0</td>\n",
       "      <td>0</td>\n",
       "      <td>0</td>\n",
       "      <td>0</td>\n",
       "      <td>0</td>\n",
       "      <td>0</td>\n",
       "      <td>0</td>\n",
       "      <td>0</td>\n",
       "      <td>0</td>\n",
       "      <td>0</td>\n",
       "      <td>0</td>\n",
       "      <td>0</td>\n",
       "      <td>0</td>\n",
       "      <td>0</td>\n",
       "      <td>0</td>\n",
       "      <td>0</td>\n",
       "      <td>0</td>\n",
       "      <td>0</td>\n",
       "      <td>0</td>\n",
       "      <td>0</td>\n",
       "      <td>0</td>\n",
       "      <td>0</td>\n",
       "      <td>0</td>\n",
       "      <td>0</td>\n",
       "      <td>0</td>\n",
       "      <td>0</td>\n",
       "      <td>0</td>\n",
       "      <td>0</td>\n",
       "      <td>0</td>\n",
       "      <td>0</td>\n",
       "      <td>0</td>\n",
       "      <td>0</td>\n",
       "      <td>0</td>\n",
       "      <td>0</td>\n",
       "      <td>0</td>\n",
       "      <td>0</td>\n",
       "      <td>0</td>\n",
       "      <td>0</td>\n",
       "      <td>0</td>\n",
       "      <td>0</td>\n",
       "      <td>0</td>\n",
       "      <td>0</td>\n",
       "      <td>0</td>\n",
       "      <td>0</td>\n",
       "      <td>0</td>\n",
       "      <td>0</td>\n",
       "      <td>0</td>\n",
       "      <td>0</td>\n",
       "      <td>0</td>\n",
       "      <td>0</td>\n",
       "      <td>0</td>\n",
       "      <td>0</td>\n",
       "      <td>0</td>\n",
       "      <td>0</td>\n",
       "      <td>0</td>\n",
       "      <td>0</td>\n",
       "      <td>0</td>\n",
       "      <td>0</td>\n",
       "      <td>0</td>\n",
       "      <td>0</td>\n",
       "      <td>0</td>\n",
       "      <td>0</td>\n",
       "      <td>0</td>\n",
       "      <td>0</td>\n",
       "      <td>0</td>\n",
       "      <td>0</td>\n",
       "      <td>0</td>\n",
       "      <td>0</td>\n",
       "      <td>0</td>\n",
       "      <td>0</td>\n",
       "      <td>0</td>\n",
       "      <td>0</td>\n",
       "      <td>0</td>\n",
       "      <td>0</td>\n",
       "      <td>0</td>\n",
       "      <td>0</td>\n",
       "      <td>0</td>\n",
       "      <td>0</td>\n",
       "      <td>1</td>\n",
       "      <td>0</td>\n",
       "      <td>0</td>\n",
       "      <td>0</td>\n",
       "      <td>0</td>\n",
       "      <td>0</td>\n",
       "      <td>0</td>\n",
       "      <td>0</td>\n",
       "      <td>0</td>\n",
       "      <td>0</td>\n",
       "      <td>0</td>\n",
       "      <td>0</td>\n",
       "      <td>0</td>\n",
       "      <td>0</td>\n",
       "      <td>0</td>\n",
       "      <td>0</td>\n",
       "      <td>0</td>\n",
       "      <td>0</td>\n",
       "      <td>0</td>\n",
       "      <td>0</td>\n",
       "      <td>0</td>\n",
       "      <td>0</td>\n",
       "      <td>0</td>\n",
       "      <td>0</td>\n",
       "      <td>0</td>\n",
       "      <td>0</td>\n",
       "      <td>0</td>\n",
       "      <td>0</td>\n",
       "      <td>0</td>\n",
       "      <td>0</td>\n",
       "      <td>0</td>\n",
       "      <td>0</td>\n",
       "      <td>0</td>\n",
       "      <td>0</td>\n",
       "      <td>0</td>\n",
       "      <td>0</td>\n",
       "      <td>0</td>\n",
       "      <td>0</td>\n",
       "      <td>0</td>\n",
       "      <td>0</td>\n",
       "      <td>0</td>\n",
       "      <td>0</td>\n",
       "      <td>0</td>\n",
       "      <td>0</td>\n",
       "      <td>0</td>\n",
       "      <td>0</td>\n",
       "      <td>0</td>\n",
       "      <td>0</td>\n",
       "      <td>0</td>\n",
       "      <td>0</td>\n",
       "      <td>0</td>\n",
       "      <td>0</td>\n",
       "    </tr>\n",
       "    <tr>\n",
       "      <th>1</th>\n",
       "      <td>2000002</td>\n",
       "      <td>2 Pallas</td>\n",
       "      <td>N</td>\n",
       "      <td>0.154519</td>\n",
       "      <td>1.000000</td>\n",
       "      <td>1.000000</td>\n",
       "      <td>1.000000</td>\n",
       "      <td>0.230004</td>\n",
       "      <td>0.000066</td>\n",
       "      <td>0.025712</td>\n",
       "      <td>0.198916</td>\n",
       "      <td>0.480625</td>\n",
       "      <td>0.861674</td>\n",
       "      <td>0.379616</td>\n",
       "      <td>0.000041</td>\n",
       "      <td>0.089600</td>\n",
       "      <td>0.665470</td>\n",
       "      <td>0.665298</td>\n",
       "      <td>6.862835e-07</td>\n",
       "      <td>6.862835e-07</td>\n",
       "      <td>0.015530</td>\n",
       "      <td>0.015530</td>\n",
       "      <td>8.090090e-13</td>\n",
       "      <td>1.240189e-15</td>\n",
       "      <td>8.654941e-14</td>\n",
       "      <td>6.263130e-11</td>\n",
       "      <td>5.177466e-12</td>\n",
       "      <td>2.713713e-16</td>\n",
       "      <td>2.650353e-16</td>\n",
       "      <td>8.982159e-16</td>\n",
       "      <td>6.024315e-14</td>\n",
       "      <td>3.919442e-18</td>\n",
       "      <td>1.921770e-16</td>\n",
       "      <td>0.000134</td>\n",
       "      <td>1</td>\n",
       "      <td>0</td>\n",
       "      <td>0</td>\n",
       "      <td>0</td>\n",
       "      <td>0</td>\n",
       "      <td>0</td>\n",
       "      <td>0</td>\n",
       "      <td>0</td>\n",
       "      <td>0</td>\n",
       "      <td>1</td>\n",
       "      <td>0</td>\n",
       "      <td>0</td>\n",
       "      <td>0</td>\n",
       "      <td>0</td>\n",
       "      <td>0</td>\n",
       "      <td>0</td>\n",
       "      <td>0</td>\n",
       "      <td>0</td>\n",
       "      <td>0</td>\n",
       "      <td>0</td>\n",
       "      <td>0</td>\n",
       "      <td>0</td>\n",
       "      <td>0</td>\n",
       "      <td>0</td>\n",
       "      <td>0</td>\n",
       "      <td>0</td>\n",
       "      <td>0</td>\n",
       "      <td>0</td>\n",
       "      <td>0</td>\n",
       "      <td>0</td>\n",
       "      <td>0</td>\n",
       "      <td>0</td>\n",
       "      <td>0</td>\n",
       "      <td>0</td>\n",
       "      <td>0</td>\n",
       "      <td>0</td>\n",
       "      <td>0</td>\n",
       "      <td>0</td>\n",
       "      <td>0</td>\n",
       "      <td>0</td>\n",
       "      <td>0</td>\n",
       "      <td>0</td>\n",
       "      <td>0</td>\n",
       "      <td>0</td>\n",
       "      <td>0</td>\n",
       "      <td>0</td>\n",
       "      <td>0</td>\n",
       "      <td>0</td>\n",
       "      <td>0</td>\n",
       "      <td>0</td>\n",
       "      <td>0</td>\n",
       "      <td>0</td>\n",
       "      <td>0</td>\n",
       "      <td>0</td>\n",
       "      <td>0</td>\n",
       "      <td>0</td>\n",
       "      <td>0</td>\n",
       "      <td>0</td>\n",
       "      <td>0</td>\n",
       "      <td>0</td>\n",
       "      <td>0</td>\n",
       "      <td>0</td>\n",
       "      <td>0</td>\n",
       "      <td>0</td>\n",
       "      <td>0</td>\n",
       "      <td>0</td>\n",
       "      <td>0</td>\n",
       "      <td>0</td>\n",
       "      <td>0</td>\n",
       "      <td>0</td>\n",
       "      <td>0</td>\n",
       "      <td>0</td>\n",
       "      <td>0</td>\n",
       "      <td>0</td>\n",
       "      <td>0</td>\n",
       "      <td>0</td>\n",
       "      <td>0</td>\n",
       "      <td>0</td>\n",
       "      <td>0</td>\n",
       "      <td>0</td>\n",
       "      <td>0</td>\n",
       "      <td>0</td>\n",
       "      <td>0</td>\n",
       "      <td>0</td>\n",
       "      <td>0</td>\n",
       "      <td>0</td>\n",
       "      <td>0</td>\n",
       "      <td>0</td>\n",
       "      <td>0</td>\n",
       "      <td>0</td>\n",
       "      <td>0</td>\n",
       "      <td>0</td>\n",
       "      <td>0</td>\n",
       "      <td>0</td>\n",
       "      <td>0</td>\n",
       "      <td>0</td>\n",
       "      <td>0</td>\n",
       "      <td>0</td>\n",
       "      <td>0</td>\n",
       "      <td>0</td>\n",
       "      <td>0</td>\n",
       "      <td>0</td>\n",
       "      <td>0</td>\n",
       "      <td>0</td>\n",
       "      <td>0</td>\n",
       "      <td>0</td>\n",
       "      <td>0</td>\n",
       "      <td>0</td>\n",
       "      <td>0</td>\n",
       "      <td>0</td>\n",
       "      <td>0</td>\n",
       "      <td>0</td>\n",
       "      <td>0</td>\n",
       "      <td>0</td>\n",
       "      <td>0</td>\n",
       "      <td>0</td>\n",
       "      <td>0</td>\n",
       "      <td>0</td>\n",
       "      <td>0</td>\n",
       "      <td>0</td>\n",
       "      <td>0</td>\n",
       "      <td>0</td>\n",
       "      <td>0</td>\n",
       "      <td>0</td>\n",
       "      <td>0</td>\n",
       "      <td>0</td>\n",
       "      <td>0</td>\n",
       "      <td>0</td>\n",
       "      <td>0</td>\n",
       "      <td>0</td>\n",
       "      <td>0</td>\n",
       "      <td>0</td>\n",
       "      <td>0</td>\n",
       "      <td>0</td>\n",
       "      <td>0</td>\n",
       "      <td>0</td>\n",
       "      <td>0</td>\n",
       "      <td>0</td>\n",
       "      <td>0</td>\n",
       "      <td>0</td>\n",
       "      <td>0</td>\n",
       "      <td>0</td>\n",
       "      <td>0</td>\n",
       "      <td>0</td>\n",
       "      <td>0</td>\n",
       "      <td>0</td>\n",
       "      <td>1</td>\n",
       "      <td>0</td>\n",
       "      <td>0</td>\n",
       "      <td>0</td>\n",
       "      <td>0</td>\n",
       "      <td>0</td>\n",
       "      <td>0</td>\n",
       "      <td>0</td>\n",
       "      <td>0</td>\n",
       "      <td>0</td>\n",
       "      <td>0</td>\n",
       "      <td>0</td>\n",
       "      <td>0</td>\n",
       "      <td>0</td>\n",
       "      <td>0</td>\n",
       "      <td>0</td>\n",
       "      <td>0</td>\n",
       "      <td>0</td>\n",
       "      <td>0</td>\n",
       "      <td>0</td>\n",
       "      <td>0</td>\n",
       "      <td>0</td>\n",
       "      <td>0</td>\n",
       "      <td>0</td>\n",
       "      <td>0</td>\n",
       "      <td>0</td>\n",
       "      <td>0</td>\n",
       "      <td>0</td>\n",
       "      <td>0</td>\n",
       "      <td>0</td>\n",
       "      <td>0</td>\n",
       "      <td>0</td>\n",
       "      <td>0</td>\n",
       "      <td>0</td>\n",
       "      <td>0</td>\n",
       "      <td>0</td>\n",
       "      <td>0</td>\n",
       "      <td>0</td>\n",
       "      <td>0</td>\n",
       "      <td>0</td>\n",
       "      <td>0</td>\n",
       "      <td>0</td>\n",
       "      <td>0</td>\n",
       "      <td>0</td>\n",
       "      <td>0</td>\n",
       "      <td>0</td>\n",
       "      <td>0</td>\n",
       "      <td>0</td>\n",
       "      <td>0</td>\n",
       "      <td>0</td>\n",
       "      <td>0</td>\n",
       "      <td>0</td>\n",
       "      <td>0</td>\n",
       "      <td>0</td>\n",
       "      <td>0</td>\n",
       "      <td>0</td>\n",
       "      <td>0</td>\n",
       "      <td>0</td>\n",
       "      <td>0</td>\n",
       "      <td>0</td>\n",
       "      <td>0</td>\n",
       "      <td>0</td>\n",
       "      <td>0</td>\n",
       "    </tr>\n",
       "    <tr>\n",
       "      <th>2</th>\n",
       "      <td>2000003</td>\n",
       "      <td>3 Juno</td>\n",
       "      <td>N</td>\n",
       "      <td>0.187464</td>\n",
       "      <td>1.000000</td>\n",
       "      <td>1.000000</td>\n",
       "      <td>1.000000</td>\n",
       "      <td>0.256972</td>\n",
       "      <td>0.000063</td>\n",
       "      <td>0.023805</td>\n",
       "      <td>0.074158</td>\n",
       "      <td>0.471810</td>\n",
       "      <td>0.689073</td>\n",
       "      <td>0.344645</td>\n",
       "      <td>0.000040</td>\n",
       "      <td>0.094969</td>\n",
       "      <td>0.665944</td>\n",
       "      <td>0.665354</td>\n",
       "      <td>6.436662e-07</td>\n",
       "      <td>6.436662e-07</td>\n",
       "      <td>0.013014</td>\n",
       "      <td>0.013014</td>\n",
       "      <td>7.734985e-13</td>\n",
       "      <td>1.067413e-15</td>\n",
       "      <td>7.978471e-14</td>\n",
       "      <td>5.811296e-11</td>\n",
       "      <td>1.379226e-11</td>\n",
       "      <td>5.279581e-16</td>\n",
       "      <td>2.425802e-16</td>\n",
       "      <td>7.893170e-16</td>\n",
       "      <td>5.712579e-14</td>\n",
       "      <td>3.390596e-18</td>\n",
       "      <td>1.623340e-16</td>\n",
       "      <td>0.000126</td>\n",
       "      <td>1</td>\n",
       "      <td>0</td>\n",
       "      <td>0</td>\n",
       "      <td>0</td>\n",
       "      <td>0</td>\n",
       "      <td>0</td>\n",
       "      <td>0</td>\n",
       "      <td>0</td>\n",
       "      <td>0</td>\n",
       "      <td>1</td>\n",
       "      <td>0</td>\n",
       "      <td>0</td>\n",
       "      <td>0</td>\n",
       "      <td>0</td>\n",
       "      <td>0</td>\n",
       "      <td>0</td>\n",
       "      <td>0</td>\n",
       "      <td>0</td>\n",
       "      <td>0</td>\n",
       "      <td>0</td>\n",
       "      <td>0</td>\n",
       "      <td>0</td>\n",
       "      <td>0</td>\n",
       "      <td>0</td>\n",
       "      <td>0</td>\n",
       "      <td>0</td>\n",
       "      <td>0</td>\n",
       "      <td>0</td>\n",
       "      <td>0</td>\n",
       "      <td>0</td>\n",
       "      <td>0</td>\n",
       "      <td>0</td>\n",
       "      <td>0</td>\n",
       "      <td>0</td>\n",
       "      <td>0</td>\n",
       "      <td>0</td>\n",
       "      <td>0</td>\n",
       "      <td>0</td>\n",
       "      <td>0</td>\n",
       "      <td>0</td>\n",
       "      <td>0</td>\n",
       "      <td>0</td>\n",
       "      <td>0</td>\n",
       "      <td>0</td>\n",
       "      <td>0</td>\n",
       "      <td>0</td>\n",
       "      <td>0</td>\n",
       "      <td>0</td>\n",
       "      <td>0</td>\n",
       "      <td>0</td>\n",
       "      <td>0</td>\n",
       "      <td>0</td>\n",
       "      <td>0</td>\n",
       "      <td>0</td>\n",
       "      <td>0</td>\n",
       "      <td>0</td>\n",
       "      <td>0</td>\n",
       "      <td>0</td>\n",
       "      <td>0</td>\n",
       "      <td>0</td>\n",
       "      <td>0</td>\n",
       "      <td>0</td>\n",
       "      <td>0</td>\n",
       "      <td>0</td>\n",
       "      <td>0</td>\n",
       "      <td>0</td>\n",
       "      <td>0</td>\n",
       "      <td>0</td>\n",
       "      <td>0</td>\n",
       "      <td>0</td>\n",
       "      <td>0</td>\n",
       "      <td>0</td>\n",
       "      <td>0</td>\n",
       "      <td>0</td>\n",
       "      <td>0</td>\n",
       "      <td>0</td>\n",
       "      <td>0</td>\n",
       "      <td>0</td>\n",
       "      <td>0</td>\n",
       "      <td>0</td>\n",
       "      <td>0</td>\n",
       "      <td>0</td>\n",
       "      <td>0</td>\n",
       "      <td>0</td>\n",
       "      <td>0</td>\n",
       "      <td>0</td>\n",
       "      <td>0</td>\n",
       "      <td>0</td>\n",
       "      <td>0</td>\n",
       "      <td>0</td>\n",
       "      <td>0</td>\n",
       "      <td>0</td>\n",
       "      <td>0</td>\n",
       "      <td>0</td>\n",
       "      <td>0</td>\n",
       "      <td>0</td>\n",
       "      <td>0</td>\n",
       "      <td>0</td>\n",
       "      <td>0</td>\n",
       "      <td>0</td>\n",
       "      <td>0</td>\n",
       "      <td>0</td>\n",
       "      <td>0</td>\n",
       "      <td>0</td>\n",
       "      <td>0</td>\n",
       "      <td>0</td>\n",
       "      <td>0</td>\n",
       "      <td>0</td>\n",
       "      <td>0</td>\n",
       "      <td>0</td>\n",
       "      <td>0</td>\n",
       "      <td>0</td>\n",
       "      <td>0</td>\n",
       "      <td>0</td>\n",
       "      <td>0</td>\n",
       "      <td>0</td>\n",
       "      <td>0</td>\n",
       "      <td>0</td>\n",
       "      <td>0</td>\n",
       "      <td>0</td>\n",
       "      <td>0</td>\n",
       "      <td>0</td>\n",
       "      <td>0</td>\n",
       "      <td>0</td>\n",
       "      <td>0</td>\n",
       "      <td>0</td>\n",
       "      <td>0</td>\n",
       "      <td>0</td>\n",
       "      <td>0</td>\n",
       "      <td>0</td>\n",
       "      <td>0</td>\n",
       "      <td>0</td>\n",
       "      <td>0</td>\n",
       "      <td>0</td>\n",
       "      <td>0</td>\n",
       "      <td>0</td>\n",
       "      <td>0</td>\n",
       "      <td>0</td>\n",
       "      <td>0</td>\n",
       "      <td>0</td>\n",
       "      <td>0</td>\n",
       "      <td>0</td>\n",
       "      <td>0</td>\n",
       "      <td>0</td>\n",
       "      <td>0</td>\n",
       "      <td>0</td>\n",
       "      <td>0</td>\n",
       "      <td>0</td>\n",
       "      <td>0</td>\n",
       "      <td>0</td>\n",
       "      <td>0</td>\n",
       "      <td>0</td>\n",
       "      <td>0</td>\n",
       "      <td>0</td>\n",
       "      <td>0</td>\n",
       "      <td>0</td>\n",
       "      <td>0</td>\n",
       "      <td>0</td>\n",
       "      <td>0</td>\n",
       "      <td>0</td>\n",
       "      <td>0</td>\n",
       "      <td>0</td>\n",
       "      <td>0</td>\n",
       "      <td>0</td>\n",
       "      <td>0</td>\n",
       "      <td>0</td>\n",
       "      <td>0</td>\n",
       "      <td>0</td>\n",
       "      <td>0</td>\n",
       "      <td>0</td>\n",
       "      <td>0</td>\n",
       "      <td>0</td>\n",
       "      <td>0</td>\n",
       "      <td>0</td>\n",
       "      <td>0</td>\n",
       "      <td>0</td>\n",
       "      <td>0</td>\n",
       "      <td>0</td>\n",
       "      <td>0</td>\n",
       "      <td>0</td>\n",
       "      <td>0</td>\n",
       "      <td>0</td>\n",
       "      <td>0</td>\n",
       "      <td>0</td>\n",
       "      <td>0</td>\n",
       "      <td>0</td>\n",
       "      <td>0</td>\n",
       "      <td>0</td>\n",
       "      <td>0</td>\n",
       "      <td>0</td>\n",
       "      <td>0</td>\n",
       "      <td>0</td>\n",
       "      <td>0</td>\n",
       "      <td>0</td>\n",
       "      <td>0</td>\n",
       "      <td>0</td>\n",
       "      <td>0</td>\n",
       "      <td>0</td>\n",
       "      <td>0</td>\n",
       "      <td>0</td>\n",
       "      <td>0</td>\n",
       "      <td>0</td>\n",
       "      <td>0</td>\n",
       "      <td>0</td>\n",
       "      <td>0</td>\n",
       "      <td>0</td>\n",
       "      <td>0</td>\n",
       "      <td>0</td>\n",
       "      <td>1</td>\n",
       "    </tr>\n",
       "    <tr>\n",
       "      <th>3</th>\n",
       "      <td>2000004</td>\n",
       "      <td>4 Vesta</td>\n",
       "      <td>N</td>\n",
       "      <td>0.119534</td>\n",
       "      <td>0.988218</td>\n",
       "      <td>0.988218</td>\n",
       "      <td>0.989134</td>\n",
       "      <td>0.088732</td>\n",
       "      <td>0.000054</td>\n",
       "      <td>0.025911</td>\n",
       "      <td>0.040748</td>\n",
       "      <td>0.288363</td>\n",
       "      <td>0.418691</td>\n",
       "      <td>0.291718</td>\n",
       "      <td>0.000029</td>\n",
       "      <td>0.114070</td>\n",
       "      <td>0.665191</td>\n",
       "      <td>0.665269</td>\n",
       "      <td>5.245750e-07</td>\n",
       "      <td>5.245750e-07</td>\n",
       "      <td>0.014337</td>\n",
       "      <td>0.014337</td>\n",
       "      <td>5.787698e-15</td>\n",
       "      <td>4.626990e-16</td>\n",
       "      <td>1.872941e-15</td>\n",
       "      <td>3.838605e-12</td>\n",
       "      <td>2.721208e-13</td>\n",
       "      <td>3.377246e-18</td>\n",
       "      <td>3.599341e-17</td>\n",
       "      <td>2.974572e-16</td>\n",
       "      <td>3.374552e-14</td>\n",
       "      <td>3.905962e-19</td>\n",
       "      <td>6.599895e-17</td>\n",
       "      <td>0.000149</td>\n",
       "      <td>1</td>\n",
       "      <td>0</td>\n",
       "      <td>0</td>\n",
       "      <td>0</td>\n",
       "      <td>0</td>\n",
       "      <td>0</td>\n",
       "      <td>0</td>\n",
       "      <td>0</td>\n",
       "      <td>0</td>\n",
       "      <td>1</td>\n",
       "      <td>0</td>\n",
       "      <td>0</td>\n",
       "      <td>0</td>\n",
       "      <td>0</td>\n",
       "      <td>0</td>\n",
       "      <td>0</td>\n",
       "      <td>0</td>\n",
       "      <td>0</td>\n",
       "      <td>0</td>\n",
       "      <td>0</td>\n",
       "      <td>0</td>\n",
       "      <td>0</td>\n",
       "      <td>0</td>\n",
       "      <td>0</td>\n",
       "      <td>0</td>\n",
       "      <td>0</td>\n",
       "      <td>0</td>\n",
       "      <td>0</td>\n",
       "      <td>0</td>\n",
       "      <td>0</td>\n",
       "      <td>0</td>\n",
       "      <td>0</td>\n",
       "      <td>0</td>\n",
       "      <td>0</td>\n",
       "      <td>0</td>\n",
       "      <td>0</td>\n",
       "      <td>0</td>\n",
       "      <td>0</td>\n",
       "      <td>0</td>\n",
       "      <td>0</td>\n",
       "      <td>0</td>\n",
       "      <td>0</td>\n",
       "      <td>0</td>\n",
       "      <td>0</td>\n",
       "      <td>0</td>\n",
       "      <td>0</td>\n",
       "      <td>0</td>\n",
       "      <td>0</td>\n",
       "      <td>0</td>\n",
       "      <td>0</td>\n",
       "      <td>0</td>\n",
       "      <td>0</td>\n",
       "      <td>0</td>\n",
       "      <td>0</td>\n",
       "      <td>0</td>\n",
       "      <td>0</td>\n",
       "      <td>0</td>\n",
       "      <td>0</td>\n",
       "      <td>0</td>\n",
       "      <td>0</td>\n",
       "      <td>0</td>\n",
       "      <td>0</td>\n",
       "      <td>0</td>\n",
       "      <td>0</td>\n",
       "      <td>0</td>\n",
       "      <td>0</td>\n",
       "      <td>0</td>\n",
       "      <td>0</td>\n",
       "      <td>0</td>\n",
       "      <td>0</td>\n",
       "      <td>0</td>\n",
       "      <td>0</td>\n",
       "      <td>0</td>\n",
       "      <td>0</td>\n",
       "      <td>0</td>\n",
       "      <td>0</td>\n",
       "      <td>0</td>\n",
       "      <td>0</td>\n",
       "      <td>0</td>\n",
       "      <td>0</td>\n",
       "      <td>0</td>\n",
       "      <td>0</td>\n",
       "      <td>0</td>\n",
       "      <td>0</td>\n",
       "      <td>0</td>\n",
       "      <td>0</td>\n",
       "      <td>0</td>\n",
       "      <td>0</td>\n",
       "      <td>0</td>\n",
       "      <td>0</td>\n",
       "      <td>0</td>\n",
       "      <td>0</td>\n",
       "      <td>0</td>\n",
       "      <td>0</td>\n",
       "      <td>0</td>\n",
       "      <td>0</td>\n",
       "      <td>0</td>\n",
       "      <td>0</td>\n",
       "      <td>0</td>\n",
       "      <td>0</td>\n",
       "      <td>0</td>\n",
       "      <td>0</td>\n",
       "      <td>0</td>\n",
       "      <td>0</td>\n",
       "      <td>0</td>\n",
       "      <td>0</td>\n",
       "      <td>0</td>\n",
       "      <td>0</td>\n",
       "      <td>0</td>\n",
       "      <td>0</td>\n",
       "      <td>0</td>\n",
       "      <td>0</td>\n",
       "      <td>0</td>\n",
       "      <td>0</td>\n",
       "      <td>0</td>\n",
       "      <td>0</td>\n",
       "      <td>0</td>\n",
       "      <td>0</td>\n",
       "      <td>0</td>\n",
       "      <td>0</td>\n",
       "      <td>0</td>\n",
       "      <td>0</td>\n",
       "      <td>0</td>\n",
       "      <td>0</td>\n",
       "      <td>0</td>\n",
       "      <td>0</td>\n",
       "      <td>0</td>\n",
       "      <td>0</td>\n",
       "      <td>0</td>\n",
       "      <td>0</td>\n",
       "      <td>0</td>\n",
       "      <td>0</td>\n",
       "      <td>0</td>\n",
       "      <td>0</td>\n",
       "      <td>0</td>\n",
       "      <td>0</td>\n",
       "      <td>0</td>\n",
       "      <td>0</td>\n",
       "      <td>0</td>\n",
       "      <td>0</td>\n",
       "      <td>0</td>\n",
       "      <td>0</td>\n",
       "      <td>0</td>\n",
       "      <td>0</td>\n",
       "      <td>1</td>\n",
       "      <td>0</td>\n",
       "      <td>0</td>\n",
       "      <td>0</td>\n",
       "      <td>0</td>\n",
       "      <td>0</td>\n",
       "      <td>0</td>\n",
       "      <td>0</td>\n",
       "      <td>0</td>\n",
       "      <td>0</td>\n",
       "      <td>0</td>\n",
       "      <td>0</td>\n",
       "      <td>0</td>\n",
       "      <td>0</td>\n",
       "      <td>0</td>\n",
       "      <td>0</td>\n",
       "      <td>0</td>\n",
       "      <td>0</td>\n",
       "      <td>0</td>\n",
       "      <td>0</td>\n",
       "      <td>0</td>\n",
       "      <td>0</td>\n",
       "      <td>0</td>\n",
       "      <td>0</td>\n",
       "      <td>0</td>\n",
       "      <td>0</td>\n",
       "      <td>0</td>\n",
       "      <td>0</td>\n",
       "      <td>0</td>\n",
       "      <td>0</td>\n",
       "      <td>0</td>\n",
       "      <td>0</td>\n",
       "      <td>0</td>\n",
       "      <td>0</td>\n",
       "      <td>0</td>\n",
       "      <td>0</td>\n",
       "      <td>0</td>\n",
       "      <td>0</td>\n",
       "      <td>0</td>\n",
       "      <td>0</td>\n",
       "      <td>0</td>\n",
       "      <td>0</td>\n",
       "      <td>0</td>\n",
       "      <td>0</td>\n",
       "      <td>0</td>\n",
       "      <td>0</td>\n",
       "      <td>0</td>\n",
       "      <td>0</td>\n",
       "      <td>0</td>\n",
       "      <td>0</td>\n",
       "      <td>0</td>\n",
       "      <td>0</td>\n",
       "      <td>0</td>\n",
       "      <td>0</td>\n",
       "      <td>0</td>\n",
       "      <td>0</td>\n",
       "      <td>0</td>\n",
       "      <td>0</td>\n",
       "      <td>0</td>\n",
       "      <td>0</td>\n",
       "      <td>0</td>\n",
       "      <td>0</td>\n",
       "      <td>0</td>\n",
       "      <td>0</td>\n",
       "      <td>0</td>\n",
       "    </tr>\n",
       "    <tr>\n",
       "      <th>4</th>\n",
       "      <td>2000005</td>\n",
       "      <td>5 Astraea</td>\n",
       "      <td>N</td>\n",
       "      <td>0.233236</td>\n",
       "      <td>1.000000</td>\n",
       "      <td>1.000000</td>\n",
       "      <td>1.000000</td>\n",
       "      <td>0.190939</td>\n",
       "      <td>0.000060</td>\n",
       "      <td>0.025049</td>\n",
       "      <td>0.030614</td>\n",
       "      <td>0.393253</td>\n",
       "      <td>0.996247</td>\n",
       "      <td>0.152094</td>\n",
       "      <td>0.000036</td>\n",
       "      <td>0.100232</td>\n",
       "      <td>0.667768</td>\n",
       "      <td>0.668020</td>\n",
       "      <td>6.063194e-07</td>\n",
       "      <td>6.063194e-07</td>\n",
       "      <td>0.013787</td>\n",
       "      <td>0.013787</td>\n",
       "      <td>6.010192e-13</td>\n",
       "      <td>1.221677e-15</td>\n",
       "      <td>5.968667e-14</td>\n",
       "      <td>4.943774e-11</td>\n",
       "      <td>2.404995e-11</td>\n",
       "      <td>8.902335e-16</td>\n",
       "      <td>2.482689e-16</td>\n",
       "      <td>8.564713e-16</td>\n",
       "      <td>7.154362e-14</td>\n",
       "      <td>3.332904e-18</td>\n",
       "      <td>1.822293e-16</td>\n",
       "      <td>0.000194</td>\n",
       "      <td>1</td>\n",
       "      <td>0</td>\n",
       "      <td>0</td>\n",
       "      <td>0</td>\n",
       "      <td>0</td>\n",
       "      <td>0</td>\n",
       "      <td>0</td>\n",
       "      <td>0</td>\n",
       "      <td>0</td>\n",
       "      <td>1</td>\n",
       "      <td>0</td>\n",
       "      <td>0</td>\n",
       "      <td>0</td>\n",
       "      <td>0</td>\n",
       "      <td>0</td>\n",
       "      <td>0</td>\n",
       "      <td>0</td>\n",
       "      <td>0</td>\n",
       "      <td>0</td>\n",
       "      <td>0</td>\n",
       "      <td>0</td>\n",
       "      <td>0</td>\n",
       "      <td>0</td>\n",
       "      <td>0</td>\n",
       "      <td>0</td>\n",
       "      <td>0</td>\n",
       "      <td>0</td>\n",
       "      <td>0</td>\n",
       "      <td>0</td>\n",
       "      <td>0</td>\n",
       "      <td>0</td>\n",
       "      <td>0</td>\n",
       "      <td>0</td>\n",
       "      <td>0</td>\n",
       "      <td>0</td>\n",
       "      <td>0</td>\n",
       "      <td>0</td>\n",
       "      <td>0</td>\n",
       "      <td>0</td>\n",
       "      <td>0</td>\n",
       "      <td>0</td>\n",
       "      <td>0</td>\n",
       "      <td>0</td>\n",
       "      <td>0</td>\n",
       "      <td>0</td>\n",
       "      <td>0</td>\n",
       "      <td>0</td>\n",
       "      <td>0</td>\n",
       "      <td>0</td>\n",
       "      <td>0</td>\n",
       "      <td>0</td>\n",
       "      <td>0</td>\n",
       "      <td>0</td>\n",
       "      <td>0</td>\n",
       "      <td>0</td>\n",
       "      <td>0</td>\n",
       "      <td>0</td>\n",
       "      <td>0</td>\n",
       "      <td>0</td>\n",
       "      <td>0</td>\n",
       "      <td>0</td>\n",
       "      <td>0</td>\n",
       "      <td>0</td>\n",
       "      <td>0</td>\n",
       "      <td>0</td>\n",
       "      <td>0</td>\n",
       "      <td>0</td>\n",
       "      <td>0</td>\n",
       "      <td>0</td>\n",
       "      <td>0</td>\n",
       "      <td>0</td>\n",
       "      <td>0</td>\n",
       "      <td>0</td>\n",
       "      <td>0</td>\n",
       "      <td>0</td>\n",
       "      <td>0</td>\n",
       "      <td>0</td>\n",
       "      <td>0</td>\n",
       "      <td>0</td>\n",
       "      <td>0</td>\n",
       "      <td>0</td>\n",
       "      <td>0</td>\n",
       "      <td>0</td>\n",
       "      <td>0</td>\n",
       "      <td>0</td>\n",
       "      <td>0</td>\n",
       "      <td>0</td>\n",
       "      <td>0</td>\n",
       "      <td>0</td>\n",
       "      <td>0</td>\n",
       "      <td>0</td>\n",
       "      <td>0</td>\n",
       "      <td>0</td>\n",
       "      <td>0</td>\n",
       "      <td>0</td>\n",
       "      <td>0</td>\n",
       "      <td>0</td>\n",
       "      <td>0</td>\n",
       "      <td>0</td>\n",
       "      <td>0</td>\n",
       "      <td>0</td>\n",
       "      <td>0</td>\n",
       "      <td>0</td>\n",
       "      <td>0</td>\n",
       "      <td>0</td>\n",
       "      <td>0</td>\n",
       "      <td>0</td>\n",
       "      <td>0</td>\n",
       "      <td>0</td>\n",
       "      <td>0</td>\n",
       "      <td>0</td>\n",
       "      <td>0</td>\n",
       "      <td>0</td>\n",
       "      <td>0</td>\n",
       "      <td>0</td>\n",
       "      <td>0</td>\n",
       "      <td>0</td>\n",
       "      <td>0</td>\n",
       "      <td>0</td>\n",
       "      <td>0</td>\n",
       "      <td>0</td>\n",
       "      <td>0</td>\n",
       "      <td>0</td>\n",
       "      <td>0</td>\n",
       "      <td>0</td>\n",
       "      <td>0</td>\n",
       "      <td>0</td>\n",
       "      <td>0</td>\n",
       "      <td>0</td>\n",
       "      <td>0</td>\n",
       "      <td>0</td>\n",
       "      <td>0</td>\n",
       "      <td>0</td>\n",
       "      <td>0</td>\n",
       "      <td>0</td>\n",
       "      <td>0</td>\n",
       "      <td>0</td>\n",
       "      <td>0</td>\n",
       "      <td>0</td>\n",
       "      <td>0</td>\n",
       "      <td>0</td>\n",
       "      <td>0</td>\n",
       "      <td>0</td>\n",
       "      <td>0</td>\n",
       "      <td>0</td>\n",
       "      <td>0</td>\n",
       "      <td>0</td>\n",
       "      <td>0</td>\n",
       "      <td>0</td>\n",
       "      <td>0</td>\n",
       "      <td>0</td>\n",
       "      <td>0</td>\n",
       "      <td>0</td>\n",
       "      <td>0</td>\n",
       "      <td>0</td>\n",
       "      <td>0</td>\n",
       "      <td>0</td>\n",
       "      <td>0</td>\n",
       "      <td>0</td>\n",
       "      <td>0</td>\n",
       "      <td>0</td>\n",
       "      <td>0</td>\n",
       "      <td>0</td>\n",
       "      <td>0</td>\n",
       "      <td>0</td>\n",
       "      <td>0</td>\n",
       "      <td>0</td>\n",
       "      <td>0</td>\n",
       "      <td>0</td>\n",
       "      <td>0</td>\n",
       "      <td>0</td>\n",
       "      <td>0</td>\n",
       "      <td>0</td>\n",
       "      <td>0</td>\n",
       "      <td>0</td>\n",
       "      <td>0</td>\n",
       "      <td>0</td>\n",
       "      <td>0</td>\n",
       "      <td>0</td>\n",
       "      <td>0</td>\n",
       "      <td>0</td>\n",
       "      <td>0</td>\n",
       "      <td>0</td>\n",
       "      <td>0</td>\n",
       "      <td>0</td>\n",
       "      <td>0</td>\n",
       "      <td>0</td>\n",
       "      <td>0</td>\n",
       "      <td>0</td>\n",
       "      <td>0</td>\n",
       "      <td>0</td>\n",
       "      <td>0</td>\n",
       "      <td>0</td>\n",
       "      <td>0</td>\n",
       "      <td>0</td>\n",
       "      <td>0</td>\n",
       "      <td>0</td>\n",
       "      <td>0</td>\n",
       "      <td>0</td>\n",
       "      <td>0</td>\n",
       "      <td>0</td>\n",
       "      <td>0</td>\n",
       "      <td>0</td>\n",
       "      <td>0</td>\n",
       "      <td>0</td>\n",
       "      <td>0</td>\n",
       "      <td>0</td>\n",
       "      <td>0</td>\n",
       "      <td>1</td>\n",
       "    </tr>\n",
       "  </tbody>\n",
       "</table>\n",
       "</div>"
      ],
      "text/plain": [
       "     spkid       full_name pha         H     epoch  epoch_mjd  epoch_cal  \\\n",
       "0  2000001         1 Ceres   N  0.131195  0.988218   0.988218   0.989134   \n",
       "1  2000002        2 Pallas   N  0.154519  1.000000   1.000000   1.000000   \n",
       "2  2000003          3 Juno   N  0.187464  1.000000   1.000000   1.000000   \n",
       "3  2000004         4 Vesta   N  0.119534  0.988218   0.988218   0.989134   \n",
       "4  2000005       5 Astraea   N  0.233236  1.000000   1.000000   1.000000   \n",
       "\n",
       "          e         a         q         i        om         w        ma  \\\n",
       "0  0.076017  0.000066  0.030975  0.060467  0.223071  0.204438  0.258627   \n",
       "1  0.230004  0.000066  0.025712  0.198916  0.480625  0.861674  0.379616   \n",
       "2  0.256972  0.000063  0.023805  0.074158  0.471810  0.689073  0.344645   \n",
       "3  0.088732  0.000054  0.025911  0.040748  0.288363  0.418691  0.291718   \n",
       "4  0.190939  0.000060  0.025049  0.030614  0.393253  0.996247  0.152094   \n",
       "\n",
       "         ad         n        tp    tp_cal           per         per_y  \\\n",
       "0  0.000035  0.089827  0.665157  0.665258  6.843780e-07  6.843780e-07   \n",
       "1  0.000041  0.089600  0.665470  0.665298  6.862835e-07  6.862835e-07   \n",
       "2  0.000040  0.094969  0.665944  0.665354  6.436662e-07  6.436662e-07   \n",
       "3  0.000029  0.114070  0.665191  0.665269  5.245750e-07  5.245750e-07   \n",
       "4  0.000036  0.100232  0.667768  0.668020  6.063194e-07  6.063194e-07   \n",
       "\n",
       "       moid   moid_ld       sigma_e       sigma_a       sigma_q       sigma_i  \\\n",
       "0  0.020066  0.020066  0.000000e+00  0.000000e+00  0.000000e+00  0.000000e+00   \n",
       "1  0.015530  0.015530  8.090090e-13  1.240189e-15  8.654941e-14  6.263130e-11   \n",
       "2  0.013014  0.013014  7.734985e-13  1.067413e-15  7.978471e-14  5.811296e-11   \n",
       "3  0.014337  0.014337  5.787698e-15  4.626990e-16  1.872941e-15  3.838605e-12   \n",
       "4  0.013787  0.013787  6.010192e-13  1.221677e-15  5.968667e-14  4.943774e-11   \n",
       "\n",
       "       sigma_om       sigma_w      sigma_ma      sigma_ad       sigma_n  \\\n",
       "0  0.000000e+00  0.000000e+00  0.000000e+00  0.000000e+00  0.000000e+00   \n",
       "1  5.177466e-12  2.713713e-16  2.650353e-16  8.982159e-16  6.024315e-14   \n",
       "2  1.379226e-11  5.279581e-16  2.425802e-16  7.893170e-16  5.712579e-14   \n",
       "3  2.721208e-13  3.377246e-18  3.599341e-17  2.974572e-16  3.374552e-14   \n",
       "4  2.404995e-11  8.902335e-16  2.482689e-16  8.564713e-16  7.154362e-14   \n",
       "\n",
       "       sigma_tp     sigma_per       cal  neo_N  neo_Y  class_AMO  class_APO  \\\n",
       "0  0.000000e+00  0.000000e+00  0.000161      1      0          0          0   \n",
       "1  3.919442e-18  1.921770e-16  0.000134      1      0          0          0   \n",
       "2  3.390596e-18  1.623340e-16  0.000126      1      0          0          0   \n",
       "3  3.905962e-19  6.599895e-17  0.000149      1      0          0          0   \n",
       "4  3.332904e-18  1.822293e-16  0.000194      1      0          0          0   \n",
       "\n",
       "   class_AST  class_ATE  class_CEN  class_IEO  class_IMB  class_MBA  \\\n",
       "0          0          0          0          0          0          1   \n",
       "1          0          0          0          0          0          1   \n",
       "2          0          0          0          0          0          1   \n",
       "3          0          0          0          0          0          1   \n",
       "4          0          0          0          0          0          1   \n",
       "\n",
       "   class_MCA  class_OMB  class_TJN  class_TNO  orbit_id_1  orbit_id_10  \\\n",
       "0          0          0          0          0           0            0   \n",
       "1          0          0          0          0           0            0   \n",
       "2          0          0          0          0           0            0   \n",
       "3          0          0          0          0           0            0   \n",
       "4          0          0          0          0           0            0   \n",
       "\n",
       "   orbit_id_101  orbit_id_103  orbit_id_104  orbit_id_11  orbit_id_12  \\\n",
       "0             0             0             0            0            0   \n",
       "1             0             0             0            0            0   \n",
       "2             0             0             0            0            0   \n",
       "3             0             0             0            0            0   \n",
       "4             0             0             0            0            0   \n",
       "\n",
       "   orbit_id_13  orbit_id_14  orbit_id_15  orbit_id_16  orbit_id_17  \\\n",
       "0            0            0            0            0            0   \n",
       "1            0            0            0            0            0   \n",
       "2            0            0            0            0            0   \n",
       "3            0            0            0            0            0   \n",
       "4            0            0            0            0            0   \n",
       "\n",
       "   orbit_id_18  orbit_id_19  orbit_id_2  orbit_id_20  orbit_id_21  \\\n",
       "0            0            0           0            0            0   \n",
       "1            0            0           0            0            0   \n",
       "2            0            0           0            0            0   \n",
       "3            0            0           0            0            0   \n",
       "4            0            0           0            0            0   \n",
       "\n",
       "   orbit_id_22  orbit_id_23  orbit_id_24  orbit_id_25  orbit_id_26  \\\n",
       "0            0            0            0            0            0   \n",
       "1            0            0            0            0            0   \n",
       "2            0            0            0            0            0   \n",
       "3            0            0            0            0            0   \n",
       "4            0            0            0            0            0   \n",
       "\n",
       "   orbit_id_27  orbit_id_28  orbit_id_29  orbit_id_3  orbit_id_30  \\\n",
       "0            0            0            0           0            0   \n",
       "1            0            0            0           0            0   \n",
       "2            0            0            0           0            0   \n",
       "3            0            0            0           0            0   \n",
       "4            0            0            0           0            0   \n",
       "\n",
       "   orbit_id_31  orbit_id_32  orbit_id_33  orbit_id_34  orbit_id_35  \\\n",
       "0            0            0            0            0            0   \n",
       "1            0            0            0            0            0   \n",
       "2            0            0            0            0            0   \n",
       "3            0            0            0            0            0   \n",
       "4            0            0            0            0            0   \n",
       "\n",
       "   orbit_id_36  orbit_id_37  orbit_id_38  orbit_id_39  orbit_id_4  \\\n",
       "0            0            0            0            0           0   \n",
       "1            0            0            0            0           0   \n",
       "2            0            0            0            0           0   \n",
       "3            0            0            0            0           0   \n",
       "4            0            0            0            0           0   \n",
       "\n",
       "   orbit_id_40  orbit_id_41  orbit_id_42  orbit_id_43  orbit_id_44  \\\n",
       "0            0            0            0            0            0   \n",
       "1            0            0            0            0            0   \n",
       "2            0            0            0            0            0   \n",
       "3            0            0            0            0            0   \n",
       "4            0            0            0            0            0   \n",
       "\n",
       "   orbit_id_45  orbit_id_46  orbit_id_47  orbit_id_48  orbit_id_49  \\\n",
       "0            0            0            0            0            0   \n",
       "1            0            0            0            0            0   \n",
       "2            0            0            0            0            0   \n",
       "3            0            0            0            0            0   \n",
       "4            0            0            0            0            0   \n",
       "\n",
       "   orbit_id_5  orbit_id_50  orbit_id_51  orbit_id_52  orbit_id_53  \\\n",
       "0           0            0            0            0            0   \n",
       "1           0            0            0            0            0   \n",
       "2           0            0            0            0            0   \n",
       "3           0            0            0            0            0   \n",
       "4           0            0            0            0            0   \n",
       "\n",
       "   orbit_id_54  orbit_id_55  orbit_id_56  orbit_id_57  orbit_id_58  \\\n",
       "0            0            0            0            0            0   \n",
       "1            0            0            0            0            0   \n",
       "2            0            0            0            0            0   \n",
       "3            0            0            0            0            0   \n",
       "4            0            0            0            0            0   \n",
       "\n",
       "   orbit_id_59  orbit_id_6  orbit_id_60  orbit_id_61  orbit_id_62  \\\n",
       "0            0           0            0            0            0   \n",
       "1            0           0            0            0            0   \n",
       "2            0           0            0            0            0   \n",
       "3            0           0            0            0            0   \n",
       "4            0           0            0            0            0   \n",
       "\n",
       "   orbit_id_63  orbit_id_64  orbit_id_65  orbit_id_66  orbit_id_67  \\\n",
       "0            0            0            0            0            0   \n",
       "1            0            0            0            0            0   \n",
       "2            0            0            0            0            0   \n",
       "3            0            0            0            0            0   \n",
       "4            0            0            0            0            0   \n",
       "\n",
       "   orbit_id_68  orbit_id_69  orbit_id_7  orbit_id_70  orbit_id_71  \\\n",
       "0            0            0           0            0            0   \n",
       "1            0            0           0            0            0   \n",
       "2            0            0           0            0            0   \n",
       "3            0            0           0            0            0   \n",
       "4            0            0           0            0            0   \n",
       "\n",
       "   orbit_id_72  orbit_id_73  orbit_id_74  orbit_id_75  orbit_id_76  \\\n",
       "0            0            0            0            0            0   \n",
       "1            0            0            0            0            0   \n",
       "2            0            0            0            0            0   \n",
       "3            0            0            0            0            0   \n",
       "4            0            0            0            0            0   \n",
       "\n",
       "   orbit_id_77  orbit_id_8  orbit_id_80  orbit_id_81  orbit_id_82  \\\n",
       "0            0           0            0            0            0   \n",
       "1            0           0            0            0            0   \n",
       "2            0           0            0            0            0   \n",
       "3            0           0            0            0            0   \n",
       "4            0           0            0            0            0   \n",
       "\n",
       "   orbit_id_83  orbit_id_85  orbit_id_86  orbit_id_87  orbit_id_88  \\\n",
       "0            0            0            0            0            0   \n",
       "1            0            0            0            0            0   \n",
       "2            0            0            0            0            0   \n",
       "3            0            0            0            0            0   \n",
       "4            0            0            0            0            0   \n",
       "\n",
       "   orbit_id_89  orbit_id_9  orbit_id_91  orbit_id_94  orbit_id_95  \\\n",
       "0            0           0            0            0            0   \n",
       "1            0           0            0            0            0   \n",
       "2            0           0            0            0            0   \n",
       "3            0           0            0            0            0   \n",
       "4            0           0            0            0            0   \n",
       "\n",
       "   orbit_id_99  orbit_id_JPL 1  orbit_id_JPL 10  orbit_id_JPL 100  \\\n",
       "0            0               0                0                 0   \n",
       "1            0               0                0                 0   \n",
       "2            0               0                0                 0   \n",
       "3            0               0                0                 0   \n",
       "4            0               0                0                 0   \n",
       "\n",
       "   orbit_id_JPL 102  orbit_id_JPL 103  orbit_id_JPL 105  orbit_id_JPL 106  \\\n",
       "0                 0                 0                 0                 0   \n",
       "1                 0                 0                 0                 0   \n",
       "2                 0                 0                 0                 0   \n",
       "3                 0                 0                 0                 0   \n",
       "4                 0                 0                 0                 0   \n",
       "\n",
       "   orbit_id_JPL 107  orbit_id_JPL 108  orbit_id_JPL 11  orbit_id_JPL 110  \\\n",
       "0                 0                 0                0                 0   \n",
       "1                 0                 0                0                 0   \n",
       "2                 0                 0                0                 0   \n",
       "3                 0                 0                0                 0   \n",
       "4                 0                 0                0                 0   \n",
       "\n",
       "   orbit_id_JPL 117  orbit_id_JPL 12  orbit_id_JPL 13  orbit_id_JPL 14  \\\n",
       "0                 0                0                0                0   \n",
       "1                 0                0                0                0   \n",
       "2                 0                0                0                0   \n",
       "3                 0                0                0                0   \n",
       "4                 0                0                0                0   \n",
       "\n",
       "   orbit_id_JPL 15  orbit_id_JPL 16  orbit_id_JPL 17  orbit_id_JPL 18  \\\n",
       "0                0                0                0                0   \n",
       "1                0                0                0                0   \n",
       "2                0                0                0                0   \n",
       "3                0                0                0                0   \n",
       "4                0                0                0                0   \n",
       "\n",
       "   orbit_id_JPL 19  orbit_id_JPL 2  orbit_id_JPL 20  orbit_id_JPL 21  \\\n",
       "0                0               0                0                0   \n",
       "1                0               0                0                0   \n",
       "2                0               0                0                0   \n",
       "3                0               0                0                0   \n",
       "4                0               0                0                0   \n",
       "\n",
       "   orbit_id_JPL 22  orbit_id_JPL 23  orbit_id_JPL 24  orbit_id_JPL 25  \\\n",
       "0                0                0                0                0   \n",
       "1                0                0                0                0   \n",
       "2                0                0                0                0   \n",
       "3                0                0                0                0   \n",
       "4                0                0                0                0   \n",
       "\n",
       "   orbit_id_JPL 26  orbit_id_JPL 27  orbit_id_JPL 28  orbit_id_JPL 29  \\\n",
       "0                0                0                0                0   \n",
       "1                0                0                0                0   \n",
       "2                0                0                0                0   \n",
       "3                0                0                0                0   \n",
       "4                0                0                0                0   \n",
       "\n",
       "   orbit_id_JPL 3  orbit_id_JPL 30  orbit_id_JPL 31  orbit_id_JPL 32  \\\n",
       "0               0                0                0                0   \n",
       "1               0                0                0                0   \n",
       "2               0                0                0                0   \n",
       "3               0                0                0                0   \n",
       "4               0                0                0                0   \n",
       "\n",
       "   orbit_id_JPL 33  orbit_id_JPL 34  orbit_id_JPL 35  orbit_id_JPL 36  \\\n",
       "0                0                0                0                0   \n",
       "1                0                0                0                0   \n",
       "2                0                0                0                0   \n",
       "3                0                0                1                0   \n",
       "4                0                0                0                0   \n",
       "\n",
       "   orbit_id_JPL 37  orbit_id_JPL 38  orbit_id_JPL 39  orbit_id_JPL 4  \\\n",
       "0                0                0                0               0   \n",
       "1                1                0                0               0   \n",
       "2                0                0                0               0   \n",
       "3                0                0                0               0   \n",
       "4                0                0                0               0   \n",
       "\n",
       "   orbit_id_JPL 40  orbit_id_JPL 41  orbit_id_JPL 42  orbit_id_JPL 43  \\\n",
       "0                0                0                0                0   \n",
       "1                0                0                0                0   \n",
       "2                0                0                0                0   \n",
       "3                0                0                0                0   \n",
       "4                0                0                0                0   \n",
       "\n",
       "   orbit_id_JPL 44  orbit_id_JPL 45  orbit_id_JPL 46  orbit_id_JPL 47  \\\n",
       "0                0                0                0                1   \n",
       "1                0                0                0                0   \n",
       "2                0                0                0                0   \n",
       "3                0                0                0                0   \n",
       "4                0                0                0                0   \n",
       "\n",
       "   orbit_id_JPL 48  orbit_id_JPL 49  orbit_id_JPL 5  orbit_id_JPL 50  \\\n",
       "0                0                0               0                0   \n",
       "1                0                0               0                0   \n",
       "2                0                0               0                0   \n",
       "3                0                0               0                0   \n",
       "4                0                0               0                0   \n",
       "\n",
       "   orbit_id_JPL 51  orbit_id_JPL 52  orbit_id_JPL 53  orbit_id_JPL 54  \\\n",
       "0                0                0                0                0   \n",
       "1                0                0                0                0   \n",
       "2                0                0                0                0   \n",
       "3                0                0                0                0   \n",
       "4                0                0                0                0   \n",
       "\n",
       "   orbit_id_JPL 55  orbit_id_JPL 56  orbit_id_JPL 57  orbit_id_JPL 58  \\\n",
       "0                0                0                0                0   \n",
       "1                0                0                0                0   \n",
       "2                0                0                0                0   \n",
       "3                0                0                0                0   \n",
       "4                0                0                0                0   \n",
       "\n",
       "   orbit_id_JPL 59  orbit_id_JPL 6  orbit_id_JPL 60  orbit_id_JPL 61  \\\n",
       "0                0               0                0                0   \n",
       "1                0               0                0                0   \n",
       "2                0               0                0                0   \n",
       "3                0               0                0                0   \n",
       "4                0               0                0                0   \n",
       "\n",
       "   orbit_id_JPL 62  orbit_id_JPL 63  orbit_id_JPL 64  orbit_id_JPL 65  \\\n",
       "0                0                0                0                0   \n",
       "1                0                0                0                0   \n",
       "2                0                0                0                0   \n",
       "3                0                0                0                0   \n",
       "4                0                0                0                0   \n",
       "\n",
       "   orbit_id_JPL 66  orbit_id_JPL 67  orbit_id_JPL 68  orbit_id_JPL 69  \\\n",
       "0                0                0                0                0   \n",
       "1                0                0                0                0   \n",
       "2                0                0                0                0   \n",
       "3                0                0                0                0   \n",
       "4                0                0                0                0   \n",
       "\n",
       "   orbit_id_JPL 7  orbit_id_JPL 70  orbit_id_JPL 71  orbit_id_JPL 72  \\\n",
       "0               0                0                0                0   \n",
       "1               0                0                0                0   \n",
       "2               0                0                0                0   \n",
       "3               0                0                0                0   \n",
       "4               0                0                0                0   \n",
       "\n",
       "   orbit_id_JPL 73  orbit_id_JPL 74  orbit_id_JPL 75  orbit_id_JPL 76  \\\n",
       "0                0                0                0                0   \n",
       "1                0                0                0                0   \n",
       "2                0                0                0                0   \n",
       "3                0                0                0                0   \n",
       "4                0                0                0                0   \n",
       "\n",
       "   orbit_id_JPL 77  orbit_id_JPL 78  orbit_id_JPL 79  orbit_id_JPL 8  \\\n",
       "0                0                0                0               0   \n",
       "1                0                0                0               0   \n",
       "2                0                0                0               0   \n",
       "3                0                0                0               0   \n",
       "4                0                0                0               0   \n",
       "\n",
       "   orbit_id_JPL 80  orbit_id_JPL 81  orbit_id_JPL 82  orbit_id_JPL 83  \\\n",
       "0                0                0                0                0   \n",
       "1                0                0                0                0   \n",
       "2                0                0                0                0   \n",
       "3                0                0                0                0   \n",
       "4                0                0                0                0   \n",
       "\n",
       "   orbit_id_JPL 84  orbit_id_JPL 86  orbit_id_JPL 87  orbit_id_JPL 9  \\\n",
       "0                0                0                0               0   \n",
       "1                0                0                0               0   \n",
       "2                0                0                0               0   \n",
       "3                0                0                0               0   \n",
       "4                0                0                0               0   \n",
       "\n",
       "   orbit_id_JPL 91  orbit_id_JPL 94  orbit_id_JPL 96  orbit_id_JPL 97  \\\n",
       "0                0                0                0                0   \n",
       "1                0                0                0                0   \n",
       "2                0                0                0                0   \n",
       "3                0                0                0                0   \n",
       "4                0                0                0                0   \n",
       "\n",
       "   orbit_id_JPL 98  orbit_id_JPL 99  orbit_id_other  \n",
       "0                0                0               0  \n",
       "1                0                0               0  \n",
       "2                0                0               1  \n",
       "3                0                0               0  \n",
       "4                0                0               1  "
      ]
     },
     "execution_count": 31,
     "metadata": {},
     "output_type": "execute_result"
    }
   ],
   "source": [
    "# 1. Create one-hot encoding columns using get_dummies\n",
    "asteroid_df1 = pd.get_dummies(asteroid_df, columns=['neo', 'class', 'orbit_id'])\n",
    "asteroid_df1.head()"
   ]
  },
  {
   "attachments": {},
   "cell_type": "markdown",
   "metadata": {
    "papermill": {
     "duration": 0.078118,
     "end_time": "2020-09-28T14:43:41.569272",
     "exception": false,
     "start_time": "2020-09-28T14:43:41.491154",
     "status": "completed"
    },
    "tags": []
   },
   "source": [
    "# 4. ML Model Developing\n",
    "\n",
    "Now that the data is ready to be modeled, there are a wide range of algorithms that can be put to use. The goal is to predict if an asteroid is potentially hazardous or not. For this classification problem, we can use the following algorithms."
   ]
  },
  {
   "attachments": {},
   "cell_type": "markdown",
   "metadata": {
    "papermill": {
     "duration": 0.076253,
     "end_time": "2020-09-28T14:43:41.722714",
     "exception": false,
     "start_time": "2020-09-28T14:43:41.646461",
     "status": "completed"
    },
    "tags": []
   },
   "source": [
    "1. Logistic Regression\n",
    "2. Random Forest\n",
    "3. Light Gradient Boosting"
   ]
  },
  {
   "attachments": {},
   "cell_type": "markdown",
   "metadata": {
    "papermill": {
     "duration": 0.07662,
     "end_time": "2020-09-28T14:43:41.876315",
     "exception": false,
     "start_time": "2020-09-28T14:43:41.799695",
     "status": "completed"
    },
    "tags": []
   },
   "source": [
    "The best performing model can then be selected as a winner to conduct reliable predictions."
   ]
  },
  {
   "attachments": {},
   "cell_type": "markdown",
   "metadata": {
    "papermill": {
     "duration": 0.077424,
     "end_time": "2020-09-28T14:43:42.031812",
     "exception": false,
     "start_time": "2020-09-28T14:43:41.954388",
     "status": "completed"
    },
    "tags": []
   },
   "source": [
    "Before developing the models, we need to create the train and test sets. Remove 'spkid' and 'full_name' since it will not be required in the data modelling. The feature 'pha' will be used as label alone."
   ]
  },
  {
   "cell_type": "code",
   "execution_count": 32,
   "metadata": {
    "execution": {
     "iopub.execute_input": "2020-09-28T14:43:42.214138Z",
     "iopub.status.busy": "2020-09-28T14:43:42.213309Z",
     "iopub.status.idle": "2020-09-28T14:43:43.740509Z",
     "shell.execute_reply": "2020-09-28T14:43:43.741238Z"
    },
    "papermill": {
     "duration": 1.622513,
     "end_time": "2020-09-28T14:43:43.741388",
     "exception": false,
     "start_time": "2020-09-28T14:43:42.118875",
     "status": "completed"
    },
    "tags": []
   },
   "outputs": [],
   "source": [
    "from sklearn.model_selection import train_test_split\n",
    "\n",
    "X = asteroid_df1.drop(['spkid', 'full_name', 'pha'], axis=1)\n",
    "y = asteroid_df1.iloc[:]['pha']\n",
    "\n",
    "x_train, x_test, y_train, y_test = train_test_split(X, y, test_size=0.30, random_state=1501)"
   ]
  },
  {
   "attachments": {},
   "cell_type": "markdown",
   "metadata": {
    "papermill": {
     "duration": 0.077656,
     "end_time": "2020-09-28T14:43:43.895700",
     "exception": false,
     "start_time": "2020-09-28T14:43:43.818044",
     "status": "completed"
    },
    "tags": []
   },
   "source": [
    "The data is highly imbalanced with over 99% of the data belonging to the negative class. This could sway the models and predict only the negative class for any input. For this reason, its best to oversample the positive class and create an equal sample numbers for both classes. This is achieved by usig the library [SMOTE](https://imbalanced-learn.readthedocs.io/en/stable/generated/imblearn.over_sampling.SMOTE.html)."
   ]
  },
  {
   "cell_type": "code",
   "execution_count": 33,
   "metadata": {},
   "outputs": [
    {
     "name": "stdout",
     "output_type": "stream",
     "text": [
      "Before OverSampling, counts of label 'N': 651221\n",
      "Before OverSampling, counts of label 'Y': 1413 \n",
      "\n",
      "After OverSampling, counts of label 'N': 651221\n",
      "After OverSampling, counts of label 'Y': 651221\n"
     ]
    }
   ],
   "source": [
    "from imblearn.over_sampling import SMOTE\n",
    "\n",
    "print(\"Before OverSampling, counts of label 'N': {}\".format(sum(y_train == 'N')))\n",
    "print(\"Before OverSampling, counts of label 'Y': {} \\n\".format(sum(y_train == 'Y')))\n",
    "\n",
    "sm = SMOTE(random_state=12)\n",
    "x_train_res, y_train_res = sm.fit_resample(x_train, y_train.ravel())\n",
    "\n",
    "print(\"After OverSampling, counts of label 'N': {}\".format(sum(y_train_res == 'N')))\n",
    "print(\"After OverSampling, counts of label 'Y': {}\".format(sum(y_train_res == 'Y')))\n",
    "\n"
   ]
  },
  {
   "attachments": {},
   "cell_type": "markdown",
   "metadata": {
    "papermill": {
     "duration": 0.078573,
     "end_time": "2020-09-28T14:44:09.372761",
     "exception": false,
     "start_time": "2020-09-28T14:44:09.294188",
     "status": "completed"
    },
    "tags": []
   },
   "source": [
    "Create a function to calculate the metrics of each model."
   ]
  },
  {
   "cell_type": "code",
   "execution_count": 34,
   "metadata": {
    "execution": {
     "iopub.execute_input": "2020-09-28T14:44:09.537056Z",
     "iopub.status.busy": "2020-09-28T14:44:09.536092Z",
     "iopub.status.idle": "2020-09-28T14:44:09.539295Z",
     "shell.execute_reply": "2020-09-28T14:44:09.538767Z"
    },
    "papermill": {
     "duration": 0.088678,
     "end_time": "2020-09-28T14:44:09.539401",
     "exception": false,
     "start_time": "2020-09-28T14:44:09.450723",
     "status": "completed"
    },
    "tags": []
   },
   "outputs": [],
   "source": [
    "def metricCalculation(y_test, pred):\n",
    "    \n",
    "    precision_metric = metrics.precision_score(y_test, pred, average = \"macro\")\n",
    "    recall_metric = metrics.recall_score(y_test, pred, average = \"macro\")\n",
    "    accuracy_metric = metrics.accuracy_score(y_test, pred)\n",
    "    f1_metric = metrics.f1_score(y_test, pred, average = \"macro\")\n",
    "    print('Precision metric:',round(precision_metric, 2))\n",
    "    print('Recall Metric:',round(recall_metric, 2))\n",
    "    print('Accuracy Metric:',round(accuracy_metric, 4))\n",
    "    print('F1 score:',round(f1_metric, 2))"
   ]
  },
  {
   "attachments": {},
   "cell_type": "markdown",
   "metadata": {
    "papermill": {
     "duration": 0.077864,
     "end_time": "2020-09-28T14:44:09.695693",
     "exception": false,
     "start_time": "2020-09-28T14:44:09.617829",
     "status": "completed"
    },
    "tags": []
   },
   "source": [
    "### 1. Logistic Regression"
   ]
  },
  {
   "attachments": {},
   "cell_type": "markdown",
   "metadata": {
    "papermill": {
     "duration": 0.07768,
     "end_time": "2020-09-28T14:44:09.852119",
     "exception": false,
     "start_time": "2020-09-28T14:44:09.774439",
     "status": "completed"
    },
    "tags": []
   },
   "source": [
    "Logistic Regression will be the baseline model for the dataset. Using the metrics from this model, we can compare metrics from the other models and tune them to achieve better values."
   ]
  },
  {
   "cell_type": "code",
   "execution_count": 35,
   "metadata": {
    "execution": {
     "iopub.execute_input": "2020-09-28T14:44:10.019893Z",
     "iopub.status.busy": "2020-09-28T14:44:10.019244Z",
     "iopub.status.idle": "2020-09-28T14:47:19.494349Z",
     "shell.execute_reply": "2020-09-28T14:47:19.495057Z"
    },
    "papermill": {
     "duration": 189.563324,
     "end_time": "2020-09-28T14:47:19.495336",
     "exception": false,
     "start_time": "2020-09-28T14:44:09.932012",
     "status": "completed"
    },
    "tags": []
   },
   "outputs": [],
   "source": [
    "# Import the model\n",
    "from sklearn.linear_model import LogisticRegression\n",
    "\n",
    "# Instantiate the model\n",
    "logisticRegr = LogisticRegression(max_iter= 10000) # create object for the class\n",
    "\n",
    "# Fit to train model with features and labels\n",
    "logisticRegr.fit(x_train_res, y_train_res)\n",
    "\n",
    "# Predict for test set\n",
    "lr_pred = logisticRegr.predict(x_test)"
   ]
  },
  {
   "cell_type": "code",
   "execution_count": 36,
   "metadata": {
    "execution": {
     "iopub.execute_input": "2020-09-28T14:47:19.665098Z",
     "iopub.status.busy": "2020-09-28T14:47:19.664097Z",
     "iopub.status.idle": "2020-09-28T14:47:36.085341Z",
     "shell.execute_reply": "2020-09-28T14:47:36.084558Z"
    },
    "papermill": {
     "duration": 16.505057,
     "end_time": "2020-09-28T14:47:36.085527",
     "exception": false,
     "start_time": "2020-09-28T14:47:19.580470",
     "status": "completed"
    },
    "tags": []
   },
   "outputs": [
    {
     "name": "stdout",
     "output_type": "stream",
     "text": [
      "Precision metric: 0.6\n",
      "Recall Metric: 0.98\n",
      "Accuracy Metric: 0.9911\n",
      "F1 score: 0.67\n"
     ]
    }
   ],
   "source": [
    "# Calculate metrics\n",
    "metricCalculation(y_test, lr_pred)"
   ]
  },
  {
   "cell_type": "code",
   "execution_count": 37,
   "metadata": {
    "execution": {
     "iopub.execute_input": "2020-09-28T14:47:36.251523Z",
     "iopub.status.busy": "2020-09-28T14:47:36.250792Z",
     "iopub.status.idle": "2020-09-28T14:47:38.942579Z",
     "shell.execute_reply": "2020-09-28T14:47:38.941692Z"
    },
    "papermill": {
     "duration": 2.776359,
     "end_time": "2020-09-28T14:47:38.942735",
     "exception": false,
     "start_time": "2020-09-28T14:47:36.166376",
     "status": "completed"
    },
    "tags": []
   },
   "outputs": [
    {
     "data": {
      "image/png": "[encoded data removed]",
      "text/plain": [
       "<Figure size 576x432 with 2 Axes>"
      ]
     },
     "metadata": {
      "needs_background": "light"
     },
     "output_type": "display_data"
    }
   ],
   "source": [
    "# Print confusion matrix\n",
    "# print(metrics.confusion_matrix(y_test, lr_pred))\n",
    "\n",
    "# Define the labels\n",
    "labels = ['N', 'Y']  \n",
    "\n",
    "# Define the true labels and predicted labels\n",
    "true_labels = y_test  # Replace with your actual true labels\n",
    "predicted_labels = lr_pred  # Replace with your actual predicted labels\n",
    "\n",
    "# Compute the confusion matrix\n",
    "cm = confusion_matrix(true_labels, predicted_labels)\n",
    "\n",
    "# Create a figure and axes\n",
    "fig, ax = plt.subplots(figsize=(8, 6))\n",
    "\n",
    "# Plot the confusion matrix as a heatmap\n",
    "sns.heatmap(cm, annot=True, fmt='d', cmap='Blues', xticklabels=labels, yticklabels=labels, ax=ax)\n",
    "\n",
    "# Set labels, title, and ticks\n",
    "ax.set_xlabel('Predicted')\n",
    "ax.set_ylabel('True')\n",
    "ax.set_title('Confusion Matrix')\n",
    "ax.xaxis.set_ticklabels(labels)\n",
    "ax.yaxis.set_ticklabels(labels)\n",
    "\n",
    "# Rotate tick labels for better readability (optional)\n",
    "plt.setp(ax.get_xticklabels(), rotation=45, ha='right')\n",
    "\n",
    "# Show the plot\n",
    "plt.show()"
   ]
  },
  {
   "attachments": {},
   "cell_type": "markdown",
   "metadata": {
    "papermill": {
     "duration": 0.080138,
     "end_time": "2020-09-28T14:47:39.105163",
     "exception": false,
     "start_time": "2020-09-28T14:47:39.025025",
     "status": "completed"
    },
    "tags": []
   },
   "source": [
    "Although the accuracy and recall of the model is high, the precision metric and F1 score paint a different picture. The low F1 score and precision prove that the model doesn't classify well and has a poor balance between the two classes. Based on the confusion matrix alone, we notice a high number of false positives. The power of the logistic regression model isn't strong enough to predict the nature of the asteroids."
   ]
  },
  {
   "attachments": {},
   "cell_type": "markdown",
   "metadata": {
    "papermill": {
     "duration": 0.079839,
     "end_time": "2020-09-28T14:47:39.265630",
     "exception": false,
     "start_time": "2020-09-28T14:47:39.185791",
     "status": "completed"
    },
    "tags": []
   },
   "source": [
    "### 2. Random Forest"
   ]
  },
  {
   "attachments": {},
   "cell_type": "markdown",
   "metadata": {
    "papermill": {
     "duration": 0.079774,
     "end_time": "2020-09-28T14:47:39.425870",
     "exception": false,
     "start_time": "2020-09-28T14:47:39.346096",
     "status": "completed"
    },
    "tags": []
   },
   "source": [
    "Random Forest is known to elimiate the chance of overfitting and with the help of its ensamble method, it could be a better classifier than logisitic regression. "
   ]
  },
  {
   "cell_type": "code",
   "execution_count": 38,
   "metadata": {
    "execution": {
     "iopub.execute_input": "2020-09-28T14:47:39.597415Z",
     "iopub.status.busy": "2020-09-28T14:47:39.596767Z",
     "iopub.status.idle": "2020-09-28T15:02:20.392369Z",
     "shell.execute_reply": "2020-09-28T15:02:20.391538Z"
    },
    "papermill": {
     "duration": 880.885201,
     "end_time": "2020-09-28T15:02:20.392549",
     "exception": false,
     "start_time": "2020-09-28T14:47:39.507348",
     "status": "completed"
    },
    "tags": []
   },
   "outputs": [],
   "source": [
    "# Import the model\n",
    "from sklearn.ensemble import RandomForestClassifier\n",
    "\n",
    "# Instantiate model with 150 decision trees\n",
    "rf = RandomForestClassifier(n_estimators = 150, random_state = 1551)\n",
    "\n",
    "# Train the model on training data\n",
    "rf.fit(x_train_res, y_train_res)\n",
    "\n",
    "# Predict for test set\n",
    "rf_pred = rf.predict(x_test)"
   ]
  },
  {
   "cell_type": "code",
   "execution_count": 39,
   "metadata": {
    "execution": {
     "iopub.execute_input": "2020-09-28T15:02:20.561544Z",
     "iopub.status.busy": "2020-09-28T15:02:20.560892Z",
     "iopub.status.idle": "2020-09-28T15:02:37.032119Z",
     "shell.execute_reply": "2020-09-28T15:02:37.032921Z"
    },
    "papermill": {
     "duration": 16.557464,
     "end_time": "2020-09-28T15:02:37.033112",
     "exception": false,
     "start_time": "2020-09-28T15:02:20.475648",
     "status": "completed"
    },
    "tags": []
   },
   "outputs": [
    {
     "name": "stdout",
     "output_type": "stream",
     "text": [
      "Precision metric: 0.97\n",
      "Recall Metric: 0.99\n",
      "Accuracy Metric: 0.9998\n",
      "F1 score: 0.98\n"
     ]
    }
   ],
   "source": [
    "# Calculate metrics\n",
    "metricCalculation(y_test, rf_pred)"
   ]
  },
  {
   "cell_type": "code",
   "execution_count": 40,
   "metadata": {
    "execution": {
     "iopub.execute_input": "2020-09-28T15:02:37.201506Z",
     "iopub.status.busy": "2020-09-28T15:02:37.200843Z",
     "iopub.status.idle": "2020-09-28T15:02:39.861604Z",
     "shell.execute_reply": "2020-09-28T15:02:39.860825Z"
    },
    "papermill": {
     "duration": 2.746653,
     "end_time": "2020-09-28T15:02:39.861765",
     "exception": false,
     "start_time": "2020-09-28T15:02:37.115112",
     "status": "completed"
    },
    "tags": []
   },
   "outputs": [
    {
     "data": {
      "image/png": "[encoded data removed]",
      "text/plain": [
       "<Figure size 576x432 with 2 Axes>"
      ]
     },
     "metadata": {
      "needs_background": "light"
     },
     "output_type": "display_data"
    }
   ],
   "source": [
    "# Confusion matrix\n",
    "# print(metrics.confusion_matrix(y_test, rf_pred))\n",
    "\n",
    "# Define the labels\n",
    "labels = ['N', 'Y']  \n",
    "\n",
    "# Define the true labels and predicted labels\n",
    "true_labels = y_test  # Replace with your actual true labels\n",
    "predicted_labels = rf_pred  # Replace with your actual predicted labels\n",
    "\n",
    "# Compute the confusion matrix\n",
    "cm = confusion_matrix(true_labels, predicted_labels)\n",
    "\n",
    "# Create a figure and axes\n",
    "fig, ax = plt.subplots(figsize=(8, 6))\n",
    "\n",
    "# Plot the confusion matrix as a heatmap\n",
    "sns.heatmap(cm, annot=True, fmt='d', cmap='Blues', xticklabels=labels, yticklabels=labels, ax=ax)\n",
    "\n",
    "# Set labels, title, and ticks\n",
    "ax.set_xlabel('Predicted')\n",
    "ax.set_ylabel('True')\n",
    "ax.set_title('Confusion Matrix')\n",
    "ax.xaxis.set_ticklabels(labels)\n",
    "ax.yaxis.set_ticklabels(labels)\n",
    "\n",
    "# Rotate tick labels for better readability (optional)\n",
    "plt.setp(ax.get_xticklabels(), rotation=45, ha='right')\n",
    "\n",
    "# Show the plot\n",
    "plt.show()\n"
   ]
  },
  {
   "attachments": {},
   "cell_type": "markdown",
   "metadata": {
    "papermill": {
     "duration": 0.080677,
     "end_time": "2020-09-28T15:02:40.025712",
     "exception": false,
     "start_time": "2020-09-28T15:02:39.945035",
     "status": "completed"
    },
    "tags": []
   },
   "source": [
    "The random forest classifier has a higher F-score and precision than the logistic regression, proving that its a better model for identifying the nature of an asteroid. Using this model, we can identify the most important features that help in determining the type of asteroid."
   ]
  },
  {
   "cell_type": "code",
   "execution_count": 41,
   "metadata": {
    "execution": {
     "iopub.execute_input": "2020-09-28T15:02:40.195196Z",
     "iopub.status.busy": "2020-09-28T15:02:40.193257Z",
     "iopub.status.idle": "2020-09-28T15:02:40.213219Z",
     "shell.execute_reply": "2020-09-28T15:02:40.213747Z"
    },
    "papermill": {
     "duration": 0.107541,
     "end_time": "2020-09-28T15:02:40.213899",
     "exception": false,
     "start_time": "2020-09-28T15:02:40.106358",
     "status": "completed"
    },
    "tags": []
   },
   "outputs": [],
   "source": [
    "feature_imp = pd.DataFrame(rf.feature_importances_,index=x_train_res.columns, columns = ['Importance']).sort_values(by='Importance', ascending=False)"
   ]
  },
  {
   "cell_type": "code",
   "execution_count": 42,
   "metadata": {
    "execution": {
     "iopub.execute_input": "2020-09-28T15:02:40.385155Z",
     "iopub.status.busy": "2020-09-28T15:02:40.384293Z",
     "iopub.status.idle": "2020-09-28T15:02:40.389098Z",
     "shell.execute_reply": "2020-09-28T15:02:40.388418Z"
    },
    "papermill": {
     "duration": 0.094615,
     "end_time": "2020-09-28T15:02:40.389230",
     "exception": false,
     "start_time": "2020-09-28T15:02:40.294615",
     "status": "completed"
    },
    "tags": []
   },
   "outputs": [
    {
     "data": {
      "text/html": [
       "<div>\n",
       "<style scoped>\n",
       "    .dataframe tbody tr th:only-of-type {\n",
       "        vertical-align: middle;\n",
       "    }\n",
       "\n",
       "    .dataframe tbody tr th {\n",
       "        vertical-align: top;\n",
       "    }\n",
       "\n",
       "    .dataframe thead th {\n",
       "        text-align: right;\n",
       "    }\n",
       "</style>\n",
       "<table border=\"1\" class=\"dataframe\">\n",
       "  <thead>\n",
       "    <tr style=\"text-align: right;\">\n",
       "      <th></th>\n",
       "      <th>Importance</th>\n",
       "    </tr>\n",
       "  </thead>\n",
       "  <tbody>\n",
       "    <tr>\n",
       "      <th>moid_ld</th>\n",
       "      <td>0.161852</td>\n",
       "    </tr>\n",
       "    <tr>\n",
       "      <th>neo_N</th>\n",
       "      <td>0.136462</td>\n",
       "    </tr>\n",
       "    <tr>\n",
       "      <th>neo_Y</th>\n",
       "      <td>0.121429</td>\n",
       "    </tr>\n",
       "    <tr>\n",
       "      <th>q</th>\n",
       "      <td>0.120644</td>\n",
       "    </tr>\n",
       "    <tr>\n",
       "      <th>moid</th>\n",
       "      <td>0.109661</td>\n",
       "    </tr>\n",
       "    <tr>\n",
       "      <th>e</th>\n",
       "      <td>0.081379</td>\n",
       "    </tr>\n",
       "    <tr>\n",
       "      <th>class_MBA</th>\n",
       "      <td>0.075157</td>\n",
       "    </tr>\n",
       "    <tr>\n",
       "      <th>H</th>\n",
       "      <td>0.065467</td>\n",
       "    </tr>\n",
       "    <tr>\n",
       "      <th>n</th>\n",
       "      <td>0.047595</td>\n",
       "    </tr>\n",
       "    <tr>\n",
       "      <th>class_APO</th>\n",
       "      <td>0.039467</td>\n",
       "    </tr>\n",
       "  </tbody>\n",
       "</table>\n",
       "</div>"
      ],
      "text/plain": [
       "           Importance\n",
       "moid_ld      0.161852\n",
       "neo_N        0.136462\n",
       "neo_Y        0.121429\n",
       "q            0.120644\n",
       "moid         0.109661\n",
       "e            0.081379\n",
       "class_MBA    0.075157\n",
       "H            0.065467\n",
       "n            0.047595\n",
       "class_APO    0.039467"
      ]
     },
     "execution_count": 42,
     "metadata": {},
     "output_type": "execute_result"
    }
   ],
   "source": [
    "# Top 10 important variables\n",
    "feature_imp[0:10]"
   ]
  },
  {
   "attachments": {},
   "cell_type": "markdown",
   "metadata": {
    "papermill": {
     "duration": 0.081512,
     "end_time": "2020-09-28T15:02:40.556781",
     "exception": false,
     "start_time": "2020-09-28T15:02:40.475269",
     "status": "completed"
    },
    "tags": []
   },
   "source": [
    "Based on the Random Forest model, the most important feature is the Earth Minimum Orbit Intersection Distance (moid_id) followed by identifying if the object in question is a near earth object (neo) or not. "
   ]
  },
  {
   "cell_type": "code",
   "execution_count": 43,
   "metadata": {
    "execution": {
     "iopub.execute_input": "2020-09-28T15:02:40.730987Z",
     "iopub.status.busy": "2020-09-28T15:02:40.729871Z",
     "iopub.status.idle": "2020-09-28T15:02:40.734808Z",
     "shell.execute_reply": "2020-09-28T15:02:40.734181Z"
    },
    "papermill": {
     "duration": 0.096176,
     "end_time": "2020-09-28T15:02:40.734929",
     "exception": false,
     "start_time": "2020-09-28T15:02:40.638753",
     "status": "completed"
    },
    "tags": []
   },
   "outputs": [
    {
     "data": {
      "text/html": [
       "<div>\n",
       "<style scoped>\n",
       "    .dataframe tbody tr th:only-of-type {\n",
       "        vertical-align: middle;\n",
       "    }\n",
       "\n",
       "    .dataframe tbody tr th {\n",
       "        vertical-align: top;\n",
       "    }\n",
       "\n",
       "    .dataframe thead th {\n",
       "        text-align: right;\n",
       "    }\n",
       "</style>\n",
       "<table border=\"1\" class=\"dataframe\">\n",
       "  <thead>\n",
       "    <tr style=\"text-align: right;\">\n",
       "      <th></th>\n",
       "      <th>Importance</th>\n",
       "    </tr>\n",
       "  </thead>\n",
       "  <tbody>\n",
       "    <tr>\n",
       "      <th>orbit_id_JPL 108</th>\n",
       "      <td>3.621609e-14</td>\n",
       "    </tr>\n",
       "    <tr>\n",
       "      <th>orbit_id_JPL 99</th>\n",
       "      <td>3.291792e-14</td>\n",
       "    </tr>\n",
       "    <tr>\n",
       "      <th>orbit_id_JPL 106</th>\n",
       "      <td>2.380364e-14</td>\n",
       "    </tr>\n",
       "    <tr>\n",
       "      <th>orbit_id_JPL 110</th>\n",
       "      <td>0.000000e+00</td>\n",
       "    </tr>\n",
       "    <tr>\n",
       "      <th>sigma_ma</th>\n",
       "      <td>0.000000e+00</td>\n",
       "    </tr>\n",
       "    <tr>\n",
       "      <th>orbit_id_JPL 63</th>\n",
       "      <td>0.000000e+00</td>\n",
       "    </tr>\n",
       "    <tr>\n",
       "      <th>orbit_id_JPL 56</th>\n",
       "      <td>0.000000e+00</td>\n",
       "    </tr>\n",
       "    <tr>\n",
       "      <th>sigma_tp</th>\n",
       "      <td>0.000000e+00</td>\n",
       "    </tr>\n",
       "    <tr>\n",
       "      <th>orbit_id_JPL 74</th>\n",
       "      <td>0.000000e+00</td>\n",
       "    </tr>\n",
       "    <tr>\n",
       "      <th>orbit_id_JPL 82</th>\n",
       "      <td>0.000000e+00</td>\n",
       "    </tr>\n",
       "  </tbody>\n",
       "</table>\n",
       "</div>"
      ],
      "text/plain": [
       "                    Importance\n",
       "orbit_id_JPL 108  3.621609e-14\n",
       "orbit_id_JPL 99   3.291792e-14\n",
       "orbit_id_JPL 106  2.380364e-14\n",
       "orbit_id_JPL 110  0.000000e+00\n",
       "sigma_ma          0.000000e+00\n",
       "orbit_id_JPL 63   0.000000e+00\n",
       "orbit_id_JPL 56   0.000000e+00\n",
       "sigma_tp          0.000000e+00\n",
       "orbit_id_JPL 74   0.000000e+00\n",
       "orbit_id_JPL 82   0.000000e+00"
      ]
     },
     "execution_count": 43,
     "metadata": {},
     "output_type": "execute_result"
    }
   ],
   "source": [
    "# 10 least important features\n",
    "feature_imp[-10:]"
   ]
  },
  {
   "cell_type": "code",
   "execution_count": 44,
   "metadata": {
    "execution": {
     "iopub.execute_input": "2020-09-28T15:02:40.910286Z",
     "iopub.status.busy": "2020-09-28T15:02:40.909650Z",
     "iopub.status.idle": "2020-09-28T15:02:40.912295Z",
     "shell.execute_reply": "2020-09-28T15:02:40.912960Z"
    },
    "papermill": {
     "duration": 0.091361,
     "end_time": "2020-09-28T15:02:40.913092",
     "exception": false,
     "start_time": "2020-09-28T15:02:40.821731",
     "status": "completed"
    },
    "tags": []
   },
   "outputs": [
    {
     "data": {
      "text/plain": [
       "Index(['orbit_id_JPL 59', 'orbit_id_JPL 83', 'orbit_id_101', 'orbit_id_55',\n",
       "       'orbit_id_JPL 50', 'orbit_id_JPL 86', 'orbit_id_JPL 71',\n",
       "       'orbit_id_JPL 53', 'orbit_id_JPL 61', 'orbit_id_JPL 57', 'orbit_id_88',\n",
       "       'orbit_id_JPL 102', 'orbit_id_JPL 52', 'orbit_id_56', 'orbit_id_74',\n",
       "       'orbit_id_94', 'orbit_id_JPL 54', 'orbit_id_JPL 64', 'orbit_id_JPL 66',\n",
       "       'orbit_id_JPL 103', 'orbit_id_JPL 38', 'orbit_id_JPL 69',\n",
       "       'orbit_id_JPL 65', 'orbit_id_JPL 81', 'orbit_id_JPL 58',\n",
       "       'orbit_id_JPL 84', 'orbit_id_60', 'orbit_id_JPL 32', 'orbit_id_JPL 105',\n",
       "       'sigma_w', 'class_AST', 'orbit_id_JPL 48', 'orbit_id_86',\n",
       "       'orbit_id_JPL 91', 'orbit_id_JPL 73', 'orbit_id_JPL 97',\n",
       "       'orbit_id_JPL 77', 'orbit_id_81', 'orbit_id_JPL 43', 'orbit_id_JPL 46',\n",
       "       'orbit_id_JPL 108', 'orbit_id_JPL 99', 'orbit_id_JPL 106',\n",
       "       'orbit_id_JPL 110', 'sigma_ma', 'orbit_id_JPL 63', 'orbit_id_JPL 56',\n",
       "       'sigma_tp', 'orbit_id_JPL 74', 'orbit_id_JPL 82'],\n",
       "      dtype='object')"
      ]
     },
     "execution_count": 44,
     "metadata": {},
     "output_type": "execute_result"
    }
   ],
   "source": [
    "feature_imp[-50:].index"
   ]
  },
  {
   "attachments": {},
   "cell_type": "markdown",
   "metadata": {
    "papermill": {
     "duration": 0.08248,
     "end_time": "2020-09-28T15:02:41.078605",
     "exception": false,
     "start_time": "2020-09-28T15:02:40.996125",
     "status": "completed"
    },
    "tags": []
   },
   "source": [
    "Upon further exploring the least important features, it can be seen that the orbit IDs do not contribute much to the model. The dataset can be modified by eliminating the orbit_id feature completely. Similarly we can also elimate the features 'sigma_ma' and 'sigma_tp' that have 0 importance."
   ]
  },
  {
   "attachments": {},
   "cell_type": "markdown",
   "metadata": {
    "papermill": {
     "duration": 0.082389,
     "end_time": "2020-09-28T15:02:41.244614",
     "exception": false,
     "start_time": "2020-09-28T15:02:41.162225",
     "status": "completed"
    },
    "tags": []
   },
   "source": [
    "To do this, create a new dataset with one-hot encoding and dropping the orbit_id column."
   ]
  },
  {
   "cell_type": "code",
   "execution_count": 45,
   "metadata": {
    "execution": {
     "iopub.execute_input": "2020-09-28T15:02:41.412048Z",
     "iopub.status.busy": "2020-09-28T15:02:41.411386Z",
     "iopub.status.idle": "2020-09-28T15:02:41.868275Z",
     "shell.execute_reply": "2020-09-28T15:02:41.868855Z"
    },
    "papermill": {
     "duration": 0.542279,
     "end_time": "2020-09-28T15:02:41.869004",
     "exception": false,
     "start_time": "2020-09-28T15:02:41.326725",
     "status": "completed"
    },
    "tags": []
   },
   "outputs": [],
   "source": [
    "asteroid_df2 = pd.get_dummies(asteroid_df, columns=['neo', 'class'])\n",
    "asteroid_df2.drop(['orbit_id','sigma_ma', 'sigma_tp'], axis='columns', inplace=True)"
   ]
  },
  {
   "cell_type": "code",
   "execution_count": 46,
   "metadata": {
    "execution": {
     "iopub.execute_input": "2020-09-28T15:02:42.038924Z",
     "iopub.status.busy": "2020-09-28T15:02:42.038217Z",
     "iopub.status.idle": "2020-09-28T15:02:42.508896Z",
     "shell.execute_reply": "2020-09-28T15:02:42.508299Z"
    },
    "papermill": {
     "duration": 0.55632,
     "end_time": "2020-09-28T15:02:42.509009",
     "exception": false,
     "start_time": "2020-09-28T15:02:41.952689",
     "status": "completed"
    },
    "tags": []
   },
   "outputs": [],
   "source": [
    "# Create train test splits \n",
    "\n",
    "X1 = asteroid_df2.drop(['spkid', 'full_name', 'pha'], axis=1)\n",
    "y1 = asteroid_df2.iloc[:]['pha']\n",
    "\n",
    "x_train1, x_test1, y_train1, y_test1 = train_test_split(X1, y1, test_size=0.30, random_state=1501)"
   ]
  },
  {
   "cell_type": "code",
   "execution_count": 47,
   "metadata": {},
   "outputs": [
    {
     "name": "stdout",
     "output_type": "stream",
     "text": [
      "After OverSampling, counts of label 'N': 651221\n",
      "After OverSampling, counts of label 'Y': 651221\n"
     ]
    }
   ],
   "source": [
    "sm = SMOTE(random_state=12)\n",
    "x_train_res1, y_train_res1 = sm.fit_resample(x_train1, y_train1.ravel())\n",
    "\n",
    "print(\"After OverSampling, counts of label 'N': {}\".format(sum(y_train_res1 == 'N')))\n",
    "print(\"After OverSampling, counts of label 'Y': {}\".format(sum(y_train_res1 == 'Y')))\n"
   ]
  },
  {
   "cell_type": "code",
   "execution_count": 48,
   "metadata": {
    "execution": {
     "iopub.execute_input": "2020-09-28T15:02:59.233163Z",
     "iopub.status.busy": "2020-09-28T15:02:59.231779Z",
     "iopub.status.idle": "2020-09-28T15:16:11.989733Z",
     "shell.execute_reply": "2020-09-28T15:16:11.988356Z"
    },
    "papermill": {
     "duration": 792.849672,
     "end_time": "2020-09-28T15:16:11.989967",
     "exception": false,
     "start_time": "2020-09-28T15:02:59.140295",
     "status": "completed"
    },
    "tags": []
   },
   "outputs": [],
   "source": [
    "# Instantiate model with 150 decision trees\n",
    "rf = RandomForestClassifier(n_estimators = 150, random_state = 1551)\n",
    "\n",
    "# Train the model on training data\n",
    "rf.fit(x_train_res1, y_train_res1)\n",
    "\n",
    "# Predict for test set\n",
    "rf_pred1 = rf.predict(x_test1)"
   ]
  },
  {
   "cell_type": "code",
   "execution_count": 49,
   "metadata": {
    "execution": {
     "iopub.execute_input": "2020-09-28T15:16:12.186373Z",
     "iopub.status.busy": "2020-09-28T15:16:12.185494Z",
     "iopub.status.idle": "2020-09-28T15:16:28.753193Z",
     "shell.execute_reply": "2020-09-28T15:16:28.752144Z"
    },
    "papermill": {
     "duration": 16.659144,
     "end_time": "2020-09-28T15:16:28.753368",
     "exception": false,
     "start_time": "2020-09-28T15:16:12.094224",
     "status": "completed"
    },
    "tags": []
   },
   "outputs": [
    {
     "name": "stdout",
     "output_type": "stream",
     "text": [
      "Precision metric: 0.98\n",
      "Recall Metric: 1.0\n",
      "Accuracy Metric: 0.9999\n",
      "F1 score: 0.99\n"
     ]
    }
   ],
   "source": [
    "# Calculate metrics\n",
    "metricCalculation(y_test, rf_pred1)"
   ]
  },
  {
   "cell_type": "code",
   "execution_count": 50,
   "metadata": {
    "execution": {
     "iopub.execute_input": "2020-09-28T15:16:28.931440Z",
     "iopub.status.busy": "2020-09-28T15:16:28.930325Z",
     "iopub.status.idle": "2020-09-28T15:16:31.623386Z",
     "shell.execute_reply": "2020-09-28T15:16:31.622734Z"
    },
    "papermill": {
     "duration": 2.784849,
     "end_time": "2020-09-28T15:16:31.623514",
     "exception": false,
     "start_time": "2020-09-28T15:16:28.838665",
     "status": "completed"
    },
    "tags": []
   },
   "outputs": [
    {
     "data": {
      "image/png": "[encoded data removed]",
      "text/plain": [
       "<Figure size 576x432 with 2 Axes>"
      ]
     },
     "metadata": {
      "needs_background": "light"
     },
     "output_type": "display_data"
    }
   ],
   "source": [
    "# print(metrics.confusion_matrix(y_test, rf_pred))\n",
    "\n",
    "# Define the labels\n",
    "labels = ['N', 'Y']  \n",
    "\n",
    "# Define the true labels and predicted labels\n",
    "true_labels = y_test  # Replace with your actual true labels\n",
    "predicted_labels = rf_pred1  # Replace with your actual predicted labels\n",
    "\n",
    "# Compute the confusion matrix\n",
    "cm = confusion_matrix(true_labels, predicted_labels)\n",
    "\n",
    "# Create a figure and axes\n",
    "fig, ax = plt.subplots(figsize=(8, 6))\n",
    "\n",
    "# Plot the confusion matrix as a heatmap\n",
    "sns.heatmap(cm, annot=True, fmt='d', cmap='Blues', xticklabels=labels, yticklabels=labels, ax=ax)\n",
    "\n",
    "# Set labels, title, and ticks\n",
    "ax.set_xlabel('Predicted')\n",
    "ax.set_ylabel('True')\n",
    "ax.set_title('Confusion Matrix')\n",
    "ax.xaxis.set_ticklabels(labels)\n",
    "ax.yaxis.set_ticklabels(labels)\n",
    "\n",
    "# Rotate tick labels for better readability (optional)\n",
    "plt.setp(ax.get_xticklabels(), rotation=45, ha='right')\n",
    "\n",
    "# Show the plot\n",
    "plt.show()\n"
   ]
  },
  {
   "attachments": {},
   "cell_type": "markdown",
   "metadata": {
    "papermill": {
     "duration": 0.08507,
     "end_time": "2020-09-28T15:16:31.794301",
     "exception": false,
     "start_time": "2020-09-28T15:16:31.709231",
     "status": "completed"
    },
    "tags": []
   },
   "source": [
    "As can be seen, the model performance has improved with fewer false positives and false negatives. Thus, Random Forest can be used as a reliable model to predict the nature of the asteroid."
   ]
  },
  {
   "attachments": {},
   "cell_type": "markdown",
   "metadata": {
    "papermill": {
     "duration": 0.087401,
     "end_time": "2020-09-28T15:16:31.968152",
     "exception": false,
     "start_time": "2020-09-28T15:16:31.880751",
     "status": "completed"
    },
    "tags": []
   },
   "source": [
    "### 3. Light Gradient Boosting"
   ]
  },
  {
   "attachments": {},
   "cell_type": "markdown",
   "metadata": {
    "papermill": {
     "duration": 0.085392,
     "end_time": "2020-09-28T15:16:32.140376",
     "exception": false,
     "start_time": "2020-09-28T15:16:32.054984",
     "status": "completed"
    },
    "tags": []
   },
   "source": [
    "Gradient Boosting Model (GBM) is a model better preferred for prediction since it combines the principles of gradient decsent and the randomness of decision trees. We can expect a better performing model with GBM, as compared to Random Forest. Due to the massive size of the data, we can choose Light Gradient Boosting model which is known for its quick performance when compared to XGBoosting."
   ]
  },
  {
   "attachments": {},
   "cell_type": "markdown",
   "metadata": {
    "papermill": {
     "duration": 0.086155,
     "end_time": "2020-09-28T15:16:32.312144",
     "exception": false,
     "start_time": "2020-09-28T15:16:32.225989",
     "status": "completed"
    },
    "tags": []
   },
   "source": [
    "This algorithm will be used on 2 datasets - one with all the features and one without the important features as identified by the Random Forest model."
   ]
  },
  {
   "attachments": {},
   "cell_type": "markdown",
   "metadata": {
    "papermill": {
     "duration": 0.085333,
     "end_time": "2020-09-28T15:16:32.483517",
     "exception": false,
     "start_time": "2020-09-28T15:16:32.398184",
     "status": "completed"
    },
    "tags": []
   },
   "source": [
    "### 3.1 LGBM with entire data set"
   ]
  },
  {
   "attachments": {},
   "cell_type": "markdown",
   "metadata": {
    "papermill": {
     "duration": 0.085941,
     "end_time": "2020-09-28T15:16:32.656203",
     "exception": false,
     "start_time": "2020-09-28T15:16:32.570262",
     "status": "completed"
    },
    "tags": []
   },
   "source": [
    "For the sake of LGBM, convert the labels into numeric values by substituting Y with 1 and N with 0"
   ]
  },
  {
   "cell_type": "code",
   "execution_count": 51,
   "metadata": {
    "execution": {
     "iopub.execute_input": "2020-09-28T15:16:32.833565Z",
     "iopub.status.busy": "2020-09-28T15:16:32.832884Z",
     "iopub.status.idle": "2020-09-28T15:16:32.836340Z",
     "shell.execute_reply": "2020-09-28T15:16:32.835767Z"
    },
    "papermill": {
     "duration": 0.093399,
     "end_time": "2020-09-28T15:16:32.836453",
     "exception": false,
     "start_time": "2020-09-28T15:16:32.743054",
     "status": "completed"
    },
    "tags": []
   },
   "outputs": [],
   "source": [
    "# Duplicate the training data sets for the label\n",
    "y_train_res_2 = y_train_res"
   ]
  },
  {
   "cell_type": "code",
   "execution_count": 52,
   "metadata": {
    "execution": {
     "iopub.execute_input": "2020-09-28T15:16:33.017048Z",
     "iopub.status.busy": "2020-09-28T15:16:33.016378Z",
     "iopub.status.idle": "2020-09-28T15:16:33.480941Z",
     "shell.execute_reply": "2020-09-28T15:16:33.481517Z"
    },
    "papermill": {
     "duration": 0.554811,
     "end_time": "2020-09-28T15:16:33.481667",
     "exception": false,
     "start_time": "2020-09-28T15:16:32.926856",
     "status": "completed"
    },
    "tags": []
   },
   "outputs": [],
   "source": [
    "# Encode labels\n",
    "\n",
    "for n,i in enumerate(y_train_res_2):\n",
    "    if i=='Y':\n",
    "      y_train_res_2[n] = 1\n",
    "    else:\n",
    "        y_train_res_2[n] = 0"
   ]
  },
  {
   "cell_type": "code",
   "execution_count": 53,
   "metadata": {
    "execution": {
     "iopub.execute_input": "2020-09-28T15:16:33.655607Z",
     "iopub.status.busy": "2020-09-28T15:16:33.654880Z",
     "iopub.status.idle": "2020-09-28T15:16:33.658914Z",
     "shell.execute_reply": "2020-09-28T15:16:33.659417Z"
    },
    "papermill": {
     "duration": 0.092736,
     "end_time": "2020-09-28T15:16:33.659573",
     "exception": false,
     "start_time": "2020-09-28T15:16:33.566837",
     "status": "completed"
    },
    "tags": []
   },
   "outputs": [],
   "source": [
    "# Use label encoding to encode test labels \n",
    "y_test_2 = y_test.cat.codes"
   ]
  },
  {
   "cell_type": "code",
   "execution_count": 54,
   "metadata": {
    "execution": {
     "iopub.execute_input": "2020-09-28T15:16:33.835045Z",
     "iopub.status.busy": "2020-09-28T15:16:33.834342Z",
     "iopub.status.idle": "2020-09-28T15:16:33.895817Z",
     "shell.execute_reply": "2020-09-28T15:16:33.895229Z"
    },
    "papermill": {
     "duration": 0.150264,
     "end_time": "2020-09-28T15:16:33.895944",
     "exception": false,
     "start_time": "2020-09-28T15:16:33.745680",
     "status": "completed"
    },
    "tags": []
   },
   "outputs": [],
   "source": [
    "# Load the training dataset along with the label to LGBM\n",
    "import lightgbm as lgb \n",
    "\n",
    "train_data=lgb.Dataset(x_train_res,label=y_train_res_2)"
   ]
  },
  {
   "attachments": {},
   "cell_type": "markdown",
   "metadata": {
    "papermill": {
     "duration": 0.085749,
     "end_time": "2020-09-28T15:16:34.070040",
     "exception": false,
     "start_time": "2020-09-28T15:16:33.984291",
     "status": "completed"
    },
    "tags": []
   },
   "source": [
    "Set paramateres before fitting the model. After experimenting with a few learning rates, it was found that a rate of 0.01 yeilded the highest value for precision although all other metrics remained almost the same. "
   ]
  },
  {
   "cell_type": "code",
   "execution_count": 55,
   "metadata": {
    "execution": {
     "iopub.execute_input": "2020-09-28T15:16:34.347472Z",
     "iopub.status.busy": "2020-09-28T15:16:34.346519Z",
     "iopub.status.idle": "2020-09-28T15:16:34.350948Z",
     "shell.execute_reply": "2020-09-28T15:16:34.351810Z"
    },
    "papermill": {
     "duration": 0.183123,
     "end_time": "2020-09-28T15:16:34.352004",
     "exception": false,
     "start_time": "2020-09-28T15:16:34.168881",
     "status": "completed"
    },
    "tags": []
   },
   "outputs": [],
   "source": [
    "#setting parameters for lightgbm\n",
    "\n",
    "param = {'num_leaves': 150, # number of leaves per tree\n",
    "         'nrounds': 350,\n",
    "         'max_depth': 25, # depth of tree\n",
    "         'learning_rate': 0.01, # learning rate\n",
    "         'max_bin': 500 # max number of bins to bucket the feature values.\n",
    "        }"
   ]
  },
  {
   "cell_type": "code",
   "execution_count": 56,
   "metadata": {
    "execution": {
     "iopub.execute_input": "2020-09-28T15:16:34.534288Z",
     "iopub.status.busy": "2020-09-28T15:16:34.533577Z",
     "iopub.status.idle": "2020-09-28T15:16:55.296798Z",
     "shell.execute_reply": "2020-09-28T15:16:55.297467Z"
    },
    "papermill": {
     "duration": 20.85303,
     "end_time": "2020-09-28T15:16:55.297639",
     "exception": false,
     "start_time": "2020-09-28T15:16:34.444609",
     "status": "completed"
    },
    "tags": []
   },
   "outputs": [
    {
     "name": "stdout",
     "output_type": "stream",
     "text": [
      "[LightGBM] [Warning] Unknown parameter: nrounds\n",
      "[LightGBM] [Warning] Found whitespace in feature_names, replace with underlines\n",
      "[LightGBM] [Warning] Unknown parameter: nrounds\n",
      "[LightGBM] [Warning] Auto-choosing col-wise multi-threading, the overhead of testing was 0.193932 seconds.\n",
      "You can set `force_col_wise=true` to remove the overhead.\n",
      "[LightGBM] [Info] Total Bins 15832\n",
      "[LightGBM] [Info] Number of data points in the train set: 1302442, number of used features: 197\n",
      "[LightGBM] [Info] Start training from score 0.500000\n",
      "[LightGBM] [Warning] No further splits with positive gain, best gain: -inf\n",
      "[LightGBM] [Warning] No further splits with positive gain, best gain: -inf\n",
      "[LightGBM] [Warning] No further splits with positive gain, best gain: -inf\n",
      "[LightGBM] [Warning] No further splits with positive gain, best gain: -inf\n",
      "[LightGBM] [Warning] No further splits with positive gain, best gain: -inf\n",
      "[LightGBM] [Warning] No further splits with positive gain, best gain: -inf\n",
      "[LightGBM] [Warning] No further splits with positive gain, best gain: -inf\n",
      "[LightGBM] [Warning] No further splits with positive gain, best gain: -inf\n",
      "[LightGBM] [Warning] No further splits with positive gain, best gain: -inf\n",
      "[LightGBM] [Warning] No further splits with positive gain, best gain: -inf\n"
     ]
    }
   ],
   "source": [
    "# Train the model \n",
    "\n",
    "lgbm = lgb.train(param, train_data)\n",
    "lgbm_pred = lgbm.predict(x_test)\n",
    "\n",
    "# Convert the predicted probabilities to 0 or 1\n",
    "for i in range(0,len(y_test_2)):\n",
    "    if lgbm_pred[i]>=.5:       # setting threshold to .5\n",
    "       lgbm_pred[i]=1\n",
    "    else:  \n",
    "       lgbm_pred[i]=0"
   ]
  },
  {
   "cell_type": "code",
   "execution_count": 57,
   "metadata": {
    "execution": {
     "iopub.execute_input": "2020-09-28T15:16:55.474259Z",
     "iopub.status.busy": "2020-09-28T15:16:55.473613Z",
     "iopub.status.idle": "2020-09-28T15:16:55.808942Z",
     "shell.execute_reply": "2020-09-28T15:16:55.809949Z"
    },
    "papermill": {
     "duration": 0.425767,
     "end_time": "2020-09-28T15:16:55.810158",
     "exception": false,
     "start_time": "2020-09-28T15:16:55.384391",
     "status": "completed"
    },
    "tags": []
   },
   "outputs": [
    {
     "name": "stdout",
     "output_type": "stream",
     "text": [
      "Precision metric: 0.96\n",
      "Recall Metric: 0.99\n",
      "Accuracy Metric: 0.9998\n",
      "F1 score: 0.98\n"
     ]
    }
   ],
   "source": [
    "# Calculate metrics\n",
    "metricCalculation(y_test_2, lgbm_pred)"
   ]
  },
  {
   "cell_type": "code",
   "execution_count": 58,
   "metadata": {
    "execution": {
     "iopub.execute_input": "2020-09-28T15:16:55.993822Z",
     "iopub.status.busy": "2020-09-28T15:16:55.993118Z",
     "iopub.status.idle": "2020-09-28T15:16:57.318531Z",
     "shell.execute_reply": "2020-09-28T15:16:57.319065Z"
    },
    "papermill": {
     "duration": 1.417517,
     "end_time": "2020-09-28T15:16:57.319208",
     "exception": false,
     "start_time": "2020-09-28T15:16:55.901691",
     "status": "completed"
    },
    "tags": []
   },
   "outputs": [
    {
     "ename": "TypeError",
     "evalue": "Labels in y_true and y_pred should be of the same type. Got y_true=['N' 'Y'] and y_pred=[0. 1.]. Make sure that the predictions provided by the classifier coincides with the true labels.",
     "output_type": "error",
     "traceback": [
      "\u001b[1;31m---------------------------------------------------------------------------\u001b[0m",
      "\u001b[1;31mTypeError\u001b[0m                                 Traceback (most recent call last)",
      "\u001b[1;32mc:\\Users\\muhil\\anaconda3\\lib\\site-packages\\sklearn\\metrics\\_classification.py\u001b[0m in \u001b[0;36m_check_targets\u001b[1;34m(y_true, y_pred)\u001b[0m\n\u001b[0;32m    112\u001b[0m             \u001b[1;32mtry\u001b[0m\u001b[1;33m:\u001b[0m\u001b[1;33m\u001b[0m\u001b[1;33m\u001b[0m\u001b[0m\n\u001b[1;32m--> 113\u001b[1;33m                 \u001b[0munique_values\u001b[0m \u001b[1;33m=\u001b[0m \u001b[0mnp\u001b[0m\u001b[1;33m.\u001b[0m\u001b[0munion1d\u001b[0m\u001b[1;33m(\u001b[0m\u001b[0my_true\u001b[0m\u001b[1;33m,\u001b[0m \u001b[0my_pred\u001b[0m\u001b[1;33m)\u001b[0m\u001b[1;33m\u001b[0m\u001b[1;33m\u001b[0m\u001b[0m\n\u001b[0m\u001b[0;32m    114\u001b[0m             \u001b[1;32mexcept\u001b[0m \u001b[0mTypeError\u001b[0m \u001b[1;32mas\u001b[0m \u001b[0me\u001b[0m\u001b[1;33m:\u001b[0m\u001b[1;33m\u001b[0m\u001b[1;33m\u001b[0m\u001b[0m\n",
      "\u001b[1;32mc:\\Users\\muhil\\anaconda3\\lib\\site-packages\\numpy\\core\\overrides.py\u001b[0m in \u001b[0;36munion1d\u001b[1;34m(*args, **kwargs)\u001b[0m\n",
      "\u001b[1;32mc:\\Users\\muhil\\anaconda3\\lib\\site-packages\\numpy\\lib\\arraysetops.py\u001b[0m in \u001b[0;36munion1d\u001b[1;34m(ar1, ar2)\u001b[0m\n\u001b[0;32m    776\u001b[0m     \"\"\"\n\u001b[1;32m--> 777\u001b[1;33m     \u001b[1;32mreturn\u001b[0m \u001b[0munique\u001b[0m\u001b[1;33m(\u001b[0m\u001b[0mnp\u001b[0m\u001b[1;33m.\u001b[0m\u001b[0mconcatenate\u001b[0m\u001b[1;33m(\u001b[0m\u001b[1;33m(\u001b[0m\u001b[0mar1\u001b[0m\u001b[1;33m,\u001b[0m \u001b[0mar2\u001b[0m\u001b[1;33m)\u001b[0m\u001b[1;33m,\u001b[0m \u001b[0maxis\u001b[0m\u001b[1;33m=\u001b[0m\u001b[1;32mNone\u001b[0m\u001b[1;33m)\u001b[0m\u001b[1;33m)\u001b[0m\u001b[1;33m\u001b[0m\u001b[1;33m\u001b[0m\u001b[0m\n\u001b[0m\u001b[0;32m    778\u001b[0m \u001b[1;33m\u001b[0m\u001b[0m\n",
      "\u001b[1;32mc:\\Users\\muhil\\anaconda3\\lib\\site-packages\\numpy\\core\\overrides.py\u001b[0m in \u001b[0;36munique\u001b[1;34m(*args, **kwargs)\u001b[0m\n",
      "\u001b[1;32mc:\\Users\\muhil\\anaconda3\\lib\\site-packages\\numpy\\lib\\arraysetops.py\u001b[0m in \u001b[0;36munique\u001b[1;34m(ar, return_index, return_inverse, return_counts, axis)\u001b[0m\n\u001b[0;32m    271\u001b[0m     \u001b[1;32mif\u001b[0m \u001b[0maxis\u001b[0m \u001b[1;32mis\u001b[0m \u001b[1;32mNone\u001b[0m\u001b[1;33m:\u001b[0m\u001b[1;33m\u001b[0m\u001b[1;33m\u001b[0m\u001b[0m\n\u001b[1;32m--> 272\u001b[1;33m         \u001b[0mret\u001b[0m \u001b[1;33m=\u001b[0m \u001b[0m_unique1d\u001b[0m\u001b[1;33m(\u001b[0m\u001b[0mar\u001b[0m\u001b[1;33m,\u001b[0m \u001b[0mreturn_index\u001b[0m\u001b[1;33m,\u001b[0m \u001b[0mreturn_inverse\u001b[0m\u001b[1;33m,\u001b[0m \u001b[0mreturn_counts\u001b[0m\u001b[1;33m)\u001b[0m\u001b[1;33m\u001b[0m\u001b[1;33m\u001b[0m\u001b[0m\n\u001b[0m\u001b[0;32m    273\u001b[0m         \u001b[1;32mreturn\u001b[0m \u001b[0m_unpack_tuple\u001b[0m\u001b[1;33m(\u001b[0m\u001b[0mret\u001b[0m\u001b[1;33m)\u001b[0m\u001b[1;33m\u001b[0m\u001b[1;33m\u001b[0m\u001b[0m\n",
      "\u001b[1;32mc:\\Users\\muhil\\anaconda3\\lib\\site-packages\\numpy\\lib\\arraysetops.py\u001b[0m in \u001b[0;36m_unique1d\u001b[1;34m(ar, return_index, return_inverse, return_counts)\u001b[0m\n\u001b[0;32m    332\u001b[0m     \u001b[1;32melse\u001b[0m\u001b[1;33m:\u001b[0m\u001b[1;33m\u001b[0m\u001b[1;33m\u001b[0m\u001b[0m\n\u001b[1;32m--> 333\u001b[1;33m         \u001b[0mar\u001b[0m\u001b[1;33m.\u001b[0m\u001b[0msort\u001b[0m\u001b[1;33m(\u001b[0m\u001b[1;33m)\u001b[0m\u001b[1;33m\u001b[0m\u001b[1;33m\u001b[0m\u001b[0m\n\u001b[0m\u001b[0;32m    334\u001b[0m         \u001b[0maux\u001b[0m \u001b[1;33m=\u001b[0m \u001b[0mar\u001b[0m\u001b[1;33m\u001b[0m\u001b[1;33m\u001b[0m\u001b[0m\n",
      "\u001b[1;31mTypeError\u001b[0m: '<' not supported between instances of 'float' and 'str'",
      "\nThe above exception was the direct cause of the following exception:\n",
      "\u001b[1;31mTypeError\u001b[0m                                 Traceback (most recent call last)",
      "\u001b[1;32m~\\AppData\\Local\\Temp/ipykernel_8560/2611935804.py\u001b[0m in \u001b[0;36m<module>\u001b[1;34m\u001b[0m\n\u001b[0;32m     10\u001b[0m \u001b[1;33m\u001b[0m\u001b[0m\n\u001b[0;32m     11\u001b[0m \u001b[1;31m# Compute the confusion matrix\u001b[0m\u001b[1;33m\u001b[0m\u001b[1;33m\u001b[0m\u001b[0m\n\u001b[1;32m---> 12\u001b[1;33m \u001b[0mcm\u001b[0m \u001b[1;33m=\u001b[0m \u001b[0mconfusion_matrix\u001b[0m\u001b[1;33m(\u001b[0m\u001b[0mtrue_labels\u001b[0m\u001b[1;33m,\u001b[0m \u001b[0mpredicted_labels\u001b[0m\u001b[1;33m)\u001b[0m\u001b[1;33m\u001b[0m\u001b[1;33m\u001b[0m\u001b[0m\n\u001b[0m\u001b[0;32m     13\u001b[0m \u001b[1;33m\u001b[0m\u001b[0m\n\u001b[0;32m     14\u001b[0m \u001b[1;31m# Create a figure and axes\u001b[0m\u001b[1;33m\u001b[0m\u001b[1;33m\u001b[0m\u001b[0m\n",
      "\u001b[1;32mc:\\Users\\muhil\\anaconda3\\lib\\site-packages\\sklearn\\metrics\\_classification.py\u001b[0m in \u001b[0;36mconfusion_matrix\u001b[1;34m(y_true, y_pred, labels, sample_weight, normalize)\u001b[0m\n\u001b[0;32m    315\u001b[0m     \u001b[1;33m(\u001b[0m\u001b[1;36m0\u001b[0m\u001b[1;33m,\u001b[0m \u001b[1;36m2\u001b[0m\u001b[1;33m,\u001b[0m \u001b[1;36m1\u001b[0m\u001b[1;33m,\u001b[0m \u001b[1;36m1\u001b[0m\u001b[1;33m)\u001b[0m\u001b[1;33m\u001b[0m\u001b[1;33m\u001b[0m\u001b[0m\n\u001b[0;32m    316\u001b[0m     \"\"\"\n\u001b[1;32m--> 317\u001b[1;33m     \u001b[0my_type\u001b[0m\u001b[1;33m,\u001b[0m \u001b[0my_true\u001b[0m\u001b[1;33m,\u001b[0m \u001b[0my_pred\u001b[0m \u001b[1;33m=\u001b[0m \u001b[0m_check_targets\u001b[0m\u001b[1;33m(\u001b[0m\u001b[0my_true\u001b[0m\u001b[1;33m,\u001b[0m \u001b[0my_pred\u001b[0m\u001b[1;33m)\u001b[0m\u001b[1;33m\u001b[0m\u001b[1;33m\u001b[0m\u001b[0m\n\u001b[0m\u001b[0;32m    318\u001b[0m     \u001b[1;32mif\u001b[0m \u001b[0my_type\u001b[0m \u001b[1;32mnot\u001b[0m \u001b[1;32min\u001b[0m \u001b[1;33m(\u001b[0m\u001b[1;34m\"binary\"\u001b[0m\u001b[1;33m,\u001b[0m \u001b[1;34m\"multiclass\"\u001b[0m\u001b[1;33m)\u001b[0m\u001b[1;33m:\u001b[0m\u001b[1;33m\u001b[0m\u001b[1;33m\u001b[0m\u001b[0m\n\u001b[0;32m    319\u001b[0m         \u001b[1;32mraise\u001b[0m \u001b[0mValueError\u001b[0m\u001b[1;33m(\u001b[0m\u001b[1;34m\"%s is not supported\"\u001b[0m \u001b[1;33m%\u001b[0m \u001b[0my_type\u001b[0m\u001b[1;33m)\u001b[0m\u001b[1;33m\u001b[0m\u001b[1;33m\u001b[0m\u001b[0m\n",
      "\u001b[1;32mc:\\Users\\muhil\\anaconda3\\lib\\site-packages\\sklearn\\metrics\\_classification.py\u001b[0m in \u001b[0;36m_check_targets\u001b[1;34m(y_true, y_pred)\u001b[0m\n\u001b[0;32m    117\u001b[0m                 \u001b[1;31m# `y_pred` given by the classifier will also be encoded with\u001b[0m\u001b[1;33m\u001b[0m\u001b[1;33m\u001b[0m\u001b[0m\n\u001b[0;32m    118\u001b[0m                 \u001b[1;31m# strings. So we raise a meaningful error\u001b[0m\u001b[1;33m\u001b[0m\u001b[1;33m\u001b[0m\u001b[0m\n\u001b[1;32m--> 119\u001b[1;33m                 raise TypeError(\n\u001b[0m\u001b[0;32m    120\u001b[0m                     \u001b[1;34m\"Labels in y_true and y_pred should be of the same type. \"\u001b[0m\u001b[1;33m\u001b[0m\u001b[1;33m\u001b[0m\u001b[0m\n\u001b[0;32m    121\u001b[0m                     \u001b[1;34mf\"Got y_true={np.unique(y_true)} and \"\u001b[0m\u001b[1;33m\u001b[0m\u001b[1;33m\u001b[0m\u001b[0m\n",
      "\u001b[1;31mTypeError\u001b[0m: Labels in y_true and y_pred should be of the same type. Got y_true=['N' 'Y'] and y_pred=[0. 1.]. Make sure that the predictions provided by the classifier coincides with the true labels."
     ]
    }
   ],
   "source": [
    "# # Confusion Matrix\n",
    "# print(metrics.confusion_matrix(y_test_2, lgbm_pred))\n",
    "\n",
    "# Define the labels\n",
    "labels = ['N', 'Y']  \n",
    "\n",
    "# Define the true labels and predicted labels\n",
    "true_labels = y_test  # Replace with your actual true labels\n",
    "predicted_labels = lgbm_pred  # Replace with your actual predicted labels\n",
    "\n",
    "# Compute the confusion matrix\n",
    "cm = confusion_matrix(true_labels, predicted_labels)\n",
    "\n",
    "# Create a figure and axes\n",
    "fig, ax = plt.subplots(figsize=(8, 6))\n",
    "\n",
    "# Plot the confusion matrix as a heatmap\n",
    "sns.heatmap(cm, annot=True, fmt='d', cmap='Blues', xticklabels=labels, yticklabels=labels, ax=ax)\n",
    "\n",
    "# Set labels, title, and ticks\n",
    "ax.set_xlabel('Predicted')\n",
    "ax.set_ylabel('True')\n",
    "ax.set_title('Confusion Matrix')\n",
    "ax.xaxis.set_ticklabels(labels)\n",
    "ax.yaxis.set_ticklabels(labels)\n",
    "\n",
    "# Rotate tick labels for better readability (optional)\n",
    "plt.setp(ax.get_xticklabels(), rotation=45, ha='right')\n",
    "\n",
    "# Show the plot\n",
    "plt.show()\n"
   ]
  },
  {
   "attachments": {},
   "cell_type": "markdown",
   "metadata": {
    "papermill": {
     "duration": 0.086948,
     "end_time": "2020-09-28T15:16:57.494807",
     "exception": false,
     "start_time": "2020-09-28T15:16:57.407859",
     "status": "completed"
    },
    "tags": []
   },
   "source": [
    "The Light Gradient Boosting Model with the entire dataset has higher metric values as compared to Logistic Regression but a little lower than Random Forest. The confusion matrix shows that the LGBM has more mislabled values than the Random Forest model. Now we try training the model on the trimmed data set based on the importance of the Random Forest model."
   ]
  },
  {
   "attachments": {},
   "cell_type": "markdown",
   "metadata": {
    "papermill": {
     "duration": 0.08763,
     "end_time": "2020-09-28T15:16:57.669260",
     "exception": false,
     "start_time": "2020-09-28T15:16:57.581630",
     "status": "completed"
    },
    "tags": []
   },
   "source": [
    "### 3.2 LGBM with trimmed data"
   ]
  },
  {
   "attachments": {},
   "cell_type": "markdown",
   "metadata": {
    "papermill": {
     "duration": 0.086699,
     "end_time": "2020-09-28T15:16:57.843138",
     "exception": false,
     "start_time": "2020-09-28T15:16:57.756439",
     "status": "completed"
    },
    "tags": []
   },
   "source": [
    "Convert the labels into numeric values by substituting Y with 1 and N with 0"
   ]
  },
  {
   "cell_type": "code",
   "execution_count": null,
   "metadata": {
    "execution": {
     "iopub.execute_input": "2020-09-28T15:16:58.021985Z",
     "iopub.status.busy": "2020-09-28T15:16:58.021359Z",
     "iopub.status.idle": "2020-09-28T15:16:58.504026Z",
     "shell.execute_reply": "2020-09-28T15:16:58.504614Z"
    },
    "papermill": {
     "duration": 0.573685,
     "end_time": "2020-09-28T15:16:58.504766",
     "exception": false,
     "start_time": "2020-09-28T15:16:57.931081",
     "status": "completed"
    },
    "tags": []
   },
   "outputs": [],
   "source": [
    "# Duplicate the training data sets for the label\n",
    "y_train_res_3 = y_train_res1\n",
    "\n",
    "# Encode labels\n",
    "\n",
    "for n,i in enumerate(y_train_res_3):\n",
    "    if i=='Y':\n",
    "      y_train_res_3[n] = 1\n",
    "    else:\n",
    "        y_train_res_3[n] = 0\n",
    "        \n",
    "# Use label encoding to encode test labels \n",
    "y_test_3 = y_test1.cat.codes"
   ]
  },
  {
   "cell_type": "code",
   "execution_count": null,
   "metadata": {
    "execution": {
     "iopub.execute_input": "2020-09-28T15:16:58.682673Z",
     "iopub.status.busy": "2020-09-28T15:16:58.681983Z",
     "iopub.status.idle": "2020-09-28T15:16:58.685898Z",
     "shell.execute_reply": "2020-09-28T15:16:58.686424Z"
    },
    "papermill": {
     "duration": 0.094476,
     "end_time": "2020-09-28T15:16:58.686601",
     "exception": false,
     "start_time": "2020-09-28T15:16:58.592125",
     "status": "completed"
    },
    "tags": []
   },
   "outputs": [],
   "source": [
    "# Load the training dataset along with the label to LGBM\n",
    "import lightgbm as lgb \n",
    "\n",
    "train_data_1=lgb.Dataset(x_train_res1,label=y_train_res_3)"
   ]
  },
  {
   "attachments": {},
   "cell_type": "markdown",
   "metadata": {
    "papermill": {
     "duration": 0.086735,
     "end_time": "2020-09-28T15:16:58.862854",
     "exception": false,
     "start_time": "2020-09-28T15:16:58.776119",
     "status": "completed"
    },
    "tags": []
   },
   "source": [
    "We use the same parameters for the model."
   ]
  },
  {
   "cell_type": "code",
   "execution_count": null,
   "metadata": {
    "execution": {
     "iopub.execute_input": "2020-09-28T15:16:59.041566Z",
     "iopub.status.busy": "2020-09-28T15:16:59.040862Z",
     "iopub.status.idle": "2020-09-28T15:17:13.644432Z",
     "shell.execute_reply": "2020-09-28T15:17:13.643880Z"
    },
    "papermill": {
     "duration": 14.694034,
     "end_time": "2020-09-28T15:17:13.644573",
     "exception": false,
     "start_time": "2020-09-28T15:16:58.950539",
     "status": "completed"
    },
    "tags": []
   },
   "outputs": [
    {
     "name": "stdout",
     "output_type": "stream",
     "text": [
      "[LightGBM] [Warning] Unknown parameter: nrounds\n",
      "[LightGBM] [Warning] Unknown parameter: nrounds\n",
      "[LightGBM] [Warning] Auto-choosing col-wise multi-threading, the overhead of testing was 0.473914 seconds.\n",
      "You can set `force_col_wise=true` to remove the overhead.\n",
      "[LightGBM] [Info] Total Bins 14528\n",
      "[LightGBM] [Info] Number of data points in the train set: 1302442, number of used features: 43\n",
      "[LightGBM] [Info] Start training from score 0.500000\n",
      "[LightGBM] [Warning] No further splits with positive gain, best gain: -inf\n",
      "[LightGBM] [Warning] No further splits with positive gain, best gain: -inf\n",
      "[LightGBM] [Warning] No further splits with positive gain, best gain: -inf\n",
      "[LightGBM] [Warning] No further splits with positive gain, best gain: -inf\n",
      "[LightGBM] [Warning] No further splits with positive gain, best gain: -inf\n",
      "[LightGBM] [Warning] No further splits with positive gain, best gain: -inf\n",
      "[LightGBM] [Warning] No further splits with positive gain, best gain: -inf\n",
      "[LightGBM] [Warning] No further splits with positive gain, best gain: -inf\n",
      "[LightGBM] [Warning] No further splits with positive gain, best gain: -inf\n",
      "[LightGBM] [Warning] No further splits with positive gain, best gain: -inf\n",
      "[LightGBM] [Warning] No further splits with positive gain, best gain: -inf\n",
      "[LightGBM] [Warning] No further splits with positive gain, best gain: -inf\n",
      "[LightGBM] [Warning] No further splits with positive gain, best gain: -inf\n",
      "[LightGBM] [Warning] No further splits with positive gain, best gain: -inf\n",
      "[LightGBM] [Warning] No further splits with positive gain, best gain: -inf\n",
      "[LightGBM] [Warning] No further splits with positive gain, best gain: -inf\n",
      "[LightGBM] [Warning] No further splits with positive gain, best gain: -inf\n",
      "[LightGBM] [Warning] No further splits with positive gain, best gain: -inf\n",
      "[LightGBM] [Warning] No further splits with positive gain, best gain: -inf\n"
     ]
    }
   ],
   "source": [
    "# Train the model \n",
    "\n",
    "lgbm_1 = lgb.train(param, train_data_1)\n",
    "lgbm_pred_1 = lgbm_1.predict(x_test1)\n",
    "\n",
    "# Convert the predicted probabilities to 0 or 1\n",
    "for i in range(0,len(y_test_3)):\n",
    "    if lgbm_pred_1[i]>=.5:       # setting threshold to .5\n",
    "       lgbm_pred_1[i]=1\n",
    "    else:  \n",
    "       lgbm_pred_1[i]=0"
   ]
  },
  {
   "cell_type": "code",
   "execution_count": null,
   "metadata": {
    "execution": {
     "iopub.execute_input": "2020-09-28T15:17:13.830733Z",
     "iopub.status.busy": "2020-09-28T15:17:13.829748Z",
     "iopub.status.idle": "2020-09-28T15:17:14.171149Z",
     "shell.execute_reply": "2020-09-28T15:17:14.170274Z"
    },
    "papermill": {
     "duration": 0.434986,
     "end_time": "2020-09-28T15:17:14.171314",
     "exception": false,
     "start_time": "2020-09-28T15:17:13.736328",
     "status": "completed"
    },
    "tags": []
   },
   "outputs": [
    {
     "name": "stdout",
     "output_type": "stream",
     "text": [
      "Precision metric: 0.96\n",
      "Recall Metric: 0.99\n",
      "Accuracy Metric: 0.9998\n",
      "F1 score: 0.98\n"
     ]
    }
   ],
   "source": [
    "# Calculate metrics\n",
    "metricCalculation(y_test_3, lgbm_pred_1)"
   ]
  },
  {
   "cell_type": "code",
   "execution_count": null,
   "metadata": {
    "execution": {
     "iopub.execute_input": "2020-09-28T15:17:14.355043Z",
     "iopub.status.busy": "2020-09-28T15:17:14.354294Z",
     "iopub.status.idle": "2020-09-28T15:17:15.733568Z",
     "shell.execute_reply": "2020-09-28T15:17:15.732851Z"
    },
    "papermill": {
     "duration": 1.472875,
     "end_time": "2020-09-28T15:17:15.733701",
     "exception": false,
     "start_time": "2020-09-28T15:17:14.260826",
     "status": "completed"
    },
    "tags": []
   },
   "outputs": [
    {
     "name": "stdout",
     "output_type": "stream",
     "text": [
      "[[278992     56]\n",
      " [    10    643]]\n"
     ]
    }
   ],
   "source": [
    "# Confusion Matrix\n",
    "# print(metrics.confusion_matrix(y_test_3, lgbm_pred_1))\n",
    "\n",
    "# Define the labels\n",
    "labels = ['N', 'Y']  \n",
    "\n",
    "# Define the true labels and predicted labels\n",
    "true_labels = y_test  # Replace with your actual true labels\n",
    "predicted_labels = lgbm_pred_1  # Replace with your actual predicted labels\n",
    "\n",
    "# Compute the confusion matrix\n",
    "cm = confusion_matrix(true_labels, predicted_labels)\n",
    "\n",
    "# Create a figure and axes\n",
    "fig, ax = plt.subplots(figsize=(8, 6))\n",
    "\n",
    "# Plot the confusion matrix as a heatmap\n",
    "sns.heatmap(cm, annot=True, fmt='d', cmap='Blues', xticklabels=labels, yticklabels=labels, ax=ax)\n",
    "\n",
    "# Set labels, title, and ticks\n",
    "ax.set_xlabel('Predicted')\n",
    "ax.set_ylabel('True')\n",
    "ax.set_title('Confusion Matrix')\n",
    "ax.xaxis.set_ticklabels(labels)\n",
    "ax.yaxis.set_ticklabels(labels)\n",
    "\n",
    "# Rotate tick labels for better readability (optional)\n",
    "plt.setp(ax.get_xticklabels(), rotation=45, ha='right')\n",
    "\n",
    "# Show the plot\n",
    "plt.show()\n"
   ]
  },
  {
   "attachments": {},
   "cell_type": "markdown",
   "metadata": {
    "papermill": {
     "duration": 0.091525,
     "end_time": "2020-09-28T15:17:15.917536",
     "exception": false,
     "start_time": "2020-09-28T15:17:15.826011",
     "status": "completed"
    },
    "tags": []
   },
   "source": [
    "The model with the trimmed data is a definite improvement although it isn't as good as the prediciton by Random Forest, since it still has more mislabeled asteoroids. LGBM ranks second in model performance. "
   ]
  },
  {
   "attachments": {},
   "cell_type": "markdown",
   "metadata": {
    "papermill": {
     "duration": 0.098283,
     "end_time": "2020-09-28T15:17:16.116355",
     "exception": false,
     "start_time": "2020-09-28T15:17:16.018072",
     "status": "completed"
    },
    "tags": []
   },
   "source": [
    "# 5. Conclusion"
   ]
  },
  {
   "attachments": {},
   "cell_type": "markdown",
   "metadata": {
    "papermill": {
     "duration": 0.096719,
     "end_time": "2020-09-28T15:17:16.308123",
     "exception": false,
     "start_time": "2020-09-28T15:17:16.211404",
     "status": "completed"
    },
    "tags": []
   },
   "source": [
    "Following is the table of performance evaluation for the models created."
   ]
  },
  {
   "attachments": {},
   "cell_type": "markdown",
   "metadata": {
    "papermill": {
     "duration": 0.089582,
     "end_time": "2020-09-28T15:17:16.487164",
     "exception": false,
     "start_time": "2020-09-28T15:17:16.397582",
     "status": "completed"
    },
    "tags": []
   },
   "source": [
    "\n",
    "| Model| Accuracy  | Precision    | Recall   | F-1 Score   |\n",
    "|---:|:-------------|:-----------|:------|:------|\n",
    "| Random Forest with importance | 99.99%  | 0.98    | 1.0   | 0.99     |\n",
    "| Random Forest | 99.98%  | 0.97   | 0.99   | 0.98     |\n",
    "| Light Gradient Boosting with importance | 99.98%  | 0.96    | 0.99   | 0.98     |\n",
    "| Light Gradient Boosting | 99.98%  |  0.96  |  0.99  |   0.98   |\n",
    "| Logistic Regression |  99.11% | 0.6       | 0.98   | 0.67     |"
   ]
  },
  {
   "attachments": {},
   "cell_type": "markdown",
   "metadata": {
    "papermill": {
     "duration": 0.088285,
     "end_time": "2020-09-28T15:17:16.666649",
     "exception": false,
     "start_time": "2020-09-28T15:17:16.578364",
     "status": "completed"
    },
    "tags": []
   },
   "source": [
    "The Random Forest model with only important features trumps the other models in perfomance metrics. Light Gradient Boosting had a good performance as well, but not as good as Random Forest, even with the model tuned for different paramters. Logistic Regression was used a baseline model to match the other models with, and although it had good accuracy, it still was weak in performance. <br>\n",
    "\n",
    "Thus a tuned Random Forest model would be best to predict the hazardous nature of the asteroids. "
   ]
  }
 ],
 "metadata": {
  "kernelspec": {
   "display_name": "Python 3.9 (XPython)",
   "language": "python",
   "name": "xpython"
  },
  "language_info": {
   "codemirror_mode": {
    "name": "ipython",
    "version": 3
   },
   "file_extension": ".py",
   "mimetype": "text/x-python",
   "name": "python",
   "nbconvert_exporter": "python",
   "pygments_lexer": "ipython3",
   "version": "3.9.7"
  },
  "papermill": {
   "duration": 2046.669087,
   "end_time": "2020-09-28T15:17:16.965366",
   "environment_variables": {},
   "exception": null,
   "input_path": "__notebook__.ipynb",
   "output_path": "__notebook__.ipynb",
   "parameters": {},
   "start_time": "2020-09-28T14:43:10.296279",
   "version": "2.1.0"
  }
 },
 "nbformat": 4,
 "nbformat_minor": 4
}
